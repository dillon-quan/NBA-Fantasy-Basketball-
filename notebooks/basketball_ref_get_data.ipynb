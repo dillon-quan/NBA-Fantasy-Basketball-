{
 "cells": [
  {
   "cell_type": "code",
   "execution_count": 1,
   "metadata": {
    "ExecuteTime": {
     "end_time": "2021-04-16T21:16:48.270724Z",
     "start_time": "2021-04-16T21:16:46.455896Z"
    }
   },
   "outputs": [],
   "source": [
    "import re\n",
    "import pandas as pd\n",
    "from unidecode import unidecode\n",
    "from tqdm.notebook import tqdm\n",
    "from datetime import datetime\n",
    "from collections import Counter\n",
    "pd.options.display.max_columns = 30"
   ]
  },
  {
   "cell_type": "markdown",
   "metadata": {},
   "source": [
    "### Reading tables from Basketball Reference\n",
    "\n",
    "The following parses for data from Basketball-reference.com for PerGrame and Advance Stats. The nature of the table has blank columns and rows that repeats itself multiple time. To clean the data, the following is performed.\n",
    "\n",
    "* Remove columns with column name unnamed.\n",
    "* Remove rows where entries to column Player is Player.\n",
    "* Certain Names have latin characters which will make it hard to connect basketball reference data to NBA.com data. Convert the Unicode to ascii.\n",
    "* Replace % to perc in column name.\n",
    "* Add a season column to it."
   ]
  },
  {
   "cell_type": "code",
   "execution_count": 2,
   "metadata": {
    "ExecuteTime": {
     "end_time": "2021-04-01T03:37:21.223704Z",
     "start_time": "2021-04-01T03:37:04.501266Z"
    }
   },
   "outputs": [
    {
     "data": {
      "application/vnd.jupyter.widget-view+json": {
       "model_id": "d8b33edf267c44fc9e9bae088b1ee7ae",
       "version_major": 2,
       "version_minor": 0
      },
      "text/plain": [
       "HBox(children=(FloatProgress(value=0.0, max=2.0), HTML(value='')))"
      ]
     },
     "metadata": {},
     "output_type": "display_data"
    },
    {
     "name": "stdout",
     "output_type": "stream",
     "text": [
      "\n"
     ]
    }
   ],
   "source": [
    "# advance and per game stats\n",
    "years = ['2014-15', '2015-16', '2016-2017', '2017-18', '2018-19', '2019-20', '2020-21']\n",
    "for stat in tqdm(['per_game', 'advanced']):\n",
    "    first_flag = True\n",
    "    for idx, year in enumerate(['2015', '2016', '2017', '2018', '2019', '2020', '2021']):\n",
    "        # read in the html table from link\n",
    "        df = pd.read_html(f\"https://www.basketball-reference.com/leagues/NBA_{year}_advanced.html\")[0]\n",
    "        # cleaning the data\n",
    "        drop_cols = [col for col in list(df.columns) if re.search('unnamed', col.lower())]\n",
    "        df = df.drop(columns=drop_cols)\n",
    "        cols = [re.sub('%','_perc', col) for col in list(df.columns)]\n",
    "        df.columns = cols\n",
    "        df['Player'] = df.Player.apply(unidecode)\n",
    "        df['Season'] = years[idx]\n",
    "        if first_flag:\n",
    "            df.to_csv(f\"{stat}.csv\", index=False, mode='w')\n",
    "            first_flag = False\n",
    "        else:\n",
    "            df.to_csv(f\"{stat}.csv\", index=False, header=False, mode='a')"
   ]
  },
  {
   "cell_type": "markdown",
   "metadata": {},
   "source": [
    "### Schedule games"
   ]
  },
  {
   "cell_type": "code",
   "execution_count": 2,
   "metadata": {
    "ExecuteTime": {
     "end_time": "2021-04-16T21:16:49.828577Z",
     "start_time": "2021-04-16T21:16:49.819075Z"
    }
   },
   "outputs": [],
   "source": [
    "def remove_dow(val):\n",
    "    return ','.join(val.split(',')[1:])\n",
    "\n",
    "def dow_extract(val):\n",
    "    return val.split(',')[0]\n",
    "\n",
    "def mdy_to_ymd(d):\n",
    "    return datetime.strptime(d, '%b %d, %Y').strftime('%m/%d/%Y')"
   ]
  },
  {
   "cell_type": "code",
   "execution_count": 9,
   "metadata": {
    "ExecuteTime": {
     "end_time": "2021-04-16T21:18:20.492798Z",
     "start_time": "2021-04-16T21:18:18.686239Z"
    }
   },
   "outputs": [
    {
     "data": {
      "application/vnd.jupyter.widget-view+json": {
       "model_id": "b5bc092695d84216a577ec3d4c32ba3f",
       "version_major": 2,
       "version_minor": 0
      },
      "text/plain": [
       "HBox(children=(FloatProgress(value=0.0, max=6.0), HTML(value='')))"
      ]
     },
     "metadata": {},
     "output_type": "display_data"
    },
    {
     "name": "stdout",
     "output_type": "stream",
     "text": [
      "\n"
     ]
    }
   ],
   "source": [
    "first_flag=True\n",
    "for month in tqdm(['december', 'january', 'february', 'march', 'april', 'may']):\n",
    "    url = f'https://www.basketball-reference.com/leagues/NBA_2021_games-{month}.html'\n",
    "    df = pd.read_html(url)[0]\n",
    "    df.columns = [col.lower() for col in df.columns]\n",
    "    drop_cols = [col for col in list(df.columns) if re.search('unnamed|\\s', col.lower())]\n",
    "    drop_cols += ['notes', 'attend.']\n",
    "    df = df.drop(columns=drop_cols)\n",
    "    df.rename(columns={'visitor/neutral':'visitor', 'home/neutral':'home', 'pts':'vistor_pts', 'pts.1':'home_pts'}, inplace=True)\n",
    "    df['dow'] = df.date.apply(dow_extract)\n",
    "    df['date'] = df.date.apply(remove_dow)\n",
    "    df['date'] = df.date.str.lstrip()\n",
    "    df['date'] = df.date.apply(mdy_to_ymd)\n",
    "    if first_flag:\n",
    "        df.to_csv(f\"2021_schedule.csv\", index=False, mode='w')\n",
    "        first_flag = False\n",
    "    else:\n",
    "        df.to_csv(f\"2021_schedule.csv\", index=False, header=False, mode='a')"
   ]
  },
  {
   "cell_type": "code",
   "execution_count": 14,
   "metadata": {
    "ExecuteTime": {
     "end_time": "2021-04-16T21:18:39.032159Z",
     "start_time": "2021-04-16T21:18:38.997161Z"
    }
   },
   "outputs": [
    {
     "data": {
      "text/html": [
       "<div>\n",
       "<style scoped>\n",
       "    .dataframe tbody tr th:only-of-type {\n",
       "        vertical-align: middle;\n",
       "    }\n",
       "\n",
       "    .dataframe tbody tr th {\n",
       "        vertical-align: top;\n",
       "    }\n",
       "\n",
       "    .dataframe thead th {\n",
       "        text-align: right;\n",
       "    }\n",
       "</style>\n",
       "<table border=\"1\" class=\"dataframe\">\n",
       "  <thead>\n",
       "    <tr style=\"text-align: right;\">\n",
       "      <th></th>\n",
       "      <th>date</th>\n",
       "      <th>visitor</th>\n",
       "      <th>vistor_pts</th>\n",
       "      <th>home</th>\n",
       "      <th>home_pts</th>\n",
       "      <th>dow</th>\n",
       "      <th>week</th>\n",
       "    </tr>\n",
       "  </thead>\n",
       "  <tbody>\n",
       "    <tr>\n",
       "      <th>0</th>\n",
       "      <td>12/22/2020</td>\n",
       "      <td>Golden State Warriors</td>\n",
       "      <td>99.0</td>\n",
       "      <td>Brooklyn Nets</td>\n",
       "      <td>125.0</td>\n",
       "      <td>Tue</td>\n",
       "      <td>Week 1</td>\n",
       "    </tr>\n",
       "    <tr>\n",
       "      <th>1</th>\n",
       "      <td>12/22/2020</td>\n",
       "      <td>Los Angeles Clippers</td>\n",
       "      <td>116.0</td>\n",
       "      <td>Los Angeles Lakers</td>\n",
       "      <td>109.0</td>\n",
       "      <td>Tue</td>\n",
       "      <td>Week 1</td>\n",
       "    </tr>\n",
       "    <tr>\n",
       "      <th>2</th>\n",
       "      <td>12/23/2020</td>\n",
       "      <td>Charlotte Hornets</td>\n",
       "      <td>114.0</td>\n",
       "      <td>Cleveland Cavaliers</td>\n",
       "      <td>121.0</td>\n",
       "      <td>Wed</td>\n",
       "      <td>Week 1</td>\n",
       "    </tr>\n",
       "    <tr>\n",
       "      <th>3</th>\n",
       "      <td>12/23/2020</td>\n",
       "      <td>New York Knicks</td>\n",
       "      <td>107.0</td>\n",
       "      <td>Indiana Pacers</td>\n",
       "      <td>121.0</td>\n",
       "      <td>Wed</td>\n",
       "      <td>Week 1</td>\n",
       "    </tr>\n",
       "    <tr>\n",
       "      <th>4</th>\n",
       "      <td>12/23/2020</td>\n",
       "      <td>Miami Heat</td>\n",
       "      <td>107.0</td>\n",
       "      <td>Orlando Magic</td>\n",
       "      <td>113.0</td>\n",
       "      <td>Wed</td>\n",
       "      <td>Week 1</td>\n",
       "    </tr>\n",
       "  </tbody>\n",
       "</table>\n",
       "</div>"
      ],
      "text/plain": [
       "         date                visitor  vistor_pts                 home  \\\n",
       "0  12/22/2020  Golden State Warriors        99.0        Brooklyn Nets   \n",
       "1  12/22/2020   Los Angeles Clippers       116.0   Los Angeles Lakers   \n",
       "2  12/23/2020      Charlotte Hornets       114.0  Cleveland Cavaliers   \n",
       "3  12/23/2020        New York Knicks       107.0       Indiana Pacers   \n",
       "4  12/23/2020             Miami Heat       107.0        Orlando Magic   \n",
       "\n",
       "   home_pts  dow    week  \n",
       "0     125.0  Tue  Week 1  \n",
       "1     109.0  Tue  Week 1  \n",
       "2     121.0  Wed  Week 1  \n",
       "3     121.0  Wed  Week 1  \n",
       "4     113.0  Wed  Week 1  "
      ]
     },
     "execution_count": 14,
     "metadata": {},
     "output_type": "execute_result"
    }
   ],
   "source": [
    "df_t = pd.read_csv('2021_schedule.csv')\n",
    "temp = df_t[['dow', 'date']].loc[(df_t['dow'] == 'Sun')].drop_duplicates().reset_index()\n",
    "for idx, _ in temp.iterrows():\n",
    "    temp.loc[idx, 'week'] = f'Week {idx+1}'\n",
    "df_t = df_t.merge(temp[['date', 'week']], on='date', how='left')\n",
    "df_t['week'] = df_t.week.fillna(method='bfill')\n",
    "df_t.to_csv('final_2021_schedule.csv', index=False)"
   ]
  },
  {
   "cell_type": "markdown",
   "metadata": {},
   "source": [
    "### bar chart"
   ]
  },
  {
   "cell_type": "code",
   "execution_count": 34,
   "metadata": {
    "ExecuteTime": {
     "end_time": "2021-04-16T21:32:53.239721Z",
     "start_time": "2021-04-16T21:32:53.229665Z"
    }
   },
   "outputs": [],
   "source": [
    "visitor = Counter(df_t.loc[(df_t.week == 'Week 1')].visitor.values)\n",
    "home = Counter(df_t.loc[(df_t.week == 'Week 1')].home.values)\n",
    "game_count = home + visitor"
   ]
  },
  {
   "cell_type": "code",
   "execution_count": 39,
   "metadata": {
    "ExecuteTime": {
     "end_time": "2021-04-16T21:50:54.608985Z",
     "start_time": "2021-04-16T21:50:54.580291Z"
    }
   },
   "outputs": [],
   "source": [
    "data = pd.DataFrame({'Team': list(game_count.keys()), 'n_games': list(game_count.values())})"
   ]
  },
  {
   "cell_type": "code",
   "execution_count": 40,
   "metadata": {
    "ExecuteTime": {
     "end_time": "2021-04-16T21:51:00.720162Z",
     "start_time": "2021-04-16T21:50:56.462153Z"
    }
   },
   "outputs": [],
   "source": [
    "import plotly.express as px"
   ]
  },
  {
   "cell_type": "code",
   "execution_count": 50,
   "metadata": {
    "ExecuteTime": {
     "end_time": "2021-04-16T22:18:28.093418Z",
     "start_time": "2021-04-16T22:18:28.083669Z"
    }
   },
   "outputs": [],
   "source": [
    " color_discrete_map={\"Brooklyn Nets\": '#000000', \"Los Angeles Lakers\": '#552781',\"Cleveland Cavaliers\": '#6F263D',\n",
    "                    \"Indiana Pacers\": '#041F43', \"Orlando Magic\": '#287DC5', \"Philadelphia 76ers\": '#1560BD',\n",
    "                    \"Toronto Raptors\": '#B52F25', 'Boston Celtics': '#3D7B35', 'Chicago Bulls': '#D5392E',\n",
    "                    \"Memphis Grizzlies\": '#05274A', \"Minnesota Timberwolves\": '#236193', 'Denver Nuggets': '#0F2340',\n",
    "                    'Portland Trail Blazers': '#000000', 'Phoenix Suns': '#1F1861', 'Miami Heat': '#000000',\n",
    "                    'Milwaukee Bucks': '#2D5234', 'Charlotte Hornets': '#3B8DAA', 'Detroit Pistons': '#0C519A',\n",
    "                    'Washington Wizards': '#C73531', 'New York Knicks': '#0C54A0', 'San Antonio Spurs': '#000000',\n",
    "                    'Utah Jazz': '#00275E', 'Sacramento Kings': '#393997', 'Los Angeles Clippers': '#D73932',\n",
    "                    'New Orleans Pelicans': '#0C2340', 'Golden State Warriors': '#0D529C', 'Alanta Hawks':'#DD3C3D',\n",
    "                    'Dallas Mavericks': '#0157B8', 'Oklahoma City Thunder': '#297CC2', 'Houston Rockets': '#DA3A2F'}"
   ]
  },
  {
   "cell_type": "code",
   "execution_count": 59,
   "metadata": {
    "ExecuteTime": {
     "end_time": "2021-04-16T22:34:11.919094Z",
     "start_time": "2021-04-16T22:34:11.691902Z"
    }
   },
   "outputs": [
    {
     "data": {
      "application/vnd.plotly.v1+json": {
       "config": {
        "plotlyServerURL": "https://plot.ly"
       },
       "data": [
        {
         "alignmentgroup": "True",
         "hovertemplate": "Team=%{y}<br>n_games=%{x}<extra></extra>",
         "legendgroup": "Brooklyn Nets",
         "marker": {
          "color": "#000000"
         },
         "name": "Brooklyn Nets",
         "offsetgroup": "Brooklyn Nets",
         "orientation": "h",
         "showlegend": true,
         "textposition": "auto",
         "type": "bar",
         "x": [
          3
         ],
         "xaxis": "x",
         "y": [
          "Brooklyn Nets"
         ],
         "yaxis": "y"
        },
        {
         "alignmentgroup": "True",
         "hovertemplate": "Team=%{y}<br>n_games=%{x}<extra></extra>",
         "legendgroup": "Los Angeles Lakers",
         "marker": {
          "color": "#552781"
         },
         "name": "Los Angeles Lakers",
         "offsetgroup": "Los Angeles Lakers",
         "orientation": "h",
         "showlegend": true,
         "textposition": "auto",
         "type": "bar",
         "x": [
          3
         ],
         "xaxis": "x",
         "y": [
          "Los Angeles Lakers"
         ],
         "yaxis": "y"
        },
        {
         "alignmentgroup": "True",
         "hovertemplate": "Team=%{y}<br>n_games=%{x}<extra></extra>",
         "legendgroup": "Cleveland Cavaliers",
         "marker": {
          "color": "#6F263D"
         },
         "name": "Cleveland Cavaliers",
         "offsetgroup": "Cleveland Cavaliers",
         "orientation": "h",
         "showlegend": true,
         "textposition": "auto",
         "type": "bar",
         "x": [
          3
         ],
         "xaxis": "x",
         "y": [
          "Cleveland Cavaliers"
         ],
         "yaxis": "y"
        },
        {
         "alignmentgroup": "True",
         "hovertemplate": "Team=%{y}<br>n_games=%{x}<extra></extra>",
         "legendgroup": "Indiana Pacers",
         "marker": {
          "color": "#041F43"
         },
         "name": "Indiana Pacers",
         "offsetgroup": "Indiana Pacers",
         "orientation": "h",
         "showlegend": true,
         "textposition": "auto",
         "type": "bar",
         "x": [
          3
         ],
         "xaxis": "x",
         "y": [
          "Indiana Pacers"
         ],
         "yaxis": "y"
        },
        {
         "alignmentgroup": "True",
         "hovertemplate": "Team=%{y}<br>n_games=%{x}<extra></extra>",
         "legendgroup": "Orlando Magic",
         "marker": {
          "color": "#287DC5"
         },
         "name": "Orlando Magic",
         "offsetgroup": "Orlando Magic",
         "orientation": "h",
         "showlegend": true,
         "textposition": "auto",
         "type": "bar",
         "x": [
          3
         ],
         "xaxis": "x",
         "y": [
          "Orlando Magic"
         ],
         "yaxis": "y"
        },
        {
         "alignmentgroup": "True",
         "hovertemplate": "Team=%{y}<br>n_games=%{x}<extra></extra>",
         "legendgroup": "Philadelphia 76ers",
         "marker": {
          "color": "#1560BD"
         },
         "name": "Philadelphia 76ers",
         "offsetgroup": "Philadelphia 76ers",
         "orientation": "h",
         "showlegend": true,
         "textposition": "auto",
         "type": "bar",
         "x": [
          3
         ],
         "xaxis": "x",
         "y": [
          "Philadelphia 76ers"
         ],
         "yaxis": "y"
        },
        {
         "alignmentgroup": "True",
         "hovertemplate": "Team=%{y}<br>n_games=%{x}<extra></extra>",
         "legendgroup": "Toronto Raptors",
         "marker": {
          "color": "#B52F25"
         },
         "name": "Toronto Raptors",
         "offsetgroup": "Toronto Raptors",
         "orientation": "h",
         "showlegend": true,
         "textposition": "auto",
         "type": "bar",
         "x": [
          2
         ],
         "xaxis": "x",
         "y": [
          "Toronto Raptors"
         ],
         "yaxis": "y"
        },
        {
         "alignmentgroup": "True",
         "hovertemplate": "Team=%{y}<br>n_games=%{x}<extra></extra>",
         "legendgroup": "Boston Celtics",
         "marker": {
          "color": "#3D7B35"
         },
         "name": "Boston Celtics",
         "offsetgroup": "Boston Celtics",
         "orientation": "h",
         "showlegend": true,
         "textposition": "auto",
         "type": "bar",
         "x": [
          3
         ],
         "xaxis": "x",
         "y": [
          "Boston Celtics"
         ],
         "yaxis": "y"
        },
        {
         "alignmentgroup": "True",
         "hovertemplate": "Team=%{y}<br>n_games=%{x}<extra></extra>",
         "legendgroup": "Chicago Bulls",
         "marker": {
          "color": "#D5392E"
         },
         "name": "Chicago Bulls",
         "offsetgroup": "Chicago Bulls",
         "orientation": "h",
         "showlegend": true,
         "textposition": "auto",
         "type": "bar",
         "x": [
          3
         ],
         "xaxis": "x",
         "y": [
          "Chicago Bulls"
         ],
         "yaxis": "y"
        },
        {
         "alignmentgroup": "True",
         "hovertemplate": "Team=%{y}<br>n_games=%{x}<extra></extra>",
         "legendgroup": "Memphis Grizzlies",
         "marker": {
          "color": "#05274A"
         },
         "name": "Memphis Grizzlies",
         "offsetgroup": "Memphis Grizzlies",
         "orientation": "h",
         "showlegend": true,
         "textposition": "auto",
         "type": "bar",
         "x": [
          2
         ],
         "xaxis": "x",
         "y": [
          "Memphis Grizzlies"
         ],
         "yaxis": "y"
        },
        {
         "alignmentgroup": "True",
         "hovertemplate": "Team=%{y}<br>n_games=%{x}<extra></extra>",
         "legendgroup": "Minnesota Timberwolves",
         "marker": {
          "color": "#236193"
         },
         "name": "Minnesota Timberwolves",
         "offsetgroup": "Minnesota Timberwolves",
         "orientation": "h",
         "showlegend": true,
         "textposition": "auto",
         "type": "bar",
         "x": [
          3
         ],
         "xaxis": "x",
         "y": [
          "Minnesota Timberwolves"
         ],
         "yaxis": "y"
        },
        {
         "alignmentgroup": "True",
         "hovertemplate": "Team=%{y}<br>n_games=%{x}<extra></extra>",
         "legendgroup": "Denver Nuggets",
         "marker": {
          "color": "#0F2340"
         },
         "name": "Denver Nuggets",
         "offsetgroup": "Denver Nuggets",
         "orientation": "h",
         "showlegend": true,
         "textposition": "auto",
         "type": "bar",
         "x": [
          2
         ],
         "xaxis": "x",
         "y": [
          "Denver Nuggets"
         ],
         "yaxis": "y"
        },
        {
         "alignmentgroup": "True",
         "hovertemplate": "Team=%{y}<br>n_games=%{x}<extra></extra>",
         "legendgroup": "Portland Trail Blazers",
         "marker": {
          "color": "#000000"
         },
         "name": "Portland Trail Blazers",
         "offsetgroup": "Portland Trail Blazers",
         "orientation": "h",
         "showlegend": true,
         "textposition": "auto",
         "type": "bar",
         "x": [
          2
         ],
         "xaxis": "x",
         "y": [
          "Portland Trail Blazers"
         ],
         "yaxis": "y"
        },
        {
         "alignmentgroup": "True",
         "hovertemplate": "Team=%{y}<br>n_games=%{x}<extra></extra>",
         "legendgroup": "Phoenix Suns",
         "marker": {
          "color": "#1F1861"
         },
         "name": "Phoenix Suns",
         "offsetgroup": "Phoenix Suns",
         "orientation": "h",
         "showlegend": true,
         "textposition": "auto",
         "type": "bar",
         "x": [
          3
         ],
         "xaxis": "x",
         "y": [
          "Phoenix Suns"
         ],
         "yaxis": "y"
        },
        {
         "alignmentgroup": "True",
         "hovertemplate": "Team=%{y}<br>n_games=%{x}<extra></extra>",
         "legendgroup": "Miami Heat",
         "marker": {
          "color": "#000000"
         },
         "name": "Miami Heat",
         "offsetgroup": "Miami Heat",
         "orientation": "h",
         "showlegend": true,
         "textposition": "auto",
         "type": "bar",
         "x": [
          2
         ],
         "xaxis": "x",
         "y": [
          "Miami Heat"
         ],
         "yaxis": "y"
        },
        {
         "alignmentgroup": "True",
         "hovertemplate": "Team=%{y}<br>n_games=%{x}<extra></extra>",
         "legendgroup": "Milwaukee Bucks",
         "marker": {
          "color": "#2D5234"
         },
         "name": "Milwaukee Bucks",
         "offsetgroup": "Milwaukee Bucks",
         "orientation": "h",
         "showlegend": true,
         "textposition": "auto",
         "type": "bar",
         "x": [
          3
         ],
         "xaxis": "x",
         "y": [
          "Milwaukee Bucks"
         ],
         "yaxis": "y"
        },
        {
         "alignmentgroup": "True",
         "hovertemplate": "Team=%{y}<br>n_games=%{x}<extra></extra>",
         "legendgroup": "Charlotte Hornets",
         "marker": {
          "color": "#3B8DAA"
         },
         "name": "Charlotte Hornets",
         "offsetgroup": "Charlotte Hornets",
         "orientation": "h",
         "showlegend": true,
         "textposition": "auto",
         "type": "bar",
         "x": [
          3
         ],
         "xaxis": "x",
         "y": [
          "Charlotte Hornets"
         ],
         "yaxis": "y"
        },
        {
         "alignmentgroup": "True",
         "hovertemplate": "Team=%{y}<br>n_games=%{x}<extra></extra>",
         "legendgroup": "Detroit Pistons",
         "marker": {
          "color": "#0C519A"
         },
         "name": "Detroit Pistons",
         "offsetgroup": "Detroit Pistons",
         "orientation": "h",
         "showlegend": true,
         "textposition": "auto",
         "type": "bar",
         "x": [
          2
         ],
         "xaxis": "x",
         "y": [
          "Detroit Pistons"
         ],
         "yaxis": "y"
        },
        {
         "alignmentgroup": "True",
         "hovertemplate": "Team=%{y}<br>n_games=%{x}<extra></extra>",
         "legendgroup": "Washington Wizards",
         "marker": {
          "color": "#C73531"
         },
         "name": "Washington Wizards",
         "offsetgroup": "Washington Wizards",
         "orientation": "h",
         "showlegend": true,
         "textposition": "auto",
         "type": "bar",
         "x": [
          3
         ],
         "xaxis": "x",
         "y": [
          "Washington Wizards"
         ],
         "yaxis": "y"
        },
        {
         "alignmentgroup": "True",
         "hovertemplate": "Team=%{y}<br>n_games=%{x}<extra></extra>",
         "legendgroup": "New York Knicks",
         "marker": {
          "color": "#0C54A0"
         },
         "name": "New York Knicks",
         "offsetgroup": "New York Knicks",
         "orientation": "h",
         "showlegend": true,
         "textposition": "auto",
         "type": "bar",
         "x": [
          3
         ],
         "xaxis": "x",
         "y": [
          "New York Knicks"
         ],
         "yaxis": "y"
        },
        {
         "alignmentgroup": "True",
         "hovertemplate": "Team=%{y}<br>n_games=%{x}<extra></extra>",
         "legendgroup": "San Antonio Spurs",
         "marker": {
          "color": "#000000"
         },
         "name": "San Antonio Spurs",
         "offsetgroup": "San Antonio Spurs",
         "orientation": "h",
         "showlegend": true,
         "textposition": "auto",
         "type": "bar",
         "x": [
          3
         ],
         "xaxis": "x",
         "y": [
          "San Antonio Spurs"
         ],
         "yaxis": "y"
        },
        {
         "alignmentgroup": "True",
         "hovertemplate": "Team=%{y}<br>n_games=%{x}<extra></extra>",
         "legendgroup": "Utah Jazz",
         "marker": {
          "color": "#00275E"
         },
         "name": "Utah Jazz",
         "offsetgroup": "Utah Jazz",
         "orientation": "h",
         "showlegend": true,
         "textposition": "auto",
         "type": "bar",
         "x": [
          2
         ],
         "xaxis": "x",
         "y": [
          "Utah Jazz"
         ],
         "yaxis": "y"
        },
        {
         "alignmentgroup": "True",
         "hovertemplate": "Team=%{y}<br>n_games=%{x}<extra></extra>",
         "legendgroup": "Sacramento Kings",
         "marker": {
          "color": "#393997"
         },
         "name": "Sacramento Kings",
         "offsetgroup": "Sacramento Kings",
         "orientation": "h",
         "showlegend": true,
         "textposition": "auto",
         "type": "bar",
         "x": [
          3
         ],
         "xaxis": "x",
         "y": [
          "Sacramento Kings"
         ],
         "yaxis": "y"
        },
        {
         "alignmentgroup": "True",
         "hovertemplate": "Team=%{y}<br>n_games=%{x}<extra></extra>",
         "legendgroup": "Los Angeles Clippers",
         "marker": {
          "color": "#D73932"
         },
         "name": "Los Angeles Clippers",
         "offsetgroup": "Los Angeles Clippers",
         "orientation": "h",
         "showlegend": true,
         "textposition": "auto",
         "type": "bar",
         "x": [
          3
         ],
         "xaxis": "x",
         "y": [
          "Los Angeles Clippers"
         ],
         "yaxis": "y"
        },
        {
         "alignmentgroup": "True",
         "hovertemplate": "Team=%{y}<br>n_games=%{x}<extra></extra>",
         "legendgroup": "New Orleans Pelicans",
         "marker": {
          "color": "#0C2340"
         },
         "name": "New Orleans Pelicans",
         "offsetgroup": "New Orleans Pelicans",
         "orientation": "h",
         "showlegend": true,
         "textposition": "auto",
         "type": "bar",
         "x": [
          3
         ],
         "xaxis": "x",
         "y": [
          "New Orleans Pelicans"
         ],
         "yaxis": "y"
        },
        {
         "alignmentgroup": "True",
         "hovertemplate": "Team=%{y}<br>n_games=%{x}<extra></extra>",
         "legendgroup": "Golden State Warriors",
         "marker": {
          "color": "#0D529C"
         },
         "name": "Golden State Warriors",
         "offsetgroup": "Golden State Warriors",
         "orientation": "h",
         "showlegend": true,
         "textposition": "auto",
         "type": "bar",
         "x": [
          3
         ],
         "xaxis": "x",
         "y": [
          "Golden State Warriors"
         ],
         "yaxis": "y"
        },
        {
         "alignmentgroup": "True",
         "hovertemplate": "Team=%{y}<br>n_games=%{x}<extra></extra>",
         "legendgroup": "Atlanta Hawks",
         "marker": {
          "color": "#636efa"
         },
         "name": "Atlanta Hawks",
         "offsetgroup": "Atlanta Hawks",
         "orientation": "h",
         "showlegend": true,
         "textposition": "auto",
         "type": "bar",
         "x": [
          2
         ],
         "xaxis": "x",
         "y": [
          "Atlanta Hawks"
         ],
         "yaxis": "y"
        },
        {
         "alignmentgroup": "True",
         "hovertemplate": "Team=%{y}<br>n_games=%{x}<extra></extra>",
         "legendgroup": "Dallas Mavericks",
         "marker": {
          "color": "#0157B8"
         },
         "name": "Dallas Mavericks",
         "offsetgroup": "Dallas Mavericks",
         "orientation": "h",
         "showlegend": true,
         "textposition": "auto",
         "type": "bar",
         "x": [
          3
         ],
         "xaxis": "x",
         "y": [
          "Dallas Mavericks"
         ],
         "yaxis": "y"
        },
        {
         "alignmentgroup": "True",
         "hovertemplate": "Team=%{y}<br>n_games=%{x}<extra></extra>",
         "legendgroup": "Oklahoma City Thunder",
         "marker": {
          "color": "#297CC2"
         },
         "name": "Oklahoma City Thunder",
         "offsetgroup": "Oklahoma City Thunder",
         "orientation": "h",
         "showlegend": true,
         "textposition": "auto",
         "type": "bar",
         "x": [
          1
         ],
         "xaxis": "x",
         "y": [
          "Oklahoma City Thunder"
         ],
         "yaxis": "y"
        },
        {
         "alignmentgroup": "True",
         "hovertemplate": "Team=%{y}<br>n_games=%{x}<extra></extra>",
         "legendgroup": "Houston Rockets",
         "marker": {
          "color": "#DA3A2F"
         },
         "name": "Houston Rockets",
         "offsetgroup": "Houston Rockets",
         "orientation": "h",
         "showlegend": true,
         "textposition": "auto",
         "type": "bar",
         "x": [
          1
         ],
         "xaxis": "x",
         "y": [
          "Houston Rockets"
         ],
         "yaxis": "y"
        }
       ],
       "layout": {
        "barmode": "relative",
        "height": 800,
        "legend": {
         "title": {
          "text": "Team"
         },
         "tracegroupgap": 0
        },
        "margin": {
         "t": 60
        },
        "template": {
         "data": {
          "bar": [
           {
            "error_x": {
             "color": "#2a3f5f"
            },
            "error_y": {
             "color": "#2a3f5f"
            },
            "marker": {
             "line": {
              "color": "#E5ECF6",
              "width": 0.5
             }
            },
            "type": "bar"
           }
          ],
          "barpolar": [
           {
            "marker": {
             "line": {
              "color": "#E5ECF6",
              "width": 0.5
             }
            },
            "type": "barpolar"
           }
          ],
          "carpet": [
           {
            "aaxis": {
             "endlinecolor": "#2a3f5f",
             "gridcolor": "white",
             "linecolor": "white",
             "minorgridcolor": "white",
             "startlinecolor": "#2a3f5f"
            },
            "baxis": {
             "endlinecolor": "#2a3f5f",
             "gridcolor": "white",
             "linecolor": "white",
             "minorgridcolor": "white",
             "startlinecolor": "#2a3f5f"
            },
            "type": "carpet"
           }
          ],
          "choropleth": [
           {
            "colorbar": {
             "outlinewidth": 0,
             "ticks": ""
            },
            "type": "choropleth"
           }
          ],
          "contour": [
           {
            "colorbar": {
             "outlinewidth": 0,
             "ticks": ""
            },
            "colorscale": [
             [
              0,
              "#0d0887"
             ],
             [
              0.1111111111111111,
              "#46039f"
             ],
             [
              0.2222222222222222,
              "#7201a8"
             ],
             [
              0.3333333333333333,
              "#9c179e"
             ],
             [
              0.4444444444444444,
              "#bd3786"
             ],
             [
              0.5555555555555556,
              "#d8576b"
             ],
             [
              0.6666666666666666,
              "#ed7953"
             ],
             [
              0.7777777777777778,
              "#fb9f3a"
             ],
             [
              0.8888888888888888,
              "#fdca26"
             ],
             [
              1,
              "#f0f921"
             ]
            ],
            "type": "contour"
           }
          ],
          "contourcarpet": [
           {
            "colorbar": {
             "outlinewidth": 0,
             "ticks": ""
            },
            "type": "contourcarpet"
           }
          ],
          "heatmap": [
           {
            "colorbar": {
             "outlinewidth": 0,
             "ticks": ""
            },
            "colorscale": [
             [
              0,
              "#0d0887"
             ],
             [
              0.1111111111111111,
              "#46039f"
             ],
             [
              0.2222222222222222,
              "#7201a8"
             ],
             [
              0.3333333333333333,
              "#9c179e"
             ],
             [
              0.4444444444444444,
              "#bd3786"
             ],
             [
              0.5555555555555556,
              "#d8576b"
             ],
             [
              0.6666666666666666,
              "#ed7953"
             ],
             [
              0.7777777777777778,
              "#fb9f3a"
             ],
             [
              0.8888888888888888,
              "#fdca26"
             ],
             [
              1,
              "#f0f921"
             ]
            ],
            "type": "heatmap"
           }
          ],
          "heatmapgl": [
           {
            "colorbar": {
             "outlinewidth": 0,
             "ticks": ""
            },
            "colorscale": [
             [
              0,
              "#0d0887"
             ],
             [
              0.1111111111111111,
              "#46039f"
             ],
             [
              0.2222222222222222,
              "#7201a8"
             ],
             [
              0.3333333333333333,
              "#9c179e"
             ],
             [
              0.4444444444444444,
              "#bd3786"
             ],
             [
              0.5555555555555556,
              "#d8576b"
             ],
             [
              0.6666666666666666,
              "#ed7953"
             ],
             [
              0.7777777777777778,
              "#fb9f3a"
             ],
             [
              0.8888888888888888,
              "#fdca26"
             ],
             [
              1,
              "#f0f921"
             ]
            ],
            "type": "heatmapgl"
           }
          ],
          "histogram": [
           {
            "marker": {
             "colorbar": {
              "outlinewidth": 0,
              "ticks": ""
             }
            },
            "type": "histogram"
           }
          ],
          "histogram2d": [
           {
            "colorbar": {
             "outlinewidth": 0,
             "ticks": ""
            },
            "colorscale": [
             [
              0,
              "#0d0887"
             ],
             [
              0.1111111111111111,
              "#46039f"
             ],
             [
              0.2222222222222222,
              "#7201a8"
             ],
             [
              0.3333333333333333,
              "#9c179e"
             ],
             [
              0.4444444444444444,
              "#bd3786"
             ],
             [
              0.5555555555555556,
              "#d8576b"
             ],
             [
              0.6666666666666666,
              "#ed7953"
             ],
             [
              0.7777777777777778,
              "#fb9f3a"
             ],
             [
              0.8888888888888888,
              "#fdca26"
             ],
             [
              1,
              "#f0f921"
             ]
            ],
            "type": "histogram2d"
           }
          ],
          "histogram2dcontour": [
           {
            "colorbar": {
             "outlinewidth": 0,
             "ticks": ""
            },
            "colorscale": [
             [
              0,
              "#0d0887"
             ],
             [
              0.1111111111111111,
              "#46039f"
             ],
             [
              0.2222222222222222,
              "#7201a8"
             ],
             [
              0.3333333333333333,
              "#9c179e"
             ],
             [
              0.4444444444444444,
              "#bd3786"
             ],
             [
              0.5555555555555556,
              "#d8576b"
             ],
             [
              0.6666666666666666,
              "#ed7953"
             ],
             [
              0.7777777777777778,
              "#fb9f3a"
             ],
             [
              0.8888888888888888,
              "#fdca26"
             ],
             [
              1,
              "#f0f921"
             ]
            ],
            "type": "histogram2dcontour"
           }
          ],
          "mesh3d": [
           {
            "colorbar": {
             "outlinewidth": 0,
             "ticks": ""
            },
            "type": "mesh3d"
           }
          ],
          "parcoords": [
           {
            "line": {
             "colorbar": {
              "outlinewidth": 0,
              "ticks": ""
             }
            },
            "type": "parcoords"
           }
          ],
          "pie": [
           {
            "automargin": true,
            "type": "pie"
           }
          ],
          "scatter": [
           {
            "marker": {
             "colorbar": {
              "outlinewidth": 0,
              "ticks": ""
             }
            },
            "type": "scatter"
           }
          ],
          "scatter3d": [
           {
            "line": {
             "colorbar": {
              "outlinewidth": 0,
              "ticks": ""
             }
            },
            "marker": {
             "colorbar": {
              "outlinewidth": 0,
              "ticks": ""
             }
            },
            "type": "scatter3d"
           }
          ],
          "scattercarpet": [
           {
            "marker": {
             "colorbar": {
              "outlinewidth": 0,
              "ticks": ""
             }
            },
            "type": "scattercarpet"
           }
          ],
          "scattergeo": [
           {
            "marker": {
             "colorbar": {
              "outlinewidth": 0,
              "ticks": ""
             }
            },
            "type": "scattergeo"
           }
          ],
          "scattergl": [
           {
            "marker": {
             "colorbar": {
              "outlinewidth": 0,
              "ticks": ""
             }
            },
            "type": "scattergl"
           }
          ],
          "scattermapbox": [
           {
            "marker": {
             "colorbar": {
              "outlinewidth": 0,
              "ticks": ""
             }
            },
            "type": "scattermapbox"
           }
          ],
          "scatterpolar": [
           {
            "marker": {
             "colorbar": {
              "outlinewidth": 0,
              "ticks": ""
             }
            },
            "type": "scatterpolar"
           }
          ],
          "scatterpolargl": [
           {
            "marker": {
             "colorbar": {
              "outlinewidth": 0,
              "ticks": ""
             }
            },
            "type": "scatterpolargl"
           }
          ],
          "scatterternary": [
           {
            "marker": {
             "colorbar": {
              "outlinewidth": 0,
              "ticks": ""
             }
            },
            "type": "scatterternary"
           }
          ],
          "surface": [
           {
            "colorbar": {
             "outlinewidth": 0,
             "ticks": ""
            },
            "colorscale": [
             [
              0,
              "#0d0887"
             ],
             [
              0.1111111111111111,
              "#46039f"
             ],
             [
              0.2222222222222222,
              "#7201a8"
             ],
             [
              0.3333333333333333,
              "#9c179e"
             ],
             [
              0.4444444444444444,
              "#bd3786"
             ],
             [
              0.5555555555555556,
              "#d8576b"
             ],
             [
              0.6666666666666666,
              "#ed7953"
             ],
             [
              0.7777777777777778,
              "#fb9f3a"
             ],
             [
              0.8888888888888888,
              "#fdca26"
             ],
             [
              1,
              "#f0f921"
             ]
            ],
            "type": "surface"
           }
          ],
          "table": [
           {
            "cells": {
             "fill": {
              "color": "#EBF0F8"
             },
             "line": {
              "color": "white"
             }
            },
            "header": {
             "fill": {
              "color": "#C8D4E3"
             },
             "line": {
              "color": "white"
             }
            },
            "type": "table"
           }
          ]
         },
         "layout": {
          "annotationdefaults": {
           "arrowcolor": "#2a3f5f",
           "arrowhead": 0,
           "arrowwidth": 1
          },
          "autotypenumbers": "strict",
          "coloraxis": {
           "colorbar": {
            "outlinewidth": 0,
            "ticks": ""
           }
          },
          "colorscale": {
           "diverging": [
            [
             0,
             "#8e0152"
            ],
            [
             0.1,
             "#c51b7d"
            ],
            [
             0.2,
             "#de77ae"
            ],
            [
             0.3,
             "#f1b6da"
            ],
            [
             0.4,
             "#fde0ef"
            ],
            [
             0.5,
             "#f7f7f7"
            ],
            [
             0.6,
             "#e6f5d0"
            ],
            [
             0.7,
             "#b8e186"
            ],
            [
             0.8,
             "#7fbc41"
            ],
            [
             0.9,
             "#4d9221"
            ],
            [
             1,
             "#276419"
            ]
           ],
           "sequential": [
            [
             0,
             "#0d0887"
            ],
            [
             0.1111111111111111,
             "#46039f"
            ],
            [
             0.2222222222222222,
             "#7201a8"
            ],
            [
             0.3333333333333333,
             "#9c179e"
            ],
            [
             0.4444444444444444,
             "#bd3786"
            ],
            [
             0.5555555555555556,
             "#d8576b"
            ],
            [
             0.6666666666666666,
             "#ed7953"
            ],
            [
             0.7777777777777778,
             "#fb9f3a"
            ],
            [
             0.8888888888888888,
             "#fdca26"
            ],
            [
             1,
             "#f0f921"
            ]
           ],
           "sequentialminus": [
            [
             0,
             "#0d0887"
            ],
            [
             0.1111111111111111,
             "#46039f"
            ],
            [
             0.2222222222222222,
             "#7201a8"
            ],
            [
             0.3333333333333333,
             "#9c179e"
            ],
            [
             0.4444444444444444,
             "#bd3786"
            ],
            [
             0.5555555555555556,
             "#d8576b"
            ],
            [
             0.6666666666666666,
             "#ed7953"
            ],
            [
             0.7777777777777778,
             "#fb9f3a"
            ],
            [
             0.8888888888888888,
             "#fdca26"
            ],
            [
             1,
             "#f0f921"
            ]
           ]
          },
          "colorway": [
           "#636efa",
           "#EF553B",
           "#00cc96",
           "#ab63fa",
           "#FFA15A",
           "#19d3f3",
           "#FF6692",
           "#B6E880",
           "#FF97FF",
           "#FECB52"
          ],
          "font": {
           "color": "#2a3f5f"
          },
          "geo": {
           "bgcolor": "white",
           "lakecolor": "white",
           "landcolor": "#E5ECF6",
           "showlakes": true,
           "showland": true,
           "subunitcolor": "white"
          },
          "hoverlabel": {
           "align": "left"
          },
          "hovermode": "closest",
          "mapbox": {
           "style": "light"
          },
          "paper_bgcolor": "white",
          "plot_bgcolor": "#E5ECF6",
          "polar": {
           "angularaxis": {
            "gridcolor": "white",
            "linecolor": "white",
            "ticks": ""
           },
           "bgcolor": "#E5ECF6",
           "radialaxis": {
            "gridcolor": "white",
            "linecolor": "white",
            "ticks": ""
           }
          },
          "scene": {
           "xaxis": {
            "backgroundcolor": "#E5ECF6",
            "gridcolor": "white",
            "gridwidth": 2,
            "linecolor": "white",
            "showbackground": true,
            "ticks": "",
            "zerolinecolor": "white"
           },
           "yaxis": {
            "backgroundcolor": "#E5ECF6",
            "gridcolor": "white",
            "gridwidth": 2,
            "linecolor": "white",
            "showbackground": true,
            "ticks": "",
            "zerolinecolor": "white"
           },
           "zaxis": {
            "backgroundcolor": "#E5ECF6",
            "gridcolor": "white",
            "gridwidth": 2,
            "linecolor": "white",
            "showbackground": true,
            "ticks": "",
            "zerolinecolor": "white"
           }
          },
          "shapedefaults": {
           "line": {
            "color": "#2a3f5f"
           }
          },
          "ternary": {
           "aaxis": {
            "gridcolor": "white",
            "linecolor": "white",
            "ticks": ""
           },
           "baxis": {
            "gridcolor": "white",
            "linecolor": "white",
            "ticks": ""
           },
           "bgcolor": "#E5ECF6",
           "caxis": {
            "gridcolor": "white",
            "linecolor": "white",
            "ticks": ""
           }
          },
          "title": {
           "x": 0.05
          },
          "xaxis": {
           "automargin": true,
           "gridcolor": "white",
           "linecolor": "white",
           "ticks": "",
           "title": {
            "standoff": 15
           },
           "zerolinecolor": "white",
           "zerolinewidth": 2
          },
          "yaxis": {
           "automargin": true,
           "gridcolor": "white",
           "linecolor": "white",
           "ticks": "",
           "title": {
            "standoff": 15
           },
           "zerolinecolor": "white",
           "zerolinewidth": 2
          }
         }
        },
        "width": 1000,
        "xaxis": {
         "anchor": "y",
         "domain": [
          0,
          1
         ],
         "tickvals": [
          1,
          2,
          3,
          4
         ],
         "title": {
          "text": "Number of Games"
         }
        },
        "yaxis": {
         "anchor": "x",
         "categoryarray": [
          "Houston Rockets",
          "Oklahoma City Thunder",
          "Dallas Mavericks",
          "Atlanta Hawks",
          "Golden State Warriors",
          "New Orleans Pelicans",
          "Los Angeles Clippers",
          "Sacramento Kings",
          "Utah Jazz",
          "San Antonio Spurs",
          "New York Knicks",
          "Washington Wizards",
          "Detroit Pistons",
          "Charlotte Hornets",
          "Milwaukee Bucks",
          "Miami Heat",
          "Phoenix Suns",
          "Portland Trail Blazers",
          "Denver Nuggets",
          "Minnesota Timberwolves",
          "Memphis Grizzlies",
          "Chicago Bulls",
          "Boston Celtics",
          "Toronto Raptors",
          "Philadelphia 76ers",
          "Orlando Magic",
          "Indiana Pacers",
          "Cleveland Cavaliers",
          "Los Angeles Lakers",
          "Brooklyn Nets"
         ],
         "categoryorder": "array",
         "domain": [
          0,
          1
         ],
         "title": {
          "text": "Team"
         }
        }
       }
      },
      "text/html": [
       "<div>                            <div id=\"5bd68b35-e20c-44c9-a2d6-d6881ec00bc0\" class=\"plotly-graph-div\" style=\"height:800px; width:1000px;\"></div>            <script type=\"text/javascript\">                require([\"plotly\"], function(Plotly) {                    window.PLOTLYENV=window.PLOTLYENV || {};                                    if (document.getElementById(\"5bd68b35-e20c-44c9-a2d6-d6881ec00bc0\")) {                    Plotly.newPlot(                        \"5bd68b35-e20c-44c9-a2d6-d6881ec00bc0\",                        [{\"alignmentgroup\": \"True\", \"hovertemplate\": \"Team=%{y}<br>n_games=%{x}<extra></extra>\", \"legendgroup\": \"Brooklyn Nets\", \"marker\": {\"color\": \"#000000\"}, \"name\": \"Brooklyn Nets\", \"offsetgroup\": \"Brooklyn Nets\", \"orientation\": \"h\", \"showlegend\": true, \"textposition\": \"auto\", \"type\": \"bar\", \"x\": [3], \"xaxis\": \"x\", \"y\": [\"Brooklyn Nets\"], \"yaxis\": \"y\"}, {\"alignmentgroup\": \"True\", \"hovertemplate\": \"Team=%{y}<br>n_games=%{x}<extra></extra>\", \"legendgroup\": \"Los Angeles Lakers\", \"marker\": {\"color\": \"#552781\"}, \"name\": \"Los Angeles Lakers\", \"offsetgroup\": \"Los Angeles Lakers\", \"orientation\": \"h\", \"showlegend\": true, \"textposition\": \"auto\", \"type\": \"bar\", \"x\": [3], \"xaxis\": \"x\", \"y\": [\"Los Angeles Lakers\"], \"yaxis\": \"y\"}, {\"alignmentgroup\": \"True\", \"hovertemplate\": \"Team=%{y}<br>n_games=%{x}<extra></extra>\", \"legendgroup\": \"Cleveland Cavaliers\", \"marker\": {\"color\": \"#6F263D\"}, \"name\": \"Cleveland Cavaliers\", \"offsetgroup\": \"Cleveland Cavaliers\", \"orientation\": \"h\", \"showlegend\": true, \"textposition\": \"auto\", \"type\": \"bar\", \"x\": [3], \"xaxis\": \"x\", \"y\": [\"Cleveland Cavaliers\"], \"yaxis\": \"y\"}, {\"alignmentgroup\": \"True\", \"hovertemplate\": \"Team=%{y}<br>n_games=%{x}<extra></extra>\", \"legendgroup\": \"Indiana Pacers\", \"marker\": {\"color\": \"#041F43\"}, \"name\": \"Indiana Pacers\", \"offsetgroup\": \"Indiana Pacers\", \"orientation\": \"h\", \"showlegend\": true, \"textposition\": \"auto\", \"type\": \"bar\", \"x\": [3], \"xaxis\": \"x\", \"y\": [\"Indiana Pacers\"], \"yaxis\": \"y\"}, {\"alignmentgroup\": \"True\", \"hovertemplate\": \"Team=%{y}<br>n_games=%{x}<extra></extra>\", \"legendgroup\": \"Orlando Magic\", \"marker\": {\"color\": \"#287DC5\"}, \"name\": \"Orlando Magic\", \"offsetgroup\": \"Orlando Magic\", \"orientation\": \"h\", \"showlegend\": true, \"textposition\": \"auto\", \"type\": \"bar\", \"x\": [3], \"xaxis\": \"x\", \"y\": [\"Orlando Magic\"], \"yaxis\": \"y\"}, {\"alignmentgroup\": \"True\", \"hovertemplate\": \"Team=%{y}<br>n_games=%{x}<extra></extra>\", \"legendgroup\": \"Philadelphia 76ers\", \"marker\": {\"color\": \"#1560BD\"}, \"name\": \"Philadelphia 76ers\", \"offsetgroup\": \"Philadelphia 76ers\", \"orientation\": \"h\", \"showlegend\": true, \"textposition\": \"auto\", \"type\": \"bar\", \"x\": [3], \"xaxis\": \"x\", \"y\": [\"Philadelphia 76ers\"], \"yaxis\": \"y\"}, {\"alignmentgroup\": \"True\", \"hovertemplate\": \"Team=%{y}<br>n_games=%{x}<extra></extra>\", \"legendgroup\": \"Toronto Raptors\", \"marker\": {\"color\": \"#B52F25\"}, \"name\": \"Toronto Raptors\", \"offsetgroup\": \"Toronto Raptors\", \"orientation\": \"h\", \"showlegend\": true, \"textposition\": \"auto\", \"type\": \"bar\", \"x\": [2], \"xaxis\": \"x\", \"y\": [\"Toronto Raptors\"], \"yaxis\": \"y\"}, {\"alignmentgroup\": \"True\", \"hovertemplate\": \"Team=%{y}<br>n_games=%{x}<extra></extra>\", \"legendgroup\": \"Boston Celtics\", \"marker\": {\"color\": \"#3D7B35\"}, \"name\": \"Boston Celtics\", \"offsetgroup\": \"Boston Celtics\", \"orientation\": \"h\", \"showlegend\": true, \"textposition\": \"auto\", \"type\": \"bar\", \"x\": [3], \"xaxis\": \"x\", \"y\": [\"Boston Celtics\"], \"yaxis\": \"y\"}, {\"alignmentgroup\": \"True\", \"hovertemplate\": \"Team=%{y}<br>n_games=%{x}<extra></extra>\", \"legendgroup\": \"Chicago Bulls\", \"marker\": {\"color\": \"#D5392E\"}, \"name\": \"Chicago Bulls\", \"offsetgroup\": \"Chicago Bulls\", \"orientation\": \"h\", \"showlegend\": true, \"textposition\": \"auto\", \"type\": \"bar\", \"x\": [3], \"xaxis\": \"x\", \"y\": [\"Chicago Bulls\"], \"yaxis\": \"y\"}, {\"alignmentgroup\": \"True\", \"hovertemplate\": \"Team=%{y}<br>n_games=%{x}<extra></extra>\", \"legendgroup\": \"Memphis Grizzlies\", \"marker\": {\"color\": \"#05274A\"}, \"name\": \"Memphis Grizzlies\", \"offsetgroup\": \"Memphis Grizzlies\", \"orientation\": \"h\", \"showlegend\": true, \"textposition\": \"auto\", \"type\": \"bar\", \"x\": [2], \"xaxis\": \"x\", \"y\": [\"Memphis Grizzlies\"], \"yaxis\": \"y\"}, {\"alignmentgroup\": \"True\", \"hovertemplate\": \"Team=%{y}<br>n_games=%{x}<extra></extra>\", \"legendgroup\": \"Minnesota Timberwolves\", \"marker\": {\"color\": \"#236193\"}, \"name\": \"Minnesota Timberwolves\", \"offsetgroup\": \"Minnesota Timberwolves\", \"orientation\": \"h\", \"showlegend\": true, \"textposition\": \"auto\", \"type\": \"bar\", \"x\": [3], \"xaxis\": \"x\", \"y\": [\"Minnesota Timberwolves\"], \"yaxis\": \"y\"}, {\"alignmentgroup\": \"True\", \"hovertemplate\": \"Team=%{y}<br>n_games=%{x}<extra></extra>\", \"legendgroup\": \"Denver Nuggets\", \"marker\": {\"color\": \"#0F2340\"}, \"name\": \"Denver Nuggets\", \"offsetgroup\": \"Denver Nuggets\", \"orientation\": \"h\", \"showlegend\": true, \"textposition\": \"auto\", \"type\": \"bar\", \"x\": [2], \"xaxis\": \"x\", \"y\": [\"Denver Nuggets\"], \"yaxis\": \"y\"}, {\"alignmentgroup\": \"True\", \"hovertemplate\": \"Team=%{y}<br>n_games=%{x}<extra></extra>\", \"legendgroup\": \"Portland Trail Blazers\", \"marker\": {\"color\": \"#000000\"}, \"name\": \"Portland Trail Blazers\", \"offsetgroup\": \"Portland Trail Blazers\", \"orientation\": \"h\", \"showlegend\": true, \"textposition\": \"auto\", \"type\": \"bar\", \"x\": [2], \"xaxis\": \"x\", \"y\": [\"Portland Trail Blazers\"], \"yaxis\": \"y\"}, {\"alignmentgroup\": \"True\", \"hovertemplate\": \"Team=%{y}<br>n_games=%{x}<extra></extra>\", \"legendgroup\": \"Phoenix Suns\", \"marker\": {\"color\": \"#1F1861\"}, \"name\": \"Phoenix Suns\", \"offsetgroup\": \"Phoenix Suns\", \"orientation\": \"h\", \"showlegend\": true, \"textposition\": \"auto\", \"type\": \"bar\", \"x\": [3], \"xaxis\": \"x\", \"y\": [\"Phoenix Suns\"], \"yaxis\": \"y\"}, {\"alignmentgroup\": \"True\", \"hovertemplate\": \"Team=%{y}<br>n_games=%{x}<extra></extra>\", \"legendgroup\": \"Miami Heat\", \"marker\": {\"color\": \"#000000\"}, \"name\": \"Miami Heat\", \"offsetgroup\": \"Miami Heat\", \"orientation\": \"h\", \"showlegend\": true, \"textposition\": \"auto\", \"type\": \"bar\", \"x\": [2], \"xaxis\": \"x\", \"y\": [\"Miami Heat\"], \"yaxis\": \"y\"}, {\"alignmentgroup\": \"True\", \"hovertemplate\": \"Team=%{y}<br>n_games=%{x}<extra></extra>\", \"legendgroup\": \"Milwaukee Bucks\", \"marker\": {\"color\": \"#2D5234\"}, \"name\": \"Milwaukee Bucks\", \"offsetgroup\": \"Milwaukee Bucks\", \"orientation\": \"h\", \"showlegend\": true, \"textposition\": \"auto\", \"type\": \"bar\", \"x\": [3], \"xaxis\": \"x\", \"y\": [\"Milwaukee Bucks\"], \"yaxis\": \"y\"}, {\"alignmentgroup\": \"True\", \"hovertemplate\": \"Team=%{y}<br>n_games=%{x}<extra></extra>\", \"legendgroup\": \"Charlotte Hornets\", \"marker\": {\"color\": \"#3B8DAA\"}, \"name\": \"Charlotte Hornets\", \"offsetgroup\": \"Charlotte Hornets\", \"orientation\": \"h\", \"showlegend\": true, \"textposition\": \"auto\", \"type\": \"bar\", \"x\": [3], \"xaxis\": \"x\", \"y\": [\"Charlotte Hornets\"], \"yaxis\": \"y\"}, {\"alignmentgroup\": \"True\", \"hovertemplate\": \"Team=%{y}<br>n_games=%{x}<extra></extra>\", \"legendgroup\": \"Detroit Pistons\", \"marker\": {\"color\": \"#0C519A\"}, \"name\": \"Detroit Pistons\", \"offsetgroup\": \"Detroit Pistons\", \"orientation\": \"h\", \"showlegend\": true, \"textposition\": \"auto\", \"type\": \"bar\", \"x\": [2], \"xaxis\": \"x\", \"y\": [\"Detroit Pistons\"], \"yaxis\": \"y\"}, {\"alignmentgroup\": \"True\", \"hovertemplate\": \"Team=%{y}<br>n_games=%{x}<extra></extra>\", \"legendgroup\": \"Washington Wizards\", \"marker\": {\"color\": \"#C73531\"}, \"name\": \"Washington Wizards\", \"offsetgroup\": \"Washington Wizards\", \"orientation\": \"h\", \"showlegend\": true, \"textposition\": \"auto\", \"type\": \"bar\", \"x\": [3], \"xaxis\": \"x\", \"y\": [\"Washington Wizards\"], \"yaxis\": \"y\"}, {\"alignmentgroup\": \"True\", \"hovertemplate\": \"Team=%{y}<br>n_games=%{x}<extra></extra>\", \"legendgroup\": \"New York Knicks\", \"marker\": {\"color\": \"#0C54A0\"}, \"name\": \"New York Knicks\", \"offsetgroup\": \"New York Knicks\", \"orientation\": \"h\", \"showlegend\": true, \"textposition\": \"auto\", \"type\": \"bar\", \"x\": [3], \"xaxis\": \"x\", \"y\": [\"New York Knicks\"], \"yaxis\": \"y\"}, {\"alignmentgroup\": \"True\", \"hovertemplate\": \"Team=%{y}<br>n_games=%{x}<extra></extra>\", \"legendgroup\": \"San Antonio Spurs\", \"marker\": {\"color\": \"#000000\"}, \"name\": \"San Antonio Spurs\", \"offsetgroup\": \"San Antonio Spurs\", \"orientation\": \"h\", \"showlegend\": true, \"textposition\": \"auto\", \"type\": \"bar\", \"x\": [3], \"xaxis\": \"x\", \"y\": [\"San Antonio Spurs\"], \"yaxis\": \"y\"}, {\"alignmentgroup\": \"True\", \"hovertemplate\": \"Team=%{y}<br>n_games=%{x}<extra></extra>\", \"legendgroup\": \"Utah Jazz\", \"marker\": {\"color\": \"#00275E\"}, \"name\": \"Utah Jazz\", \"offsetgroup\": \"Utah Jazz\", \"orientation\": \"h\", \"showlegend\": true, \"textposition\": \"auto\", \"type\": \"bar\", \"x\": [2], \"xaxis\": \"x\", \"y\": [\"Utah Jazz\"], \"yaxis\": \"y\"}, {\"alignmentgroup\": \"True\", \"hovertemplate\": \"Team=%{y}<br>n_games=%{x}<extra></extra>\", \"legendgroup\": \"Sacramento Kings\", \"marker\": {\"color\": \"#393997\"}, \"name\": \"Sacramento Kings\", \"offsetgroup\": \"Sacramento Kings\", \"orientation\": \"h\", \"showlegend\": true, \"textposition\": \"auto\", \"type\": \"bar\", \"x\": [3], \"xaxis\": \"x\", \"y\": [\"Sacramento Kings\"], \"yaxis\": \"y\"}, {\"alignmentgroup\": \"True\", \"hovertemplate\": \"Team=%{y}<br>n_games=%{x}<extra></extra>\", \"legendgroup\": \"Los Angeles Clippers\", \"marker\": {\"color\": \"#D73932\"}, \"name\": \"Los Angeles Clippers\", \"offsetgroup\": \"Los Angeles Clippers\", \"orientation\": \"h\", \"showlegend\": true, \"textposition\": \"auto\", \"type\": \"bar\", \"x\": [3], \"xaxis\": \"x\", \"y\": [\"Los Angeles Clippers\"], \"yaxis\": \"y\"}, {\"alignmentgroup\": \"True\", \"hovertemplate\": \"Team=%{y}<br>n_games=%{x}<extra></extra>\", \"legendgroup\": \"New Orleans Pelicans\", \"marker\": {\"color\": \"#0C2340\"}, \"name\": \"New Orleans Pelicans\", \"offsetgroup\": \"New Orleans Pelicans\", \"orientation\": \"h\", \"showlegend\": true, \"textposition\": \"auto\", \"type\": \"bar\", \"x\": [3], \"xaxis\": \"x\", \"y\": [\"New Orleans Pelicans\"], \"yaxis\": \"y\"}, {\"alignmentgroup\": \"True\", \"hovertemplate\": \"Team=%{y}<br>n_games=%{x}<extra></extra>\", \"legendgroup\": \"Golden State Warriors\", \"marker\": {\"color\": \"#0D529C\"}, \"name\": \"Golden State Warriors\", \"offsetgroup\": \"Golden State Warriors\", \"orientation\": \"h\", \"showlegend\": true, \"textposition\": \"auto\", \"type\": \"bar\", \"x\": [3], \"xaxis\": \"x\", \"y\": [\"Golden State Warriors\"], \"yaxis\": \"y\"}, {\"alignmentgroup\": \"True\", \"hovertemplate\": \"Team=%{y}<br>n_games=%{x}<extra></extra>\", \"legendgroup\": \"Atlanta Hawks\", \"marker\": {\"color\": \"#636efa\"}, \"name\": \"Atlanta Hawks\", \"offsetgroup\": \"Atlanta Hawks\", \"orientation\": \"h\", \"showlegend\": true, \"textposition\": \"auto\", \"type\": \"bar\", \"x\": [2], \"xaxis\": \"x\", \"y\": [\"Atlanta Hawks\"], \"yaxis\": \"y\"}, {\"alignmentgroup\": \"True\", \"hovertemplate\": \"Team=%{y}<br>n_games=%{x}<extra></extra>\", \"legendgroup\": \"Dallas Mavericks\", \"marker\": {\"color\": \"#0157B8\"}, \"name\": \"Dallas Mavericks\", \"offsetgroup\": \"Dallas Mavericks\", \"orientation\": \"h\", \"showlegend\": true, \"textposition\": \"auto\", \"type\": \"bar\", \"x\": [3], \"xaxis\": \"x\", \"y\": [\"Dallas Mavericks\"], \"yaxis\": \"y\"}, {\"alignmentgroup\": \"True\", \"hovertemplate\": \"Team=%{y}<br>n_games=%{x}<extra></extra>\", \"legendgroup\": \"Oklahoma City Thunder\", \"marker\": {\"color\": \"#297CC2\"}, \"name\": \"Oklahoma City Thunder\", \"offsetgroup\": \"Oklahoma City Thunder\", \"orientation\": \"h\", \"showlegend\": true, \"textposition\": \"auto\", \"type\": \"bar\", \"x\": [1], \"xaxis\": \"x\", \"y\": [\"Oklahoma City Thunder\"], \"yaxis\": \"y\"}, {\"alignmentgroup\": \"True\", \"hovertemplate\": \"Team=%{y}<br>n_games=%{x}<extra></extra>\", \"legendgroup\": \"Houston Rockets\", \"marker\": {\"color\": \"#DA3A2F\"}, \"name\": \"Houston Rockets\", \"offsetgroup\": \"Houston Rockets\", \"orientation\": \"h\", \"showlegend\": true, \"textposition\": \"auto\", \"type\": \"bar\", \"x\": [1], \"xaxis\": \"x\", \"y\": [\"Houston Rockets\"], \"yaxis\": \"y\"}],                        {\"barmode\": \"relative\", \"height\": 800, \"legend\": {\"title\": {\"text\": \"Team\"}, \"tracegroupgap\": 0}, \"margin\": {\"t\": 60}, \"template\": {\"data\": {\"bar\": [{\"error_x\": {\"color\": \"#2a3f5f\"}, \"error_y\": {\"color\": \"#2a3f5f\"}, \"marker\": {\"line\": {\"color\": \"#E5ECF6\", \"width\": 0.5}}, \"type\": \"bar\"}], \"barpolar\": [{\"marker\": {\"line\": {\"color\": \"#E5ECF6\", \"width\": 0.5}}, \"type\": \"barpolar\"}], \"carpet\": [{\"aaxis\": {\"endlinecolor\": \"#2a3f5f\", \"gridcolor\": \"white\", \"linecolor\": \"white\", \"minorgridcolor\": \"white\", \"startlinecolor\": \"#2a3f5f\"}, \"baxis\": {\"endlinecolor\": \"#2a3f5f\", \"gridcolor\": \"white\", \"linecolor\": \"white\", \"minorgridcolor\": \"white\", \"startlinecolor\": \"#2a3f5f\"}, \"type\": \"carpet\"}], \"choropleth\": [{\"colorbar\": {\"outlinewidth\": 0, \"ticks\": \"\"}, \"type\": \"choropleth\"}], \"contour\": [{\"colorbar\": {\"outlinewidth\": 0, \"ticks\": \"\"}, \"colorscale\": [[0.0, \"#0d0887\"], [0.1111111111111111, \"#46039f\"], [0.2222222222222222, \"#7201a8\"], [0.3333333333333333, \"#9c179e\"], [0.4444444444444444, \"#bd3786\"], [0.5555555555555556, \"#d8576b\"], [0.6666666666666666, \"#ed7953\"], [0.7777777777777778, \"#fb9f3a\"], [0.8888888888888888, \"#fdca26\"], [1.0, \"#f0f921\"]], \"type\": \"contour\"}], \"contourcarpet\": [{\"colorbar\": {\"outlinewidth\": 0, \"ticks\": \"\"}, \"type\": \"contourcarpet\"}], \"heatmap\": [{\"colorbar\": {\"outlinewidth\": 0, \"ticks\": \"\"}, \"colorscale\": [[0.0, \"#0d0887\"], [0.1111111111111111, \"#46039f\"], [0.2222222222222222, \"#7201a8\"], [0.3333333333333333, \"#9c179e\"], [0.4444444444444444, \"#bd3786\"], [0.5555555555555556, \"#d8576b\"], [0.6666666666666666, \"#ed7953\"], [0.7777777777777778, \"#fb9f3a\"], [0.8888888888888888, \"#fdca26\"], [1.0, \"#f0f921\"]], \"type\": \"heatmap\"}], \"heatmapgl\": [{\"colorbar\": {\"outlinewidth\": 0, \"ticks\": \"\"}, \"colorscale\": [[0.0, \"#0d0887\"], [0.1111111111111111, \"#46039f\"], [0.2222222222222222, \"#7201a8\"], [0.3333333333333333, \"#9c179e\"], [0.4444444444444444, \"#bd3786\"], [0.5555555555555556, \"#d8576b\"], [0.6666666666666666, \"#ed7953\"], [0.7777777777777778, \"#fb9f3a\"], [0.8888888888888888, \"#fdca26\"], [1.0, \"#f0f921\"]], \"type\": \"heatmapgl\"}], \"histogram\": [{\"marker\": {\"colorbar\": {\"outlinewidth\": 0, \"ticks\": \"\"}}, \"type\": \"histogram\"}], \"histogram2d\": [{\"colorbar\": {\"outlinewidth\": 0, \"ticks\": \"\"}, \"colorscale\": [[0.0, \"#0d0887\"], [0.1111111111111111, \"#46039f\"], [0.2222222222222222, \"#7201a8\"], [0.3333333333333333, \"#9c179e\"], [0.4444444444444444, \"#bd3786\"], [0.5555555555555556, \"#d8576b\"], [0.6666666666666666, \"#ed7953\"], [0.7777777777777778, \"#fb9f3a\"], [0.8888888888888888, \"#fdca26\"], [1.0, \"#f0f921\"]], \"type\": \"histogram2d\"}], \"histogram2dcontour\": [{\"colorbar\": {\"outlinewidth\": 0, \"ticks\": \"\"}, \"colorscale\": [[0.0, \"#0d0887\"], [0.1111111111111111, \"#46039f\"], [0.2222222222222222, \"#7201a8\"], [0.3333333333333333, \"#9c179e\"], [0.4444444444444444, \"#bd3786\"], [0.5555555555555556, \"#d8576b\"], [0.6666666666666666, \"#ed7953\"], [0.7777777777777778, \"#fb9f3a\"], [0.8888888888888888, \"#fdca26\"], [1.0, \"#f0f921\"]], \"type\": \"histogram2dcontour\"}], \"mesh3d\": [{\"colorbar\": {\"outlinewidth\": 0, \"ticks\": \"\"}, \"type\": \"mesh3d\"}], \"parcoords\": [{\"line\": {\"colorbar\": {\"outlinewidth\": 0, \"ticks\": \"\"}}, \"type\": \"parcoords\"}], \"pie\": [{\"automargin\": true, \"type\": \"pie\"}], \"scatter\": [{\"marker\": {\"colorbar\": {\"outlinewidth\": 0, \"ticks\": \"\"}}, \"type\": \"scatter\"}], \"scatter3d\": [{\"line\": {\"colorbar\": {\"outlinewidth\": 0, \"ticks\": \"\"}}, \"marker\": {\"colorbar\": {\"outlinewidth\": 0, \"ticks\": \"\"}}, \"type\": \"scatter3d\"}], \"scattercarpet\": [{\"marker\": {\"colorbar\": {\"outlinewidth\": 0, \"ticks\": \"\"}}, \"type\": \"scattercarpet\"}], \"scattergeo\": [{\"marker\": {\"colorbar\": {\"outlinewidth\": 0, \"ticks\": \"\"}}, \"type\": \"scattergeo\"}], \"scattergl\": [{\"marker\": {\"colorbar\": {\"outlinewidth\": 0, \"ticks\": \"\"}}, \"type\": \"scattergl\"}], \"scattermapbox\": [{\"marker\": {\"colorbar\": {\"outlinewidth\": 0, \"ticks\": \"\"}}, \"type\": \"scattermapbox\"}], \"scatterpolar\": [{\"marker\": {\"colorbar\": {\"outlinewidth\": 0, \"ticks\": \"\"}}, \"type\": \"scatterpolar\"}], \"scatterpolargl\": [{\"marker\": {\"colorbar\": {\"outlinewidth\": 0, \"ticks\": \"\"}}, \"type\": \"scatterpolargl\"}], \"scatterternary\": [{\"marker\": {\"colorbar\": {\"outlinewidth\": 0, \"ticks\": \"\"}}, \"type\": \"scatterternary\"}], \"surface\": [{\"colorbar\": {\"outlinewidth\": 0, \"ticks\": \"\"}, \"colorscale\": [[0.0, \"#0d0887\"], [0.1111111111111111, \"#46039f\"], [0.2222222222222222, \"#7201a8\"], [0.3333333333333333, \"#9c179e\"], [0.4444444444444444, \"#bd3786\"], [0.5555555555555556, \"#d8576b\"], [0.6666666666666666, \"#ed7953\"], [0.7777777777777778, \"#fb9f3a\"], [0.8888888888888888, \"#fdca26\"], [1.0, \"#f0f921\"]], \"type\": \"surface\"}], \"table\": [{\"cells\": {\"fill\": {\"color\": \"#EBF0F8\"}, \"line\": {\"color\": \"white\"}}, \"header\": {\"fill\": {\"color\": \"#C8D4E3\"}, \"line\": {\"color\": \"white\"}}, \"type\": \"table\"}]}, \"layout\": {\"annotationdefaults\": {\"arrowcolor\": \"#2a3f5f\", \"arrowhead\": 0, \"arrowwidth\": 1}, \"autotypenumbers\": \"strict\", \"coloraxis\": {\"colorbar\": {\"outlinewidth\": 0, \"ticks\": \"\"}}, \"colorscale\": {\"diverging\": [[0, \"#8e0152\"], [0.1, \"#c51b7d\"], [0.2, \"#de77ae\"], [0.3, \"#f1b6da\"], [0.4, \"#fde0ef\"], [0.5, \"#f7f7f7\"], [0.6, \"#e6f5d0\"], [0.7, \"#b8e186\"], [0.8, \"#7fbc41\"], [0.9, \"#4d9221\"], [1, \"#276419\"]], \"sequential\": [[0.0, \"#0d0887\"], [0.1111111111111111, \"#46039f\"], [0.2222222222222222, \"#7201a8\"], [0.3333333333333333, \"#9c179e\"], [0.4444444444444444, \"#bd3786\"], [0.5555555555555556, \"#d8576b\"], [0.6666666666666666, \"#ed7953\"], [0.7777777777777778, \"#fb9f3a\"], [0.8888888888888888, \"#fdca26\"], [1.0, \"#f0f921\"]], \"sequentialminus\": [[0.0, \"#0d0887\"], [0.1111111111111111, \"#46039f\"], [0.2222222222222222, \"#7201a8\"], [0.3333333333333333, \"#9c179e\"], [0.4444444444444444, \"#bd3786\"], [0.5555555555555556, \"#d8576b\"], [0.6666666666666666, \"#ed7953\"], [0.7777777777777778, \"#fb9f3a\"], [0.8888888888888888, \"#fdca26\"], [1.0, \"#f0f921\"]]}, \"colorway\": [\"#636efa\", \"#EF553B\", \"#00cc96\", \"#ab63fa\", \"#FFA15A\", \"#19d3f3\", \"#FF6692\", \"#B6E880\", \"#FF97FF\", \"#FECB52\"], \"font\": {\"color\": \"#2a3f5f\"}, \"geo\": {\"bgcolor\": \"white\", \"lakecolor\": \"white\", \"landcolor\": \"#E5ECF6\", \"showlakes\": true, \"showland\": true, \"subunitcolor\": \"white\"}, \"hoverlabel\": {\"align\": \"left\"}, \"hovermode\": \"closest\", \"mapbox\": {\"style\": \"light\"}, \"paper_bgcolor\": \"white\", \"plot_bgcolor\": \"#E5ECF6\", \"polar\": {\"angularaxis\": {\"gridcolor\": \"white\", \"linecolor\": \"white\", \"ticks\": \"\"}, \"bgcolor\": \"#E5ECF6\", \"radialaxis\": {\"gridcolor\": \"white\", \"linecolor\": \"white\", \"ticks\": \"\"}}, \"scene\": {\"xaxis\": {\"backgroundcolor\": \"#E5ECF6\", \"gridcolor\": \"white\", \"gridwidth\": 2, \"linecolor\": \"white\", \"showbackground\": true, \"ticks\": \"\", \"zerolinecolor\": \"white\"}, \"yaxis\": {\"backgroundcolor\": \"#E5ECF6\", \"gridcolor\": \"white\", \"gridwidth\": 2, \"linecolor\": \"white\", \"showbackground\": true, \"ticks\": \"\", \"zerolinecolor\": \"white\"}, \"zaxis\": {\"backgroundcolor\": \"#E5ECF6\", \"gridcolor\": \"white\", \"gridwidth\": 2, \"linecolor\": \"white\", \"showbackground\": true, \"ticks\": \"\", \"zerolinecolor\": \"white\"}}, \"shapedefaults\": {\"line\": {\"color\": \"#2a3f5f\"}}, \"ternary\": {\"aaxis\": {\"gridcolor\": \"white\", \"linecolor\": \"white\", \"ticks\": \"\"}, \"baxis\": {\"gridcolor\": \"white\", \"linecolor\": \"white\", \"ticks\": \"\"}, \"bgcolor\": \"#E5ECF6\", \"caxis\": {\"gridcolor\": \"white\", \"linecolor\": \"white\", \"ticks\": \"\"}}, \"title\": {\"x\": 0.05}, \"xaxis\": {\"automargin\": true, \"gridcolor\": \"white\", \"linecolor\": \"white\", \"ticks\": \"\", \"title\": {\"standoff\": 15}, \"zerolinecolor\": \"white\", \"zerolinewidth\": 2}, \"yaxis\": {\"automargin\": true, \"gridcolor\": \"white\", \"linecolor\": \"white\", \"ticks\": \"\", \"title\": {\"standoff\": 15}, \"zerolinecolor\": \"white\", \"zerolinewidth\": 2}}}, \"width\": 1000, \"xaxis\": {\"anchor\": \"y\", \"domain\": [0.0, 1.0], \"tickvals\": [1, 2, 3, 4], \"title\": {\"text\": \"Number of Games\"}}, \"yaxis\": {\"anchor\": \"x\", \"categoryarray\": [\"Houston Rockets\", \"Oklahoma City Thunder\", \"Dallas Mavericks\", \"Atlanta Hawks\", \"Golden State Warriors\", \"New Orleans Pelicans\", \"Los Angeles Clippers\", \"Sacramento Kings\", \"Utah Jazz\", \"San Antonio Spurs\", \"New York Knicks\", \"Washington Wizards\", \"Detroit Pistons\", \"Charlotte Hornets\", \"Milwaukee Bucks\", \"Miami Heat\", \"Phoenix Suns\", \"Portland Trail Blazers\", \"Denver Nuggets\", \"Minnesota Timberwolves\", \"Memphis Grizzlies\", \"Chicago Bulls\", \"Boston Celtics\", \"Toronto Raptors\", \"Philadelphia 76ers\", \"Orlando Magic\", \"Indiana Pacers\", \"Cleveland Cavaliers\", \"Los Angeles Lakers\", \"Brooklyn Nets\"], \"categoryorder\": \"array\", \"domain\": [0.0, 1.0], \"title\": {\"text\": \"Team\"}}},                        {\"responsive\": true}                    ).then(function(){\n",
       "                            \n",
       "var gd = document.getElementById('5bd68b35-e20c-44c9-a2d6-d6881ec00bc0');\n",
       "var x = new MutationObserver(function (mutations, observer) {{\n",
       "        var display = window.getComputedStyle(gd).display;\n",
       "        if (!display || display === 'none') {{\n",
       "            console.log([gd, 'removed!']);\n",
       "            Plotly.purge(gd);\n",
       "            observer.disconnect();\n",
       "        }}\n",
       "}});\n",
       "\n",
       "// Listen for the removal of the full notebook cells\n",
       "var notebookContainer = gd.closest('#notebook-container');\n",
       "if (notebookContainer) {{\n",
       "    x.observe(notebookContainer, {childList: true});\n",
       "}}\n",
       "\n",
       "// Listen for the clearing of the current output cell\n",
       "var outputEl = gd.closest('.output');\n",
       "if (outputEl) {{\n",
       "    x.observe(outputEl, {childList: true});\n",
       "}}\n",
       "\n",
       "                        })                };                });            </script>        </div>"
      ]
     },
     "metadata": {},
     "output_type": "display_data"
    }
   ],
   "source": [
    "fig = px.bar(data, x='n_games', y='Team', orientation='h', color='Team',\n",
    "             color_discrete_map=color_discrete_map)\n",
    "fig.update_layout(width=1000, height=800, xaxis=dict(title_text='Number of Games',\n",
    "                                                     tickvals=[1, 2, 3, 4]))\n",
    "fig.show()"
   ]
  },
  {
   "cell_type": "markdown",
   "metadata": {},
   "source": [
    "### NBA Standing"
   ]
  },
  {
   "cell_type": "code",
   "execution_count": 103,
   "metadata": {
    "ExecuteTime": {
     "end_time": "2021-04-17T17:16:15.805531Z",
     "start_time": "2021-04-17T17:16:15.554282Z"
    }
   },
   "outputs": [],
   "source": [
    "url = 'https://www.basketball-reference.com/leagues/NBA_2021_standings.html'\n",
    "tables = pd.read_html(url)"
   ]
  },
  {
   "cell_type": "code",
   "execution_count": 104,
   "metadata": {
    "ExecuteTime": {
     "end_time": "2021-04-17T17:16:15.877537Z",
     "start_time": "2021-04-17T17:16:15.864083Z"
    }
   },
   "outputs": [],
   "source": [
    "east = tables[0]\n",
    "east.rename(columns={'Eastern Conference': 'Team'}, inplace=True)\n",
    "east['Conference'] = 'East'\n",
    "west = tables[1]\n",
    "west.rename(columns={'Western Conference': 'Team'}, inplace=True)\n",
    "west['Conference'] = 'West'"
   ]
  },
  {
   "cell_type": "code",
   "execution_count": 105,
   "metadata": {
    "ExecuteTime": {
     "end_time": "2021-04-17T17:16:16.265782Z",
     "start_time": "2021-04-17T17:16:16.259974Z"
    }
   },
   "outputs": [],
   "source": [
    "def conference_seed_extract(val):\n",
    "    return val.split()[-1].strip('()')\n",
    "def remove_seed(val):\n",
    "    return ' '.join(val.split()[:-1])"
   ]
  },
  {
   "cell_type": "code",
   "execution_count": 106,
   "metadata": {
    "ExecuteTime": {
     "end_time": "2021-04-17T17:16:16.597164Z",
     "start_time": "2021-04-17T17:16:16.588515Z"
    }
   },
   "outputs": [],
   "source": [
    "standing = pd.concat([tables[0], tables[1]])"
   ]
  },
  {
   "cell_type": "code",
   "execution_count": 107,
   "metadata": {
    "ExecuteTime": {
     "end_time": "2021-04-17T17:16:16.897159Z",
     "start_time": "2021-04-17T17:16:16.890090Z"
    }
   },
   "outputs": [],
   "source": [
    "standing['Rank'] = standing['Team'].apply(conference_seed_extract)\n",
    "standing['Team'] = standing['Team'].apply(remove_seed)"
   ]
  },
  {
   "cell_type": "code",
   "execution_count": 108,
   "metadata": {
    "ExecuteTime": {
     "end_time": "2021-04-17T17:16:18.226878Z",
     "start_time": "2021-04-17T17:16:18.177699Z"
    }
   },
   "outputs": [
    {
     "data": {
      "text/html": [
       "<div>\n",
       "<style scoped>\n",
       "    .dataframe tbody tr th:only-of-type {\n",
       "        vertical-align: middle;\n",
       "    }\n",
       "\n",
       "    .dataframe tbody tr th {\n",
       "        vertical-align: top;\n",
       "    }\n",
       "\n",
       "    .dataframe thead th {\n",
       "        text-align: right;\n",
       "    }\n",
       "</style>\n",
       "<table border=\"1\" class=\"dataframe\">\n",
       "  <thead>\n",
       "    <tr style=\"text-align: right;\">\n",
       "      <th></th>\n",
       "      <th>Team</th>\n",
       "      <th>W</th>\n",
       "      <th>L</th>\n",
       "      <th>W/L%</th>\n",
       "      <th>GB</th>\n",
       "      <th>PS/G</th>\n",
       "      <th>PA/G</th>\n",
       "      <th>SRS</th>\n",
       "      <th>Conference</th>\n",
       "      <th>Rank</th>\n",
       "    </tr>\n",
       "  </thead>\n",
       "  <tbody>\n",
       "    <tr>\n",
       "      <th>0</th>\n",
       "      <td>Philadelphia 76ers</td>\n",
       "      <td>39</td>\n",
       "      <td>17</td>\n",
       "      <td>0.696</td>\n",
       "      <td>—</td>\n",
       "      <td>113.7</td>\n",
       "      <td>108.4</td>\n",
       "      <td>5.26</td>\n",
       "      <td>East</td>\n",
       "      <td>1</td>\n",
       "    </tr>\n",
       "    <tr>\n",
       "      <th>1</th>\n",
       "      <td>Brooklyn Nets</td>\n",
       "      <td>38</td>\n",
       "      <td>18</td>\n",
       "      <td>0.679</td>\n",
       "      <td>1.0</td>\n",
       "      <td>119.0</td>\n",
       "      <td>114.3</td>\n",
       "      <td>4.18</td>\n",
       "      <td>East</td>\n",
       "      <td>2</td>\n",
       "    </tr>\n",
       "    <tr>\n",
       "      <th>2</th>\n",
       "      <td>Milwaukee Bucks</td>\n",
       "      <td>35</td>\n",
       "      <td>20</td>\n",
       "      <td>0.636</td>\n",
       "      <td>3.5</td>\n",
       "      <td>119.2</td>\n",
       "      <td>112.7</td>\n",
       "      <td>6.22</td>\n",
       "      <td>East</td>\n",
       "      <td>3</td>\n",
       "    </tr>\n",
       "    <tr>\n",
       "      <th>3</th>\n",
       "      <td>Atlanta Hawks</td>\n",
       "      <td>30</td>\n",
       "      <td>26</td>\n",
       "      <td>0.536</td>\n",
       "      <td>9.0</td>\n",
       "      <td>113.2</td>\n",
       "      <td>111.3</td>\n",
       "      <td>1.91</td>\n",
       "      <td>East</td>\n",
       "      <td>4</td>\n",
       "    </tr>\n",
       "    <tr>\n",
       "      <th>4</th>\n",
       "      <td>Boston Celtics</td>\n",
       "      <td>30</td>\n",
       "      <td>26</td>\n",
       "      <td>0.536</td>\n",
       "      <td>9.0</td>\n",
       "      <td>112.6</td>\n",
       "      <td>110.5</td>\n",
       "      <td>2.40</td>\n",
       "      <td>East</td>\n",
       "      <td>5</td>\n",
       "    </tr>\n",
       "    <tr>\n",
       "      <th>5</th>\n",
       "      <td>New York Knicks</td>\n",
       "      <td>30</td>\n",
       "      <td>27</td>\n",
       "      <td>0.526</td>\n",
       "      <td>9.5</td>\n",
       "      <td>105.8</td>\n",
       "      <td>104.3</td>\n",
       "      <td>0.99</td>\n",
       "      <td>East</td>\n",
       "      <td>6</td>\n",
       "    </tr>\n",
       "    <tr>\n",
       "      <th>6</th>\n",
       "      <td>Miami Heat</td>\n",
       "      <td>28</td>\n",
       "      <td>28</td>\n",
       "      <td>0.500</td>\n",
       "      <td>11.0</td>\n",
       "      <td>106.3</td>\n",
       "      <td>107.7</td>\n",
       "      <td>-1.23</td>\n",
       "      <td>East</td>\n",
       "      <td>7</td>\n",
       "    </tr>\n",
       "    <tr>\n",
       "      <th>7</th>\n",
       "      <td>Charlotte Hornets</td>\n",
       "      <td>27</td>\n",
       "      <td>28</td>\n",
       "      <td>0.491</td>\n",
       "      <td>11.5</td>\n",
       "      <td>110.3</td>\n",
       "      <td>111.7</td>\n",
       "      <td>-1.32</td>\n",
       "      <td>East</td>\n",
       "      <td>8</td>\n",
       "    </tr>\n",
       "    <tr>\n",
       "      <th>8</th>\n",
       "      <td>Indiana Pacers</td>\n",
       "      <td>26</td>\n",
       "      <td>29</td>\n",
       "      <td>0.473</td>\n",
       "      <td>12.5</td>\n",
       "      <td>113.8</td>\n",
       "      <td>114.2</td>\n",
       "      <td>-0.01</td>\n",
       "      <td>East</td>\n",
       "      <td>9</td>\n",
       "    </tr>\n",
       "    <tr>\n",
       "      <th>9</th>\n",
       "      <td>Toronto Raptors</td>\n",
       "      <td>23</td>\n",
       "      <td>34</td>\n",
       "      <td>0.404</td>\n",
       "      <td>16.5</td>\n",
       "      <td>112.0</td>\n",
       "      <td>111.4</td>\n",
       "      <td>0.09</td>\n",
       "      <td>East</td>\n",
       "      <td>10</td>\n",
       "    </tr>\n",
       "    <tr>\n",
       "      <th>10</th>\n",
       "      <td>Chicago Bulls</td>\n",
       "      <td>22</td>\n",
       "      <td>33</td>\n",
       "      <td>0.400</td>\n",
       "      <td>16.5</td>\n",
       "      <td>112.3</td>\n",
       "      <td>113.8</td>\n",
       "      <td>-1.73</td>\n",
       "      <td>East</td>\n",
       "      <td>11</td>\n",
       "    </tr>\n",
       "    <tr>\n",
       "      <th>11</th>\n",
       "      <td>Washington Wizards</td>\n",
       "      <td>22</td>\n",
       "      <td>33</td>\n",
       "      <td>0.400</td>\n",
       "      <td>16.5</td>\n",
       "      <td>113.8</td>\n",
       "      <td>118.6</td>\n",
       "      <td>-4.12</td>\n",
       "      <td>East</td>\n",
       "      <td>12</td>\n",
       "    </tr>\n",
       "    <tr>\n",
       "      <th>12</th>\n",
       "      <td>Cleveland Cavaliers</td>\n",
       "      <td>20</td>\n",
       "      <td>35</td>\n",
       "      <td>0.364</td>\n",
       "      <td>18.5</td>\n",
       "      <td>103.9</td>\n",
       "      <td>111.1</td>\n",
       "      <td>-6.75</td>\n",
       "      <td>East</td>\n",
       "      <td>13</td>\n",
       "    </tr>\n",
       "    <tr>\n",
       "      <th>13</th>\n",
       "      <td>Orlando Magic</td>\n",
       "      <td>18</td>\n",
       "      <td>38</td>\n",
       "      <td>0.321</td>\n",
       "      <td>21.0</td>\n",
       "      <td>104.3</td>\n",
       "      <td>112.0</td>\n",
       "      <td>-7.47</td>\n",
       "      <td>East</td>\n",
       "      <td>14</td>\n",
       "    </tr>\n",
       "    <tr>\n",
       "      <th>14</th>\n",
       "      <td>Detroit Pistons</td>\n",
       "      <td>17</td>\n",
       "      <td>39</td>\n",
       "      <td>0.304</td>\n",
       "      <td>22.0</td>\n",
       "      <td>107.7</td>\n",
       "      <td>111.2</td>\n",
       "      <td>-3.19</td>\n",
       "      <td>East</td>\n",
       "      <td>15</td>\n",
       "    </tr>\n",
       "    <tr>\n",
       "      <th>0</th>\n",
       "      <td>Utah Jazz</td>\n",
       "      <td>42</td>\n",
       "      <td>14</td>\n",
       "      <td>0.750</td>\n",
       "      <td>—</td>\n",
       "      <td>117.0</td>\n",
       "      <td>107.6</td>\n",
       "      <td>9.58</td>\n",
       "      <td>West</td>\n",
       "      <td>1</td>\n",
       "    </tr>\n",
       "    <tr>\n",
       "      <th>1</th>\n",
       "      <td>Phoenix Suns</td>\n",
       "      <td>40</td>\n",
       "      <td>15</td>\n",
       "      <td>0.727</td>\n",
       "      <td>1.5</td>\n",
       "      <td>115.0</td>\n",
       "      <td>107.8</td>\n",
       "      <td>6.54</td>\n",
       "      <td>West</td>\n",
       "      <td>2</td>\n",
       "    </tr>\n",
       "    <tr>\n",
       "      <th>2</th>\n",
       "      <td>Los Angeles Clippers</td>\n",
       "      <td>39</td>\n",
       "      <td>19</td>\n",
       "      <td>0.672</td>\n",
       "      <td>4.0</td>\n",
       "      <td>114.8</td>\n",
       "      <td>108.2</td>\n",
       "      <td>6.64</td>\n",
       "      <td>West</td>\n",
       "      <td>3</td>\n",
       "    </tr>\n",
       "    <tr>\n",
       "      <th>3</th>\n",
       "      <td>Denver Nuggets</td>\n",
       "      <td>36</td>\n",
       "      <td>20</td>\n",
       "      <td>0.643</td>\n",
       "      <td>6.0</td>\n",
       "      <td>115.3</td>\n",
       "      <td>109.8</td>\n",
       "      <td>5.14</td>\n",
       "      <td>West</td>\n",
       "      <td>4</td>\n",
       "    </tr>\n",
       "    <tr>\n",
       "      <th>4</th>\n",
       "      <td>Los Angeles Lakers</td>\n",
       "      <td>34</td>\n",
       "      <td>22</td>\n",
       "      <td>0.607</td>\n",
       "      <td>8.0</td>\n",
       "      <td>109.8</td>\n",
       "      <td>105.9</td>\n",
       "      <td>3.50</td>\n",
       "      <td>West</td>\n",
       "      <td>5</td>\n",
       "    </tr>\n",
       "    <tr>\n",
       "      <th>5</th>\n",
       "      <td>Portland Trail Blazers</td>\n",
       "      <td>32</td>\n",
       "      <td>23</td>\n",
       "      <td>0.582</td>\n",
       "      <td>9.5</td>\n",
       "      <td>114.6</td>\n",
       "      <td>114.8</td>\n",
       "      <td>-0.67</td>\n",
       "      <td>West</td>\n",
       "      <td>6</td>\n",
       "    </tr>\n",
       "    <tr>\n",
       "      <th>6</th>\n",
       "      <td>Dallas Mavericks</td>\n",
       "      <td>30</td>\n",
       "      <td>25</td>\n",
       "      <td>0.545</td>\n",
       "      <td>11.5</td>\n",
       "      <td>111.3</td>\n",
       "      <td>109.8</td>\n",
       "      <td>2.05</td>\n",
       "      <td>West</td>\n",
       "      <td>7</td>\n",
       "    </tr>\n",
       "    <tr>\n",
       "      <th>7</th>\n",
       "      <td>Memphis Grizzlies</td>\n",
       "      <td>28</td>\n",
       "      <td>26</td>\n",
       "      <td>0.519</td>\n",
       "      <td>13.0</td>\n",
       "      <td>113.1</td>\n",
       "      <td>111.6</td>\n",
       "      <td>1.66</td>\n",
       "      <td>West</td>\n",
       "      <td>8</td>\n",
       "    </tr>\n",
       "    <tr>\n",
       "      <th>8</th>\n",
       "      <td>Golden State Warriors</td>\n",
       "      <td>28</td>\n",
       "      <td>28</td>\n",
       "      <td>0.500</td>\n",
       "      <td>14.0</td>\n",
       "      <td>113.0</td>\n",
       "      <td>113.5</td>\n",
       "      <td>-0.27</td>\n",
       "      <td>West</td>\n",
       "      <td>9</td>\n",
       "    </tr>\n",
       "    <tr>\n",
       "      <th>9</th>\n",
       "      <td>San Antonio Spurs</td>\n",
       "      <td>26</td>\n",
       "      <td>28</td>\n",
       "      <td>0.481</td>\n",
       "      <td>15.0</td>\n",
       "      <td>110.6</td>\n",
       "      <td>111.9</td>\n",
       "      <td>-1.84</td>\n",
       "      <td>West</td>\n",
       "      <td>10</td>\n",
       "    </tr>\n",
       "    <tr>\n",
       "      <th>10</th>\n",
       "      <td>New Orleans Pelicans</td>\n",
       "      <td>25</td>\n",
       "      <td>31</td>\n",
       "      <td>0.446</td>\n",
       "      <td>17.0</td>\n",
       "      <td>114.5</td>\n",
       "      <td>115.0</td>\n",
       "      <td>-0.37</td>\n",
       "      <td>West</td>\n",
       "      <td>11</td>\n",
       "    </tr>\n",
       "    <tr>\n",
       "      <th>11</th>\n",
       "      <td>Sacramento Kings</td>\n",
       "      <td>22</td>\n",
       "      <td>34</td>\n",
       "      <td>0.393</td>\n",
       "      <td>20.0</td>\n",
       "      <td>114.2</td>\n",
       "      <td>118.8</td>\n",
       "      <td>-4.14</td>\n",
       "      <td>West</td>\n",
       "      <td>12</td>\n",
       "    </tr>\n",
       "    <tr>\n",
       "      <th>12</th>\n",
       "      <td>Oklahoma City Thunder</td>\n",
       "      <td>20</td>\n",
       "      <td>36</td>\n",
       "      <td>0.357</td>\n",
       "      <td>22.0</td>\n",
       "      <td>105.3</td>\n",
       "      <td>114.3</td>\n",
       "      <td>-8.59</td>\n",
       "      <td>West</td>\n",
       "      <td>13</td>\n",
       "    </tr>\n",
       "    <tr>\n",
       "      <th>13</th>\n",
       "      <td>Minnesota Timberwolves</td>\n",
       "      <td>15</td>\n",
       "      <td>42</td>\n",
       "      <td>0.263</td>\n",
       "      <td>27.5</td>\n",
       "      <td>110.3</td>\n",
       "      <td>118.0</td>\n",
       "      <td>-7.40</td>\n",
       "      <td>West</td>\n",
       "      <td>14</td>\n",
       "    </tr>\n",
       "    <tr>\n",
       "      <th>14</th>\n",
       "      <td>Houston Rockets</td>\n",
       "      <td>14</td>\n",
       "      <td>42</td>\n",
       "      <td>0.250</td>\n",
       "      <td>28.0</td>\n",
       "      <td>108.1</td>\n",
       "      <td>115.0</td>\n",
       "      <td>-7.26</td>\n",
       "      <td>West</td>\n",
       "      <td>15</td>\n",
       "    </tr>\n",
       "  </tbody>\n",
       "</table>\n",
       "</div>"
      ],
      "text/plain": [
       "                      Team   W   L   W/L%    GB   PS/G   PA/G   SRS  \\\n",
       "0       Philadelphia 76ers  39  17  0.696     —  113.7  108.4  5.26   \n",
       "1            Brooklyn Nets  38  18  0.679   1.0  119.0  114.3  4.18   \n",
       "2          Milwaukee Bucks  35  20  0.636   3.5  119.2  112.7  6.22   \n",
       "3            Atlanta Hawks  30  26  0.536   9.0  113.2  111.3  1.91   \n",
       "4           Boston Celtics  30  26  0.536   9.0  112.6  110.5  2.40   \n",
       "5          New York Knicks  30  27  0.526   9.5  105.8  104.3  0.99   \n",
       "6               Miami Heat  28  28  0.500  11.0  106.3  107.7 -1.23   \n",
       "7        Charlotte Hornets  27  28  0.491  11.5  110.3  111.7 -1.32   \n",
       "8           Indiana Pacers  26  29  0.473  12.5  113.8  114.2 -0.01   \n",
       "9          Toronto Raptors  23  34  0.404  16.5  112.0  111.4  0.09   \n",
       "10           Chicago Bulls  22  33  0.400  16.5  112.3  113.8 -1.73   \n",
       "11      Washington Wizards  22  33  0.400  16.5  113.8  118.6 -4.12   \n",
       "12     Cleveland Cavaliers  20  35  0.364  18.5  103.9  111.1 -6.75   \n",
       "13           Orlando Magic  18  38  0.321  21.0  104.3  112.0 -7.47   \n",
       "14         Detroit Pistons  17  39  0.304  22.0  107.7  111.2 -3.19   \n",
       "0                Utah Jazz  42  14  0.750     —  117.0  107.6  9.58   \n",
       "1             Phoenix Suns  40  15  0.727   1.5  115.0  107.8  6.54   \n",
       "2     Los Angeles Clippers  39  19  0.672   4.0  114.8  108.2  6.64   \n",
       "3           Denver Nuggets  36  20  0.643   6.0  115.3  109.8  5.14   \n",
       "4       Los Angeles Lakers  34  22  0.607   8.0  109.8  105.9  3.50   \n",
       "5   Portland Trail Blazers  32  23  0.582   9.5  114.6  114.8 -0.67   \n",
       "6         Dallas Mavericks  30  25  0.545  11.5  111.3  109.8  2.05   \n",
       "7        Memphis Grizzlies  28  26  0.519  13.0  113.1  111.6  1.66   \n",
       "8    Golden State Warriors  28  28  0.500  14.0  113.0  113.5 -0.27   \n",
       "9        San Antonio Spurs  26  28  0.481  15.0  110.6  111.9 -1.84   \n",
       "10    New Orleans Pelicans  25  31  0.446  17.0  114.5  115.0 -0.37   \n",
       "11        Sacramento Kings  22  34  0.393  20.0  114.2  118.8 -4.14   \n",
       "12   Oklahoma City Thunder  20  36  0.357  22.0  105.3  114.3 -8.59   \n",
       "13  Minnesota Timberwolves  15  42  0.263  27.5  110.3  118.0 -7.40   \n",
       "14         Houston Rockets  14  42  0.250  28.0  108.1  115.0 -7.26   \n",
       "\n",
       "   Conference Rank  \n",
       "0        East    1  \n",
       "1        East    2  \n",
       "2        East    3  \n",
       "3        East    4  \n",
       "4        East    5  \n",
       "5        East    6  \n",
       "6        East    7  \n",
       "7        East    8  \n",
       "8        East    9  \n",
       "9        East   10  \n",
       "10       East   11  \n",
       "11       East   12  \n",
       "12       East   13  \n",
       "13       East   14  \n",
       "14       East   15  \n",
       "0        West    1  \n",
       "1        West    2  \n",
       "2        West    3  \n",
       "3        West    4  \n",
       "4        West    5  \n",
       "5        West    6  \n",
       "6        West    7  \n",
       "7        West    8  \n",
       "8        West    9  \n",
       "9        West   10  \n",
       "10       West   11  \n",
       "11       West   12  \n",
       "12       West   13  \n",
       "13       West   14  \n",
       "14       West   15  "
      ]
     },
     "execution_count": 108,
     "metadata": {},
     "output_type": "execute_result"
    }
   ],
   "source": [
    "standing"
   ]
  },
  {
   "cell_type": "code",
   "execution_count": 109,
   "metadata": {
    "ExecuteTime": {
     "end_time": "2021-04-17T17:16:22.514642Z",
     "start_time": "2021-04-17T17:16:22.493474Z"
    }
   },
   "outputs": [],
   "source": [
    "standing.to_csv('2021_standings.csv', index=False)"
   ]
  },
  {
   "cell_type": "code",
   "execution_count": 97,
   "metadata": {
    "ExecuteTime": {
     "end_time": "2021-04-17T16:39:44.394291Z",
     "start_time": "2021-04-17T16:39:44.377711Z"
    }
   },
   "outputs": [],
   "source": [
    "merged = data.merge(standing, on='Team', how='inner')"
   ]
  },
  {
   "cell_type": "code",
   "execution_count": 100,
   "metadata": {
    "ExecuteTime": {
     "end_time": "2021-04-17T16:40:34.241823Z",
     "start_time": "2021-04-17T16:40:34.020879Z"
    }
   },
   "outputs": [
    {
     "data": {
      "application/vnd.plotly.v1+json": {
       "config": {
        "plotlyServerURL": "https://plot.ly"
       },
       "data": [
        {
         "hovertemplate": "Team=Brooklyn Nets<br>n_games=%{x}<br>SRS=%{y}<extra></extra>",
         "legendgroup": "Brooklyn Nets",
         "marker": {
          "color": "#000000",
          "symbol": "circle"
         },
         "mode": "markers",
         "name": "Brooklyn Nets",
         "orientation": "v",
         "showlegend": true,
         "type": "scatter",
         "x": [
          3
         ],
         "xaxis": "x",
         "y": [
          4.18
         ],
         "yaxis": "y"
        },
        {
         "hovertemplate": "Team=Los Angeles Lakers<br>n_games=%{x}<br>SRS=%{y}<extra></extra>",
         "legendgroup": "Los Angeles Lakers",
         "marker": {
          "color": "#552781",
          "symbol": "circle"
         },
         "mode": "markers",
         "name": "Los Angeles Lakers",
         "orientation": "v",
         "showlegend": true,
         "type": "scatter",
         "x": [
          3
         ],
         "xaxis": "x",
         "y": [
          3.5
         ],
         "yaxis": "y"
        },
        {
         "hovertemplate": "Team=Cleveland Cavaliers<br>n_games=%{x}<br>SRS=%{y}<extra></extra>",
         "legendgroup": "Cleveland Cavaliers",
         "marker": {
          "color": "#6F263D",
          "symbol": "circle"
         },
         "mode": "markers",
         "name": "Cleveland Cavaliers",
         "orientation": "v",
         "showlegend": true,
         "type": "scatter",
         "x": [
          3
         ],
         "xaxis": "x",
         "y": [
          -6.75
         ],
         "yaxis": "y"
        },
        {
         "hovertemplate": "Team=Indiana Pacers<br>n_games=%{x}<br>SRS=%{y}<extra></extra>",
         "legendgroup": "Indiana Pacers",
         "marker": {
          "color": "#F6BA33",
          "symbol": "circle"
         },
         "mode": "markers",
         "name": "Indiana Pacers",
         "orientation": "v",
         "showlegend": true,
         "type": "scatter",
         "x": [
          3
         ],
         "xaxis": "x",
         "y": [
          -0.01
         ],
         "yaxis": "y"
        },
        {
         "hovertemplate": "Team=Orlando Magic<br>n_games=%{x}<br>SRS=%{y}<extra></extra>",
         "legendgroup": "Orlando Magic",
         "marker": {
          "color": "#287DC5",
          "symbol": "circle"
         },
         "mode": "markers",
         "name": "Orlando Magic",
         "orientation": "v",
         "showlegend": true,
         "type": "scatter",
         "x": [
          3
         ],
         "xaxis": "x",
         "y": [
          -7.47
         ],
         "yaxis": "y"
        },
        {
         "hovertemplate": "Team=Philadelphia 76ers<br>n_games=%{x}<br>SRS=%{y}<extra></extra>",
         "legendgroup": "Philadelphia 76ers",
         "marker": {
          "color": "#1560BD",
          "symbol": "circle"
         },
         "mode": "markers",
         "name": "Philadelphia 76ers",
         "orientation": "v",
         "showlegend": true,
         "type": "scatter",
         "x": [
          3
         ],
         "xaxis": "x",
         "y": [
          5.26
         ],
         "yaxis": "y"
        },
        {
         "hovertemplate": "Team=Toronto Raptors<br>n_games=%{x}<br>SRS=%{y}<extra></extra>",
         "legendgroup": "Toronto Raptors",
         "marker": {
          "color": "#B52F25",
          "symbol": "circle"
         },
         "mode": "markers",
         "name": "Toronto Raptors",
         "orientation": "v",
         "showlegend": true,
         "type": "scatter",
         "x": [
          2
         ],
         "xaxis": "x",
         "y": [
          0.09
         ],
         "yaxis": "y"
        },
        {
         "hovertemplate": "Team=Boston Celtics<br>n_games=%{x}<br>SRS=%{y}<extra></extra>",
         "legendgroup": "Boston Celtics",
         "marker": {
          "color": "#55AA62",
          "symbol": "circle"
         },
         "mode": "markers",
         "name": "Boston Celtics",
         "orientation": "v",
         "showlegend": true,
         "type": "scatter",
         "x": [
          3
         ],
         "xaxis": "x",
         "y": [
          2.4
         ],
         "yaxis": "y"
        },
        {
         "hovertemplate": "Team=Chicago Bulls<br>n_games=%{x}<br>SRS=%{y}<extra></extra>",
         "legendgroup": "Chicago Bulls",
         "marker": {
          "color": "#D5392E",
          "symbol": "circle"
         },
         "mode": "markers",
         "name": "Chicago Bulls",
         "orientation": "v",
         "showlegend": true,
         "type": "scatter",
         "x": [
          3
         ],
         "xaxis": "x",
         "y": [
          -1.73
         ],
         "yaxis": "y"
        },
        {
         "hovertemplate": "Team=Memphis Grizzlies<br>n_games=%{x}<br>SRS=%{y}<extra></extra>",
         "legendgroup": "Memphis Grizzlies",
         "marker": {
          "color": "#05274A",
          "symbol": "circle"
         },
         "mode": "markers",
         "name": "Memphis Grizzlies",
         "orientation": "v",
         "showlegend": true,
         "type": "scatter",
         "x": [
          2
         ],
         "xaxis": "x",
         "y": [
          1.66
         ],
         "yaxis": "y"
        },
        {
         "hovertemplate": "Team=Minnesota Timberwolves<br>n_games=%{x}<br>SRS=%{y}<extra></extra>",
         "legendgroup": "Minnesota Timberwolves",
         "marker": {
          "color": "#236193",
          "symbol": "circle"
         },
         "mode": "markers",
         "name": "Minnesota Timberwolves",
         "orientation": "v",
         "showlegend": true,
         "type": "scatter",
         "x": [
          3
         ],
         "xaxis": "x",
         "y": [
          -7.4
         ],
         "yaxis": "y"
        },
        {
         "hovertemplate": "Team=Denver Nuggets<br>n_games=%{x}<br>SRS=%{y}<extra></extra>",
         "legendgroup": "Denver Nuggets",
         "marker": {
          "color": "#F7C133",
          "symbol": "circle"
         },
         "mode": "markers",
         "name": "Denver Nuggets",
         "orientation": "v",
         "showlegend": true,
         "type": "scatter",
         "x": [
          2
         ],
         "xaxis": "x",
         "y": [
          5.14
         ],
         "yaxis": "y"
        },
        {
         "hovertemplate": "Team=Portland Trail Blazers<br>n_games=%{x}<br>SRS=%{y}<extra></extra>",
         "legendgroup": "Portland Trail Blazers",
         "marker": {
          "color": "#000000",
          "symbol": "circle"
         },
         "mode": "markers",
         "name": "Portland Trail Blazers",
         "orientation": "v",
         "showlegend": true,
         "type": "scatter",
         "x": [
          2
         ],
         "xaxis": "x",
         "y": [
          -0.67
         ],
         "yaxis": "y"
        },
        {
         "hovertemplate": "Team=Phoenix Suns<br>n_games=%{x}<br>SRS=%{y}<extra></extra>",
         "legendgroup": "Phoenix Suns",
         "marker": {
          "color": "#1F1861",
          "symbol": "circle"
         },
         "mode": "markers",
         "name": "Phoenix Suns",
         "orientation": "v",
         "showlegend": true,
         "type": "scatter",
         "x": [
          3
         ],
         "xaxis": "x",
         "y": [
          6.54
         ],
         "yaxis": "y"
        },
        {
         "hovertemplate": "Team=Miami Heat<br>n_games=%{x}<br>SRS=%{y}<extra></extra>",
         "legendgroup": "Miami Heat",
         "marker": {
          "color": "#000000",
          "symbol": "circle"
         },
         "mode": "markers",
         "name": "Miami Heat",
         "orientation": "v",
         "showlegend": true,
         "type": "scatter",
         "x": [
          2
         ],
         "xaxis": "x",
         "y": [
          -1.23
         ],
         "yaxis": "y"
        },
        {
         "hovertemplate": "Team=Milwaukee Bucks<br>n_games=%{x}<br>SRS=%{y}<extra></extra>",
         "legendgroup": "Milwaukee Bucks",
         "marker": {
          "color": "#2D5234",
          "symbol": "circle"
         },
         "mode": "markers",
         "name": "Milwaukee Bucks",
         "orientation": "v",
         "showlegend": true,
         "type": "scatter",
         "x": [
          3
         ],
         "xaxis": "x",
         "y": [
          6.22
         ],
         "yaxis": "y"
        },
        {
         "hovertemplate": "Team=Charlotte Hornets<br>n_games=%{x}<br>SRS=%{y}<extra></extra>",
         "legendgroup": "Charlotte Hornets",
         "marker": {
          "color": "#3B8DAA",
          "symbol": "circle"
         },
         "mode": "markers",
         "name": "Charlotte Hornets",
         "orientation": "v",
         "showlegend": true,
         "type": "scatter",
         "x": [
          3
         ],
         "xaxis": "x",
         "y": [
          -1.32
         ],
         "yaxis": "y"
        },
        {
         "hovertemplate": "Team=Detroit Pistons<br>n_games=%{x}<br>SRS=%{y}<extra></extra>",
         "legendgroup": "Detroit Pistons",
         "marker": {
          "color": "#0C519A",
          "symbol": "circle"
         },
         "mode": "markers",
         "name": "Detroit Pistons",
         "orientation": "v",
         "showlegend": true,
         "type": "scatter",
         "x": [
          2
         ],
         "xaxis": "x",
         "y": [
          -3.19
         ],
         "yaxis": "y"
        },
        {
         "hovertemplate": "Team=Washington Wizards<br>n_games=%{x}<br>SRS=%{y}<extra></extra>",
         "legendgroup": "Washington Wizards",
         "marker": {
          "color": "#C73531",
          "symbol": "circle"
         },
         "mode": "markers",
         "name": "Washington Wizards",
         "orientation": "v",
         "showlegend": true,
         "type": "scatter",
         "x": [
          3
         ],
         "xaxis": "x",
         "y": [
          -4.12
         ],
         "yaxis": "y"
        },
        {
         "hovertemplate": "Team=New York Knicks<br>n_games=%{x}<br>SRS=%{y}<extra></extra>",
         "legendgroup": "New York Knicks",
         "marker": {
          "color": "#EE8133",
          "symbol": "circle"
         },
         "mode": "markers",
         "name": "New York Knicks",
         "orientation": "v",
         "showlegend": true,
         "type": "scatter",
         "x": [
          3
         ],
         "xaxis": "x",
         "y": [
          0.99
         ],
         "yaxis": "y"
        },
        {
         "hovertemplate": "Team=San Antonio Spurs<br>n_games=%{x}<br>SRS=%{y}<extra></extra>",
         "legendgroup": "San Antonio Spurs",
         "marker": {
          "color": "#000000",
          "symbol": "circle"
         },
         "mode": "markers",
         "name": "San Antonio Spurs",
         "orientation": "v",
         "showlegend": true,
         "type": "scatter",
         "x": [
          3
         ],
         "xaxis": "x",
         "y": [
          -1.84
         ],
         "yaxis": "y"
        },
        {
         "hovertemplate": "Team=Utah Jazz<br>n_games=%{x}<br>SRS=%{y}<extra></extra>",
         "legendgroup": "Utah Jazz",
         "marker": {
          "color": "#00275E",
          "symbol": "circle"
         },
         "mode": "markers",
         "name": "Utah Jazz",
         "orientation": "v",
         "showlegend": true,
         "type": "scatter",
         "x": [
          2
         ],
         "xaxis": "x",
         "y": [
          9.58
         ],
         "yaxis": "y"
        },
        {
         "hovertemplate": "Team=Sacramento Kings<br>n_games=%{x}<br>SRS=%{y}<extra></extra>",
         "legendgroup": "Sacramento Kings",
         "marker": {
          "color": "#393997",
          "symbol": "circle"
         },
         "mode": "markers",
         "name": "Sacramento Kings",
         "orientation": "v",
         "showlegend": true,
         "type": "scatter",
         "x": [
          3
         ],
         "xaxis": "x",
         "y": [
          -4.14
         ],
         "yaxis": "y"
        },
        {
         "hovertemplate": "Team=Los Angeles Clippers<br>n_games=%{x}<br>SRS=%{y}<extra></extra>",
         "legendgroup": "Los Angeles Clippers",
         "marker": {
          "color": "#D73932",
          "symbol": "circle"
         },
         "mode": "markers",
         "name": "Los Angeles Clippers",
         "orientation": "v",
         "showlegend": true,
         "type": "scatter",
         "x": [
          3
         ],
         "xaxis": "x",
         "y": [
          6.64
         ],
         "yaxis": "y"
        },
        {
         "hovertemplate": "Team=New Orleans Pelicans<br>n_games=%{x}<br>SRS=%{y}<extra></extra>",
         "legendgroup": "New Orleans Pelicans",
         "marker": {
          "color": "#0C2340",
          "symbol": "circle"
         },
         "mode": "markers",
         "name": "New Orleans Pelicans",
         "orientation": "v",
         "showlegend": true,
         "type": "scatter",
         "x": [
          3
         ],
         "xaxis": "x",
         "y": [
          -0.37
         ],
         "yaxis": "y"
        },
        {
         "hovertemplate": "Team=Golden State Warriors<br>n_games=%{x}<br>SRS=%{y}<extra></extra>",
         "legendgroup": "Golden State Warriors",
         "marker": {
          "color": "#0D529C",
          "symbol": "circle"
         },
         "mode": "markers",
         "name": "Golden State Warriors",
         "orientation": "v",
         "showlegend": true,
         "type": "scatter",
         "x": [
          3
         ],
         "xaxis": "x",
         "y": [
          -0.27
         ],
         "yaxis": "y"
        },
        {
         "hovertemplate": "Team=Atlanta Hawks<br>n_games=%{x}<br>SRS=%{y}<extra></extra>",
         "legendgroup": "Atlanta Hawks",
         "marker": {
          "color": "#DD3C3D",
          "symbol": "circle"
         },
         "mode": "markers",
         "name": "Atlanta Hawks",
         "orientation": "v",
         "showlegend": true,
         "type": "scatter",
         "x": [
          2
         ],
         "xaxis": "x",
         "y": [
          1.91
         ],
         "yaxis": "y"
        },
        {
         "hovertemplate": "Team=Dallas Mavericks<br>n_games=%{x}<br>SRS=%{y}<extra></extra>",
         "legendgroup": "Dallas Mavericks",
         "marker": {
          "color": "#0157B8",
          "symbol": "circle"
         },
         "mode": "markers",
         "name": "Dallas Mavericks",
         "orientation": "v",
         "showlegend": true,
         "type": "scatter",
         "x": [
          3
         ],
         "xaxis": "x",
         "y": [
          2.05
         ],
         "yaxis": "y"
        },
        {
         "hovertemplate": "Team=Oklahoma City Thunder<br>n_games=%{x}<br>SRS=%{y}<extra></extra>",
         "legendgroup": "Oklahoma City Thunder",
         "marker": {
          "color": "#297CC2",
          "symbol": "circle"
         },
         "mode": "markers",
         "name": "Oklahoma City Thunder",
         "orientation": "v",
         "showlegend": true,
         "type": "scatter",
         "x": [
          1
         ],
         "xaxis": "x",
         "y": [
          -8.59
         ],
         "yaxis": "y"
        },
        {
         "hovertemplate": "Team=Houston Rockets<br>n_games=%{x}<br>SRS=%{y}<extra></extra>",
         "legendgroup": "Houston Rockets",
         "marker": {
          "color": "#DA3A2F",
          "symbol": "circle"
         },
         "mode": "markers",
         "name": "Houston Rockets",
         "orientation": "v",
         "showlegend": true,
         "type": "scatter",
         "x": [
          1
         ],
         "xaxis": "x",
         "y": [
          -7.26
         ],
         "yaxis": "y"
        }
       ],
       "layout": {
        "legend": {
         "title": {
          "text": "Team"
         },
         "tracegroupgap": 0
        },
        "margin": {
         "t": 60
        },
        "template": {
         "data": {
          "bar": [
           {
            "error_x": {
             "color": "#2a3f5f"
            },
            "error_y": {
             "color": "#2a3f5f"
            },
            "marker": {
             "line": {
              "color": "#E5ECF6",
              "width": 0.5
             }
            },
            "type": "bar"
           }
          ],
          "barpolar": [
           {
            "marker": {
             "line": {
              "color": "#E5ECF6",
              "width": 0.5
             }
            },
            "type": "barpolar"
           }
          ],
          "carpet": [
           {
            "aaxis": {
             "endlinecolor": "#2a3f5f",
             "gridcolor": "white",
             "linecolor": "white",
             "minorgridcolor": "white",
             "startlinecolor": "#2a3f5f"
            },
            "baxis": {
             "endlinecolor": "#2a3f5f",
             "gridcolor": "white",
             "linecolor": "white",
             "minorgridcolor": "white",
             "startlinecolor": "#2a3f5f"
            },
            "type": "carpet"
           }
          ],
          "choropleth": [
           {
            "colorbar": {
             "outlinewidth": 0,
             "ticks": ""
            },
            "type": "choropleth"
           }
          ],
          "contour": [
           {
            "colorbar": {
             "outlinewidth": 0,
             "ticks": ""
            },
            "colorscale": [
             [
              0,
              "#0d0887"
             ],
             [
              0.1111111111111111,
              "#46039f"
             ],
             [
              0.2222222222222222,
              "#7201a8"
             ],
             [
              0.3333333333333333,
              "#9c179e"
             ],
             [
              0.4444444444444444,
              "#bd3786"
             ],
             [
              0.5555555555555556,
              "#d8576b"
             ],
             [
              0.6666666666666666,
              "#ed7953"
             ],
             [
              0.7777777777777778,
              "#fb9f3a"
             ],
             [
              0.8888888888888888,
              "#fdca26"
             ],
             [
              1,
              "#f0f921"
             ]
            ],
            "type": "contour"
           }
          ],
          "contourcarpet": [
           {
            "colorbar": {
             "outlinewidth": 0,
             "ticks": ""
            },
            "type": "contourcarpet"
           }
          ],
          "heatmap": [
           {
            "colorbar": {
             "outlinewidth": 0,
             "ticks": ""
            },
            "colorscale": [
             [
              0,
              "#0d0887"
             ],
             [
              0.1111111111111111,
              "#46039f"
             ],
             [
              0.2222222222222222,
              "#7201a8"
             ],
             [
              0.3333333333333333,
              "#9c179e"
             ],
             [
              0.4444444444444444,
              "#bd3786"
             ],
             [
              0.5555555555555556,
              "#d8576b"
             ],
             [
              0.6666666666666666,
              "#ed7953"
             ],
             [
              0.7777777777777778,
              "#fb9f3a"
             ],
             [
              0.8888888888888888,
              "#fdca26"
             ],
             [
              1,
              "#f0f921"
             ]
            ],
            "type": "heatmap"
           }
          ],
          "heatmapgl": [
           {
            "colorbar": {
             "outlinewidth": 0,
             "ticks": ""
            },
            "colorscale": [
             [
              0,
              "#0d0887"
             ],
             [
              0.1111111111111111,
              "#46039f"
             ],
             [
              0.2222222222222222,
              "#7201a8"
             ],
             [
              0.3333333333333333,
              "#9c179e"
             ],
             [
              0.4444444444444444,
              "#bd3786"
             ],
             [
              0.5555555555555556,
              "#d8576b"
             ],
             [
              0.6666666666666666,
              "#ed7953"
             ],
             [
              0.7777777777777778,
              "#fb9f3a"
             ],
             [
              0.8888888888888888,
              "#fdca26"
             ],
             [
              1,
              "#f0f921"
             ]
            ],
            "type": "heatmapgl"
           }
          ],
          "histogram": [
           {
            "marker": {
             "colorbar": {
              "outlinewidth": 0,
              "ticks": ""
             }
            },
            "type": "histogram"
           }
          ],
          "histogram2d": [
           {
            "colorbar": {
             "outlinewidth": 0,
             "ticks": ""
            },
            "colorscale": [
             [
              0,
              "#0d0887"
             ],
             [
              0.1111111111111111,
              "#46039f"
             ],
             [
              0.2222222222222222,
              "#7201a8"
             ],
             [
              0.3333333333333333,
              "#9c179e"
             ],
             [
              0.4444444444444444,
              "#bd3786"
             ],
             [
              0.5555555555555556,
              "#d8576b"
             ],
             [
              0.6666666666666666,
              "#ed7953"
             ],
             [
              0.7777777777777778,
              "#fb9f3a"
             ],
             [
              0.8888888888888888,
              "#fdca26"
             ],
             [
              1,
              "#f0f921"
             ]
            ],
            "type": "histogram2d"
           }
          ],
          "histogram2dcontour": [
           {
            "colorbar": {
             "outlinewidth": 0,
             "ticks": ""
            },
            "colorscale": [
             [
              0,
              "#0d0887"
             ],
             [
              0.1111111111111111,
              "#46039f"
             ],
             [
              0.2222222222222222,
              "#7201a8"
             ],
             [
              0.3333333333333333,
              "#9c179e"
             ],
             [
              0.4444444444444444,
              "#bd3786"
             ],
             [
              0.5555555555555556,
              "#d8576b"
             ],
             [
              0.6666666666666666,
              "#ed7953"
             ],
             [
              0.7777777777777778,
              "#fb9f3a"
             ],
             [
              0.8888888888888888,
              "#fdca26"
             ],
             [
              1,
              "#f0f921"
             ]
            ],
            "type": "histogram2dcontour"
           }
          ],
          "mesh3d": [
           {
            "colorbar": {
             "outlinewidth": 0,
             "ticks": ""
            },
            "type": "mesh3d"
           }
          ],
          "parcoords": [
           {
            "line": {
             "colorbar": {
              "outlinewidth": 0,
              "ticks": ""
             }
            },
            "type": "parcoords"
           }
          ],
          "pie": [
           {
            "automargin": true,
            "type": "pie"
           }
          ],
          "scatter": [
           {
            "marker": {
             "colorbar": {
              "outlinewidth": 0,
              "ticks": ""
             }
            },
            "type": "scatter"
           }
          ],
          "scatter3d": [
           {
            "line": {
             "colorbar": {
              "outlinewidth": 0,
              "ticks": ""
             }
            },
            "marker": {
             "colorbar": {
              "outlinewidth": 0,
              "ticks": ""
             }
            },
            "type": "scatter3d"
           }
          ],
          "scattercarpet": [
           {
            "marker": {
             "colorbar": {
              "outlinewidth": 0,
              "ticks": ""
             }
            },
            "type": "scattercarpet"
           }
          ],
          "scattergeo": [
           {
            "marker": {
             "colorbar": {
              "outlinewidth": 0,
              "ticks": ""
             }
            },
            "type": "scattergeo"
           }
          ],
          "scattergl": [
           {
            "marker": {
             "colorbar": {
              "outlinewidth": 0,
              "ticks": ""
             }
            },
            "type": "scattergl"
           }
          ],
          "scattermapbox": [
           {
            "marker": {
             "colorbar": {
              "outlinewidth": 0,
              "ticks": ""
             }
            },
            "type": "scattermapbox"
           }
          ],
          "scatterpolar": [
           {
            "marker": {
             "colorbar": {
              "outlinewidth": 0,
              "ticks": ""
             }
            },
            "type": "scatterpolar"
           }
          ],
          "scatterpolargl": [
           {
            "marker": {
             "colorbar": {
              "outlinewidth": 0,
              "ticks": ""
             }
            },
            "type": "scatterpolargl"
           }
          ],
          "scatterternary": [
           {
            "marker": {
             "colorbar": {
              "outlinewidth": 0,
              "ticks": ""
             }
            },
            "type": "scatterternary"
           }
          ],
          "surface": [
           {
            "colorbar": {
             "outlinewidth": 0,
             "ticks": ""
            },
            "colorscale": [
             [
              0,
              "#0d0887"
             ],
             [
              0.1111111111111111,
              "#46039f"
             ],
             [
              0.2222222222222222,
              "#7201a8"
             ],
             [
              0.3333333333333333,
              "#9c179e"
             ],
             [
              0.4444444444444444,
              "#bd3786"
             ],
             [
              0.5555555555555556,
              "#d8576b"
             ],
             [
              0.6666666666666666,
              "#ed7953"
             ],
             [
              0.7777777777777778,
              "#fb9f3a"
             ],
             [
              0.8888888888888888,
              "#fdca26"
             ],
             [
              1,
              "#f0f921"
             ]
            ],
            "type": "surface"
           }
          ],
          "table": [
           {
            "cells": {
             "fill": {
              "color": "#EBF0F8"
             },
             "line": {
              "color": "white"
             }
            },
            "header": {
             "fill": {
              "color": "#C8D4E3"
             },
             "line": {
              "color": "white"
             }
            },
            "type": "table"
           }
          ]
         },
         "layout": {
          "annotationdefaults": {
           "arrowcolor": "#2a3f5f",
           "arrowhead": 0,
           "arrowwidth": 1
          },
          "autotypenumbers": "strict",
          "coloraxis": {
           "colorbar": {
            "outlinewidth": 0,
            "ticks": ""
           }
          },
          "colorscale": {
           "diverging": [
            [
             0,
             "#8e0152"
            ],
            [
             0.1,
             "#c51b7d"
            ],
            [
             0.2,
             "#de77ae"
            ],
            [
             0.3,
             "#f1b6da"
            ],
            [
             0.4,
             "#fde0ef"
            ],
            [
             0.5,
             "#f7f7f7"
            ],
            [
             0.6,
             "#e6f5d0"
            ],
            [
             0.7,
             "#b8e186"
            ],
            [
             0.8,
             "#7fbc41"
            ],
            [
             0.9,
             "#4d9221"
            ],
            [
             1,
             "#276419"
            ]
           ],
           "sequential": [
            [
             0,
             "#0d0887"
            ],
            [
             0.1111111111111111,
             "#46039f"
            ],
            [
             0.2222222222222222,
             "#7201a8"
            ],
            [
             0.3333333333333333,
             "#9c179e"
            ],
            [
             0.4444444444444444,
             "#bd3786"
            ],
            [
             0.5555555555555556,
             "#d8576b"
            ],
            [
             0.6666666666666666,
             "#ed7953"
            ],
            [
             0.7777777777777778,
             "#fb9f3a"
            ],
            [
             0.8888888888888888,
             "#fdca26"
            ],
            [
             1,
             "#f0f921"
            ]
           ],
           "sequentialminus": [
            [
             0,
             "#0d0887"
            ],
            [
             0.1111111111111111,
             "#46039f"
            ],
            [
             0.2222222222222222,
             "#7201a8"
            ],
            [
             0.3333333333333333,
             "#9c179e"
            ],
            [
             0.4444444444444444,
             "#bd3786"
            ],
            [
             0.5555555555555556,
             "#d8576b"
            ],
            [
             0.6666666666666666,
             "#ed7953"
            ],
            [
             0.7777777777777778,
             "#fb9f3a"
            ],
            [
             0.8888888888888888,
             "#fdca26"
            ],
            [
             1,
             "#f0f921"
            ]
           ]
          },
          "colorway": [
           "#636efa",
           "#EF553B",
           "#00cc96",
           "#ab63fa",
           "#FFA15A",
           "#19d3f3",
           "#FF6692",
           "#B6E880",
           "#FF97FF",
           "#FECB52"
          ],
          "font": {
           "color": "#2a3f5f"
          },
          "geo": {
           "bgcolor": "white",
           "lakecolor": "white",
           "landcolor": "#E5ECF6",
           "showlakes": true,
           "showland": true,
           "subunitcolor": "white"
          },
          "hoverlabel": {
           "align": "left"
          },
          "hovermode": "closest",
          "mapbox": {
           "style": "light"
          },
          "paper_bgcolor": "white",
          "plot_bgcolor": "#E5ECF6",
          "polar": {
           "angularaxis": {
            "gridcolor": "white",
            "linecolor": "white",
            "ticks": ""
           },
           "bgcolor": "#E5ECF6",
           "radialaxis": {
            "gridcolor": "white",
            "linecolor": "white",
            "ticks": ""
           }
          },
          "scene": {
           "xaxis": {
            "backgroundcolor": "#E5ECF6",
            "gridcolor": "white",
            "gridwidth": 2,
            "linecolor": "white",
            "showbackground": true,
            "ticks": "",
            "zerolinecolor": "white"
           },
           "yaxis": {
            "backgroundcolor": "#E5ECF6",
            "gridcolor": "white",
            "gridwidth": 2,
            "linecolor": "white",
            "showbackground": true,
            "ticks": "",
            "zerolinecolor": "white"
           },
           "zaxis": {
            "backgroundcolor": "#E5ECF6",
            "gridcolor": "white",
            "gridwidth": 2,
            "linecolor": "white",
            "showbackground": true,
            "ticks": "",
            "zerolinecolor": "white"
           }
          },
          "shapedefaults": {
           "line": {
            "color": "#2a3f5f"
           }
          },
          "ternary": {
           "aaxis": {
            "gridcolor": "white",
            "linecolor": "white",
            "ticks": ""
           },
           "baxis": {
            "gridcolor": "white",
            "linecolor": "white",
            "ticks": ""
           },
           "bgcolor": "#E5ECF6",
           "caxis": {
            "gridcolor": "white",
            "linecolor": "white",
            "ticks": ""
           }
          },
          "title": {
           "x": 0.05
          },
          "xaxis": {
           "automargin": true,
           "gridcolor": "white",
           "linecolor": "white",
           "ticks": "",
           "title": {
            "standoff": 15
           },
           "zerolinecolor": "white",
           "zerolinewidth": 2
          },
          "yaxis": {
           "automargin": true,
           "gridcolor": "white",
           "linecolor": "white",
           "ticks": "",
           "title": {
            "standoff": 15
           },
           "zerolinecolor": "white",
           "zerolinewidth": 2
          }
         }
        },
        "xaxis": {
         "anchor": "y",
         "domain": [
          0,
          1
         ],
         "title": {
          "text": "n_games"
         }
        },
        "yaxis": {
         "anchor": "x",
         "domain": [
          0,
          1
         ],
         "title": {
          "text": "SRS"
         }
        }
       }
      },
      "text/html": [
       "<div>                            <div id=\"ba9a20e4-5501-4a9c-a950-ca001d8a95c6\" class=\"plotly-graph-div\" style=\"height:525px; width:100%;\"></div>            <script type=\"text/javascript\">                require([\"plotly\"], function(Plotly) {                    window.PLOTLYENV=window.PLOTLYENV || {};                                    if (document.getElementById(\"ba9a20e4-5501-4a9c-a950-ca001d8a95c6\")) {                    Plotly.newPlot(                        \"ba9a20e4-5501-4a9c-a950-ca001d8a95c6\",                        [{\"hovertemplate\": \"Team=Brooklyn Nets<br>n_games=%{x}<br>SRS=%{y}<extra></extra>\", \"legendgroup\": \"Brooklyn Nets\", \"marker\": {\"color\": \"#000000\", \"symbol\": \"circle\"}, \"mode\": \"markers\", \"name\": \"Brooklyn Nets\", \"orientation\": \"v\", \"showlegend\": true, \"type\": \"scatter\", \"x\": [3], \"xaxis\": \"x\", \"y\": [4.18], \"yaxis\": \"y\"}, {\"hovertemplate\": \"Team=Los Angeles Lakers<br>n_games=%{x}<br>SRS=%{y}<extra></extra>\", \"legendgroup\": \"Los Angeles Lakers\", \"marker\": {\"color\": \"#552781\", \"symbol\": \"circle\"}, \"mode\": \"markers\", \"name\": \"Los Angeles Lakers\", \"orientation\": \"v\", \"showlegend\": true, \"type\": \"scatter\", \"x\": [3], \"xaxis\": \"x\", \"y\": [3.5], \"yaxis\": \"y\"}, {\"hovertemplate\": \"Team=Cleveland Cavaliers<br>n_games=%{x}<br>SRS=%{y}<extra></extra>\", \"legendgroup\": \"Cleveland Cavaliers\", \"marker\": {\"color\": \"#6F263D\", \"symbol\": \"circle\"}, \"mode\": \"markers\", \"name\": \"Cleveland Cavaliers\", \"orientation\": \"v\", \"showlegend\": true, \"type\": \"scatter\", \"x\": [3], \"xaxis\": \"x\", \"y\": [-6.75], \"yaxis\": \"y\"}, {\"hovertemplate\": \"Team=Indiana Pacers<br>n_games=%{x}<br>SRS=%{y}<extra></extra>\", \"legendgroup\": \"Indiana Pacers\", \"marker\": {\"color\": \"#F6BA33\", \"symbol\": \"circle\"}, \"mode\": \"markers\", \"name\": \"Indiana Pacers\", \"orientation\": \"v\", \"showlegend\": true, \"type\": \"scatter\", \"x\": [3], \"xaxis\": \"x\", \"y\": [-0.01], \"yaxis\": \"y\"}, {\"hovertemplate\": \"Team=Orlando Magic<br>n_games=%{x}<br>SRS=%{y}<extra></extra>\", \"legendgroup\": \"Orlando Magic\", \"marker\": {\"color\": \"#287DC5\", \"symbol\": \"circle\"}, \"mode\": \"markers\", \"name\": \"Orlando Magic\", \"orientation\": \"v\", \"showlegend\": true, \"type\": \"scatter\", \"x\": [3], \"xaxis\": \"x\", \"y\": [-7.47], \"yaxis\": \"y\"}, {\"hovertemplate\": \"Team=Philadelphia 76ers<br>n_games=%{x}<br>SRS=%{y}<extra></extra>\", \"legendgroup\": \"Philadelphia 76ers\", \"marker\": {\"color\": \"#1560BD\", \"symbol\": \"circle\"}, \"mode\": \"markers\", \"name\": \"Philadelphia 76ers\", \"orientation\": \"v\", \"showlegend\": true, \"type\": \"scatter\", \"x\": [3], \"xaxis\": \"x\", \"y\": [5.26], \"yaxis\": \"y\"}, {\"hovertemplate\": \"Team=Toronto Raptors<br>n_games=%{x}<br>SRS=%{y}<extra></extra>\", \"legendgroup\": \"Toronto Raptors\", \"marker\": {\"color\": \"#B52F25\", \"symbol\": \"circle\"}, \"mode\": \"markers\", \"name\": \"Toronto Raptors\", \"orientation\": \"v\", \"showlegend\": true, \"type\": \"scatter\", \"x\": [2], \"xaxis\": \"x\", \"y\": [0.09], \"yaxis\": \"y\"}, {\"hovertemplate\": \"Team=Boston Celtics<br>n_games=%{x}<br>SRS=%{y}<extra></extra>\", \"legendgroup\": \"Boston Celtics\", \"marker\": {\"color\": \"#55AA62\", \"symbol\": \"circle\"}, \"mode\": \"markers\", \"name\": \"Boston Celtics\", \"orientation\": \"v\", \"showlegend\": true, \"type\": \"scatter\", \"x\": [3], \"xaxis\": \"x\", \"y\": [2.4], \"yaxis\": \"y\"}, {\"hovertemplate\": \"Team=Chicago Bulls<br>n_games=%{x}<br>SRS=%{y}<extra></extra>\", \"legendgroup\": \"Chicago Bulls\", \"marker\": {\"color\": \"#D5392E\", \"symbol\": \"circle\"}, \"mode\": \"markers\", \"name\": \"Chicago Bulls\", \"orientation\": \"v\", \"showlegend\": true, \"type\": \"scatter\", \"x\": [3], \"xaxis\": \"x\", \"y\": [-1.73], \"yaxis\": \"y\"}, {\"hovertemplate\": \"Team=Memphis Grizzlies<br>n_games=%{x}<br>SRS=%{y}<extra></extra>\", \"legendgroup\": \"Memphis Grizzlies\", \"marker\": {\"color\": \"#05274A\", \"symbol\": \"circle\"}, \"mode\": \"markers\", \"name\": \"Memphis Grizzlies\", \"orientation\": \"v\", \"showlegend\": true, \"type\": \"scatter\", \"x\": [2], \"xaxis\": \"x\", \"y\": [1.66], \"yaxis\": \"y\"}, {\"hovertemplate\": \"Team=Minnesota Timberwolves<br>n_games=%{x}<br>SRS=%{y}<extra></extra>\", \"legendgroup\": \"Minnesota Timberwolves\", \"marker\": {\"color\": \"#236193\", \"symbol\": \"circle\"}, \"mode\": \"markers\", \"name\": \"Minnesota Timberwolves\", \"orientation\": \"v\", \"showlegend\": true, \"type\": \"scatter\", \"x\": [3], \"xaxis\": \"x\", \"y\": [-7.4], \"yaxis\": \"y\"}, {\"hovertemplate\": \"Team=Denver Nuggets<br>n_games=%{x}<br>SRS=%{y}<extra></extra>\", \"legendgroup\": \"Denver Nuggets\", \"marker\": {\"color\": \"#F7C133\", \"symbol\": \"circle\"}, \"mode\": \"markers\", \"name\": \"Denver Nuggets\", \"orientation\": \"v\", \"showlegend\": true, \"type\": \"scatter\", \"x\": [2], \"xaxis\": \"x\", \"y\": [5.14], \"yaxis\": \"y\"}, {\"hovertemplate\": \"Team=Portland Trail Blazers<br>n_games=%{x}<br>SRS=%{y}<extra></extra>\", \"legendgroup\": \"Portland Trail Blazers\", \"marker\": {\"color\": \"#000000\", \"symbol\": \"circle\"}, \"mode\": \"markers\", \"name\": \"Portland Trail Blazers\", \"orientation\": \"v\", \"showlegend\": true, \"type\": \"scatter\", \"x\": [2], \"xaxis\": \"x\", \"y\": [-0.67], \"yaxis\": \"y\"}, {\"hovertemplate\": \"Team=Phoenix Suns<br>n_games=%{x}<br>SRS=%{y}<extra></extra>\", \"legendgroup\": \"Phoenix Suns\", \"marker\": {\"color\": \"#1F1861\", \"symbol\": \"circle\"}, \"mode\": \"markers\", \"name\": \"Phoenix Suns\", \"orientation\": \"v\", \"showlegend\": true, \"type\": \"scatter\", \"x\": [3], \"xaxis\": \"x\", \"y\": [6.54], \"yaxis\": \"y\"}, {\"hovertemplate\": \"Team=Miami Heat<br>n_games=%{x}<br>SRS=%{y}<extra></extra>\", \"legendgroup\": \"Miami Heat\", \"marker\": {\"color\": \"#000000\", \"symbol\": \"circle\"}, \"mode\": \"markers\", \"name\": \"Miami Heat\", \"orientation\": \"v\", \"showlegend\": true, \"type\": \"scatter\", \"x\": [2], \"xaxis\": \"x\", \"y\": [-1.23], \"yaxis\": \"y\"}, {\"hovertemplate\": \"Team=Milwaukee Bucks<br>n_games=%{x}<br>SRS=%{y}<extra></extra>\", \"legendgroup\": \"Milwaukee Bucks\", \"marker\": {\"color\": \"#2D5234\", \"symbol\": \"circle\"}, \"mode\": \"markers\", \"name\": \"Milwaukee Bucks\", \"orientation\": \"v\", \"showlegend\": true, \"type\": \"scatter\", \"x\": [3], \"xaxis\": \"x\", \"y\": [6.22], \"yaxis\": \"y\"}, {\"hovertemplate\": \"Team=Charlotte Hornets<br>n_games=%{x}<br>SRS=%{y}<extra></extra>\", \"legendgroup\": \"Charlotte Hornets\", \"marker\": {\"color\": \"#3B8DAA\", \"symbol\": \"circle\"}, \"mode\": \"markers\", \"name\": \"Charlotte Hornets\", \"orientation\": \"v\", \"showlegend\": true, \"type\": \"scatter\", \"x\": [3], \"xaxis\": \"x\", \"y\": [-1.32], \"yaxis\": \"y\"}, {\"hovertemplate\": \"Team=Detroit Pistons<br>n_games=%{x}<br>SRS=%{y}<extra></extra>\", \"legendgroup\": \"Detroit Pistons\", \"marker\": {\"color\": \"#0C519A\", \"symbol\": \"circle\"}, \"mode\": \"markers\", \"name\": \"Detroit Pistons\", \"orientation\": \"v\", \"showlegend\": true, \"type\": \"scatter\", \"x\": [2], \"xaxis\": \"x\", \"y\": [-3.19], \"yaxis\": \"y\"}, {\"hovertemplate\": \"Team=Washington Wizards<br>n_games=%{x}<br>SRS=%{y}<extra></extra>\", \"legendgroup\": \"Washington Wizards\", \"marker\": {\"color\": \"#C73531\", \"symbol\": \"circle\"}, \"mode\": \"markers\", \"name\": \"Washington Wizards\", \"orientation\": \"v\", \"showlegend\": true, \"type\": \"scatter\", \"x\": [3], \"xaxis\": \"x\", \"y\": [-4.12], \"yaxis\": \"y\"}, {\"hovertemplate\": \"Team=New York Knicks<br>n_games=%{x}<br>SRS=%{y}<extra></extra>\", \"legendgroup\": \"New York Knicks\", \"marker\": {\"color\": \"#EE8133\", \"symbol\": \"circle\"}, \"mode\": \"markers\", \"name\": \"New York Knicks\", \"orientation\": \"v\", \"showlegend\": true, \"type\": \"scatter\", \"x\": [3], \"xaxis\": \"x\", \"y\": [0.99], \"yaxis\": \"y\"}, {\"hovertemplate\": \"Team=San Antonio Spurs<br>n_games=%{x}<br>SRS=%{y}<extra></extra>\", \"legendgroup\": \"San Antonio Spurs\", \"marker\": {\"color\": \"#000000\", \"symbol\": \"circle\"}, \"mode\": \"markers\", \"name\": \"San Antonio Spurs\", \"orientation\": \"v\", \"showlegend\": true, \"type\": \"scatter\", \"x\": [3], \"xaxis\": \"x\", \"y\": [-1.84], \"yaxis\": \"y\"}, {\"hovertemplate\": \"Team=Utah Jazz<br>n_games=%{x}<br>SRS=%{y}<extra></extra>\", \"legendgroup\": \"Utah Jazz\", \"marker\": {\"color\": \"#00275E\", \"symbol\": \"circle\"}, \"mode\": \"markers\", \"name\": \"Utah Jazz\", \"orientation\": \"v\", \"showlegend\": true, \"type\": \"scatter\", \"x\": [2], \"xaxis\": \"x\", \"y\": [9.58], \"yaxis\": \"y\"}, {\"hovertemplate\": \"Team=Sacramento Kings<br>n_games=%{x}<br>SRS=%{y}<extra></extra>\", \"legendgroup\": \"Sacramento Kings\", \"marker\": {\"color\": \"#393997\", \"symbol\": \"circle\"}, \"mode\": \"markers\", \"name\": \"Sacramento Kings\", \"orientation\": \"v\", \"showlegend\": true, \"type\": \"scatter\", \"x\": [3], \"xaxis\": \"x\", \"y\": [-4.14], \"yaxis\": \"y\"}, {\"hovertemplate\": \"Team=Los Angeles Clippers<br>n_games=%{x}<br>SRS=%{y}<extra></extra>\", \"legendgroup\": \"Los Angeles Clippers\", \"marker\": {\"color\": \"#D73932\", \"symbol\": \"circle\"}, \"mode\": \"markers\", \"name\": \"Los Angeles Clippers\", \"orientation\": \"v\", \"showlegend\": true, \"type\": \"scatter\", \"x\": [3], \"xaxis\": \"x\", \"y\": [6.64], \"yaxis\": \"y\"}, {\"hovertemplate\": \"Team=New Orleans Pelicans<br>n_games=%{x}<br>SRS=%{y}<extra></extra>\", \"legendgroup\": \"New Orleans Pelicans\", \"marker\": {\"color\": \"#0C2340\", \"symbol\": \"circle\"}, \"mode\": \"markers\", \"name\": \"New Orleans Pelicans\", \"orientation\": \"v\", \"showlegend\": true, \"type\": \"scatter\", \"x\": [3], \"xaxis\": \"x\", \"y\": [-0.37], \"yaxis\": \"y\"}, {\"hovertemplate\": \"Team=Golden State Warriors<br>n_games=%{x}<br>SRS=%{y}<extra></extra>\", \"legendgroup\": \"Golden State Warriors\", \"marker\": {\"color\": \"#0D529C\", \"symbol\": \"circle\"}, \"mode\": \"markers\", \"name\": \"Golden State Warriors\", \"orientation\": \"v\", \"showlegend\": true, \"type\": \"scatter\", \"x\": [3], \"xaxis\": \"x\", \"y\": [-0.27], \"yaxis\": \"y\"}, {\"hovertemplate\": \"Team=Atlanta Hawks<br>n_games=%{x}<br>SRS=%{y}<extra></extra>\", \"legendgroup\": \"Atlanta Hawks\", \"marker\": {\"color\": \"#DD3C3D\", \"symbol\": \"circle\"}, \"mode\": \"markers\", \"name\": \"Atlanta Hawks\", \"orientation\": \"v\", \"showlegend\": true, \"type\": \"scatter\", \"x\": [2], \"xaxis\": \"x\", \"y\": [1.91], \"yaxis\": \"y\"}, {\"hovertemplate\": \"Team=Dallas Mavericks<br>n_games=%{x}<br>SRS=%{y}<extra></extra>\", \"legendgroup\": \"Dallas Mavericks\", \"marker\": {\"color\": \"#0157B8\", \"symbol\": \"circle\"}, \"mode\": \"markers\", \"name\": \"Dallas Mavericks\", \"orientation\": \"v\", \"showlegend\": true, \"type\": \"scatter\", \"x\": [3], \"xaxis\": \"x\", \"y\": [2.05], \"yaxis\": \"y\"}, {\"hovertemplate\": \"Team=Oklahoma City Thunder<br>n_games=%{x}<br>SRS=%{y}<extra></extra>\", \"legendgroup\": \"Oklahoma City Thunder\", \"marker\": {\"color\": \"#297CC2\", \"symbol\": \"circle\"}, \"mode\": \"markers\", \"name\": \"Oklahoma City Thunder\", \"orientation\": \"v\", \"showlegend\": true, \"type\": \"scatter\", \"x\": [1], \"xaxis\": \"x\", \"y\": [-8.59], \"yaxis\": \"y\"}, {\"hovertemplate\": \"Team=Houston Rockets<br>n_games=%{x}<br>SRS=%{y}<extra></extra>\", \"legendgroup\": \"Houston Rockets\", \"marker\": {\"color\": \"#DA3A2F\", \"symbol\": \"circle\"}, \"mode\": \"markers\", \"name\": \"Houston Rockets\", \"orientation\": \"v\", \"showlegend\": true, \"type\": \"scatter\", \"x\": [1], \"xaxis\": \"x\", \"y\": [-7.26], \"yaxis\": \"y\"}],                        {\"legend\": {\"title\": {\"text\": \"Team\"}, \"tracegroupgap\": 0}, \"margin\": {\"t\": 60}, \"template\": {\"data\": {\"bar\": [{\"error_x\": {\"color\": \"#2a3f5f\"}, \"error_y\": {\"color\": \"#2a3f5f\"}, \"marker\": {\"line\": {\"color\": \"#E5ECF6\", \"width\": 0.5}}, \"type\": \"bar\"}], \"barpolar\": [{\"marker\": {\"line\": {\"color\": \"#E5ECF6\", \"width\": 0.5}}, \"type\": \"barpolar\"}], \"carpet\": [{\"aaxis\": {\"endlinecolor\": \"#2a3f5f\", \"gridcolor\": \"white\", \"linecolor\": \"white\", \"minorgridcolor\": \"white\", \"startlinecolor\": \"#2a3f5f\"}, \"baxis\": {\"endlinecolor\": \"#2a3f5f\", \"gridcolor\": \"white\", \"linecolor\": \"white\", \"minorgridcolor\": \"white\", \"startlinecolor\": \"#2a3f5f\"}, \"type\": \"carpet\"}], \"choropleth\": [{\"colorbar\": {\"outlinewidth\": 0, \"ticks\": \"\"}, \"type\": \"choropleth\"}], \"contour\": [{\"colorbar\": {\"outlinewidth\": 0, \"ticks\": \"\"}, \"colorscale\": [[0.0, \"#0d0887\"], [0.1111111111111111, \"#46039f\"], [0.2222222222222222, \"#7201a8\"], [0.3333333333333333, \"#9c179e\"], [0.4444444444444444, \"#bd3786\"], [0.5555555555555556, \"#d8576b\"], [0.6666666666666666, \"#ed7953\"], [0.7777777777777778, \"#fb9f3a\"], [0.8888888888888888, \"#fdca26\"], [1.0, \"#f0f921\"]], \"type\": \"contour\"}], \"contourcarpet\": [{\"colorbar\": {\"outlinewidth\": 0, \"ticks\": \"\"}, \"type\": \"contourcarpet\"}], \"heatmap\": [{\"colorbar\": {\"outlinewidth\": 0, \"ticks\": \"\"}, \"colorscale\": [[0.0, \"#0d0887\"], [0.1111111111111111, \"#46039f\"], [0.2222222222222222, \"#7201a8\"], [0.3333333333333333, \"#9c179e\"], [0.4444444444444444, \"#bd3786\"], [0.5555555555555556, \"#d8576b\"], [0.6666666666666666, \"#ed7953\"], [0.7777777777777778, \"#fb9f3a\"], [0.8888888888888888, \"#fdca26\"], [1.0, \"#f0f921\"]], \"type\": \"heatmap\"}], \"heatmapgl\": [{\"colorbar\": {\"outlinewidth\": 0, \"ticks\": \"\"}, \"colorscale\": [[0.0, \"#0d0887\"], [0.1111111111111111, \"#46039f\"], [0.2222222222222222, \"#7201a8\"], [0.3333333333333333, \"#9c179e\"], [0.4444444444444444, \"#bd3786\"], [0.5555555555555556, \"#d8576b\"], [0.6666666666666666, \"#ed7953\"], [0.7777777777777778, \"#fb9f3a\"], [0.8888888888888888, \"#fdca26\"], [1.0, \"#f0f921\"]], \"type\": \"heatmapgl\"}], \"histogram\": [{\"marker\": {\"colorbar\": {\"outlinewidth\": 0, \"ticks\": \"\"}}, \"type\": \"histogram\"}], \"histogram2d\": [{\"colorbar\": {\"outlinewidth\": 0, \"ticks\": \"\"}, \"colorscale\": [[0.0, \"#0d0887\"], [0.1111111111111111, \"#46039f\"], [0.2222222222222222, \"#7201a8\"], [0.3333333333333333, \"#9c179e\"], [0.4444444444444444, \"#bd3786\"], [0.5555555555555556, \"#d8576b\"], [0.6666666666666666, \"#ed7953\"], [0.7777777777777778, \"#fb9f3a\"], [0.8888888888888888, \"#fdca26\"], [1.0, \"#f0f921\"]], \"type\": \"histogram2d\"}], \"histogram2dcontour\": [{\"colorbar\": {\"outlinewidth\": 0, \"ticks\": \"\"}, \"colorscale\": [[0.0, \"#0d0887\"], [0.1111111111111111, \"#46039f\"], [0.2222222222222222, \"#7201a8\"], [0.3333333333333333, \"#9c179e\"], [0.4444444444444444, \"#bd3786\"], [0.5555555555555556, \"#d8576b\"], [0.6666666666666666, \"#ed7953\"], [0.7777777777777778, \"#fb9f3a\"], [0.8888888888888888, \"#fdca26\"], [1.0, \"#f0f921\"]], \"type\": \"histogram2dcontour\"}], \"mesh3d\": [{\"colorbar\": {\"outlinewidth\": 0, \"ticks\": \"\"}, \"type\": \"mesh3d\"}], \"parcoords\": [{\"line\": {\"colorbar\": {\"outlinewidth\": 0, \"ticks\": \"\"}}, \"type\": \"parcoords\"}], \"pie\": [{\"automargin\": true, \"type\": \"pie\"}], \"scatter\": [{\"marker\": {\"colorbar\": {\"outlinewidth\": 0, \"ticks\": \"\"}}, \"type\": \"scatter\"}], \"scatter3d\": [{\"line\": {\"colorbar\": {\"outlinewidth\": 0, \"ticks\": \"\"}}, \"marker\": {\"colorbar\": {\"outlinewidth\": 0, \"ticks\": \"\"}}, \"type\": \"scatter3d\"}], \"scattercarpet\": [{\"marker\": {\"colorbar\": {\"outlinewidth\": 0, \"ticks\": \"\"}}, \"type\": \"scattercarpet\"}], \"scattergeo\": [{\"marker\": {\"colorbar\": {\"outlinewidth\": 0, \"ticks\": \"\"}}, \"type\": \"scattergeo\"}], \"scattergl\": [{\"marker\": {\"colorbar\": {\"outlinewidth\": 0, \"ticks\": \"\"}}, \"type\": \"scattergl\"}], \"scattermapbox\": [{\"marker\": {\"colorbar\": {\"outlinewidth\": 0, \"ticks\": \"\"}}, \"type\": \"scattermapbox\"}], \"scatterpolar\": [{\"marker\": {\"colorbar\": {\"outlinewidth\": 0, \"ticks\": \"\"}}, \"type\": \"scatterpolar\"}], \"scatterpolargl\": [{\"marker\": {\"colorbar\": {\"outlinewidth\": 0, \"ticks\": \"\"}}, \"type\": \"scatterpolargl\"}], \"scatterternary\": [{\"marker\": {\"colorbar\": {\"outlinewidth\": 0, \"ticks\": \"\"}}, \"type\": \"scatterternary\"}], \"surface\": [{\"colorbar\": {\"outlinewidth\": 0, \"ticks\": \"\"}, \"colorscale\": [[0.0, \"#0d0887\"], [0.1111111111111111, \"#46039f\"], [0.2222222222222222, \"#7201a8\"], [0.3333333333333333, \"#9c179e\"], [0.4444444444444444, \"#bd3786\"], [0.5555555555555556, \"#d8576b\"], [0.6666666666666666, \"#ed7953\"], [0.7777777777777778, \"#fb9f3a\"], [0.8888888888888888, \"#fdca26\"], [1.0, \"#f0f921\"]], \"type\": \"surface\"}], \"table\": [{\"cells\": {\"fill\": {\"color\": \"#EBF0F8\"}, \"line\": {\"color\": \"white\"}}, \"header\": {\"fill\": {\"color\": \"#C8D4E3\"}, \"line\": {\"color\": \"white\"}}, \"type\": \"table\"}]}, \"layout\": {\"annotationdefaults\": {\"arrowcolor\": \"#2a3f5f\", \"arrowhead\": 0, \"arrowwidth\": 1}, \"autotypenumbers\": \"strict\", \"coloraxis\": {\"colorbar\": {\"outlinewidth\": 0, \"ticks\": \"\"}}, \"colorscale\": {\"diverging\": [[0, \"#8e0152\"], [0.1, \"#c51b7d\"], [0.2, \"#de77ae\"], [0.3, \"#f1b6da\"], [0.4, \"#fde0ef\"], [0.5, \"#f7f7f7\"], [0.6, \"#e6f5d0\"], [0.7, \"#b8e186\"], [0.8, \"#7fbc41\"], [0.9, \"#4d9221\"], [1, \"#276419\"]], \"sequential\": [[0.0, \"#0d0887\"], [0.1111111111111111, \"#46039f\"], [0.2222222222222222, \"#7201a8\"], [0.3333333333333333, \"#9c179e\"], [0.4444444444444444, \"#bd3786\"], [0.5555555555555556, \"#d8576b\"], [0.6666666666666666, \"#ed7953\"], [0.7777777777777778, \"#fb9f3a\"], [0.8888888888888888, \"#fdca26\"], [1.0, \"#f0f921\"]], \"sequentialminus\": [[0.0, \"#0d0887\"], [0.1111111111111111, \"#46039f\"], [0.2222222222222222, \"#7201a8\"], [0.3333333333333333, \"#9c179e\"], [0.4444444444444444, \"#bd3786\"], [0.5555555555555556, \"#d8576b\"], [0.6666666666666666, \"#ed7953\"], [0.7777777777777778, \"#fb9f3a\"], [0.8888888888888888, \"#fdca26\"], [1.0, \"#f0f921\"]]}, \"colorway\": [\"#636efa\", \"#EF553B\", \"#00cc96\", \"#ab63fa\", \"#FFA15A\", \"#19d3f3\", \"#FF6692\", \"#B6E880\", \"#FF97FF\", \"#FECB52\"], \"font\": {\"color\": \"#2a3f5f\"}, \"geo\": {\"bgcolor\": \"white\", \"lakecolor\": \"white\", \"landcolor\": \"#E5ECF6\", \"showlakes\": true, \"showland\": true, \"subunitcolor\": \"white\"}, \"hoverlabel\": {\"align\": \"left\"}, \"hovermode\": \"closest\", \"mapbox\": {\"style\": \"light\"}, \"paper_bgcolor\": \"white\", \"plot_bgcolor\": \"#E5ECF6\", \"polar\": {\"angularaxis\": {\"gridcolor\": \"white\", \"linecolor\": \"white\", \"ticks\": \"\"}, \"bgcolor\": \"#E5ECF6\", \"radialaxis\": {\"gridcolor\": \"white\", \"linecolor\": \"white\", \"ticks\": \"\"}}, \"scene\": {\"xaxis\": {\"backgroundcolor\": \"#E5ECF6\", \"gridcolor\": \"white\", \"gridwidth\": 2, \"linecolor\": \"white\", \"showbackground\": true, \"ticks\": \"\", \"zerolinecolor\": \"white\"}, \"yaxis\": {\"backgroundcolor\": \"#E5ECF6\", \"gridcolor\": \"white\", \"gridwidth\": 2, \"linecolor\": \"white\", \"showbackground\": true, \"ticks\": \"\", \"zerolinecolor\": \"white\"}, \"zaxis\": {\"backgroundcolor\": \"#E5ECF6\", \"gridcolor\": \"white\", \"gridwidth\": 2, \"linecolor\": \"white\", \"showbackground\": true, \"ticks\": \"\", \"zerolinecolor\": \"white\"}}, \"shapedefaults\": {\"line\": {\"color\": \"#2a3f5f\"}}, \"ternary\": {\"aaxis\": {\"gridcolor\": \"white\", \"linecolor\": \"white\", \"ticks\": \"\"}, \"baxis\": {\"gridcolor\": \"white\", \"linecolor\": \"white\", \"ticks\": \"\"}, \"bgcolor\": \"#E5ECF6\", \"caxis\": {\"gridcolor\": \"white\", \"linecolor\": \"white\", \"ticks\": \"\"}}, \"title\": {\"x\": 0.05}, \"xaxis\": {\"automargin\": true, \"gridcolor\": \"white\", \"linecolor\": \"white\", \"ticks\": \"\", \"title\": {\"standoff\": 15}, \"zerolinecolor\": \"white\", \"zerolinewidth\": 2}, \"yaxis\": {\"automargin\": true, \"gridcolor\": \"white\", \"linecolor\": \"white\", \"ticks\": \"\", \"title\": {\"standoff\": 15}, \"zerolinecolor\": \"white\", \"zerolinewidth\": 2}}}, \"xaxis\": {\"anchor\": \"y\", \"domain\": [0.0, 1.0], \"title\": {\"text\": \"n_games\"}}, \"yaxis\": {\"anchor\": \"x\", \"domain\": [0.0, 1.0], \"title\": {\"text\": \"SRS\"}}},                        {\"responsive\": true}                    ).then(function(){\n",
       "                            \n",
       "var gd = document.getElementById('ba9a20e4-5501-4a9c-a950-ca001d8a95c6');\n",
       "var x = new MutationObserver(function (mutations, observer) {{\n",
       "        var display = window.getComputedStyle(gd).display;\n",
       "        if (!display || display === 'none') {{\n",
       "            console.log([gd, 'removed!']);\n",
       "            Plotly.purge(gd);\n",
       "            observer.disconnect();\n",
       "        }}\n",
       "}});\n",
       "\n",
       "// Listen for the removal of the full notebook cells\n",
       "var notebookContainer = gd.closest('#notebook-container');\n",
       "if (notebookContainer) {{\n",
       "    x.observe(notebookContainer, {childList: true});\n",
       "}}\n",
       "\n",
       "// Listen for the clearing of the current output cell\n",
       "var outputEl = gd.closest('.output');\n",
       "if (outputEl) {{\n",
       "    x.observe(outputEl, {childList: true});\n",
       "}}\n",
       "\n",
       "                        })                };                });            </script>        </div>"
      ]
     },
     "metadata": {},
     "output_type": "display_data"
    }
   ],
   "source": [
    "px.scatter(merged, x='n_games', y='SRS', color='Team', color_discrete_map=color_discrete_map)"
   ]
  },
  {
   "cell_type": "code",
   "execution_count": 102,
   "metadata": {
    "ExecuteTime": {
     "end_time": "2021-04-17T17:10:50.806903Z",
     "start_time": "2021-04-17T17:10:50.771608Z"
    }
   },
   "outputs": [
    {
     "data": {
      "text/html": [
       "<div>\n",
       "<style scoped>\n",
       "    .dataframe tbody tr th:only-of-type {\n",
       "        vertical-align: middle;\n",
       "    }\n",
       "\n",
       "    .dataframe tbody tr th {\n",
       "        vertical-align: top;\n",
       "    }\n",
       "\n",
       "    .dataframe thead th {\n",
       "        text-align: right;\n",
       "    }\n",
       "</style>\n",
       "<table border=\"1\" class=\"dataframe\">\n",
       "  <thead>\n",
       "    <tr style=\"text-align: right;\">\n",
       "      <th></th>\n",
       "      <th>Team</th>\n",
       "      <th>W</th>\n",
       "      <th>L</th>\n",
       "      <th>W/L%</th>\n",
       "      <th>GB</th>\n",
       "      <th>PS/G</th>\n",
       "      <th>PA/G</th>\n",
       "      <th>SRS</th>\n",
       "      <th>conference</th>\n",
       "      <th>Rank</th>\n",
       "    </tr>\n",
       "  </thead>\n",
       "  <tbody>\n",
       "    <tr>\n",
       "      <th>0</th>\n",
       "      <td>Philadelphia 76ers</td>\n",
       "      <td>39</td>\n",
       "      <td>17</td>\n",
       "      <td>0.696</td>\n",
       "      <td>—</td>\n",
       "      <td>113.7</td>\n",
       "      <td>108.4</td>\n",
       "      <td>5.26</td>\n",
       "      <td>East</td>\n",
       "      <td>1</td>\n",
       "    </tr>\n",
       "    <tr>\n",
       "      <th>1</th>\n",
       "      <td>Brooklyn Nets</td>\n",
       "      <td>38</td>\n",
       "      <td>18</td>\n",
       "      <td>0.679</td>\n",
       "      <td>1.0</td>\n",
       "      <td>119.0</td>\n",
       "      <td>114.3</td>\n",
       "      <td>4.18</td>\n",
       "      <td>East</td>\n",
       "      <td>2</td>\n",
       "    </tr>\n",
       "    <tr>\n",
       "      <th>2</th>\n",
       "      <td>Milwaukee Bucks</td>\n",
       "      <td>35</td>\n",
       "      <td>20</td>\n",
       "      <td>0.636</td>\n",
       "      <td>3.5</td>\n",
       "      <td>119.2</td>\n",
       "      <td>112.7</td>\n",
       "      <td>6.22</td>\n",
       "      <td>East</td>\n",
       "      <td>3</td>\n",
       "    </tr>\n",
       "    <tr>\n",
       "      <th>3</th>\n",
       "      <td>Atlanta Hawks</td>\n",
       "      <td>30</td>\n",
       "      <td>26</td>\n",
       "      <td>0.536</td>\n",
       "      <td>9.0</td>\n",
       "      <td>113.2</td>\n",
       "      <td>111.3</td>\n",
       "      <td>1.91</td>\n",
       "      <td>East</td>\n",
       "      <td>4</td>\n",
       "    </tr>\n",
       "    <tr>\n",
       "      <th>4</th>\n",
       "      <td>Boston Celtics</td>\n",
       "      <td>30</td>\n",
       "      <td>26</td>\n",
       "      <td>0.536</td>\n",
       "      <td>9.0</td>\n",
       "      <td>112.6</td>\n",
       "      <td>110.5</td>\n",
       "      <td>2.40</td>\n",
       "      <td>East</td>\n",
       "      <td>5</td>\n",
       "    </tr>\n",
       "    <tr>\n",
       "      <th>5</th>\n",
       "      <td>New York Knicks</td>\n",
       "      <td>30</td>\n",
       "      <td>27</td>\n",
       "      <td>0.526</td>\n",
       "      <td>9.5</td>\n",
       "      <td>105.8</td>\n",
       "      <td>104.3</td>\n",
       "      <td>0.99</td>\n",
       "      <td>East</td>\n",
       "      <td>6</td>\n",
       "    </tr>\n",
       "    <tr>\n",
       "      <th>6</th>\n",
       "      <td>Miami Heat</td>\n",
       "      <td>28</td>\n",
       "      <td>28</td>\n",
       "      <td>0.500</td>\n",
       "      <td>11.0</td>\n",
       "      <td>106.3</td>\n",
       "      <td>107.7</td>\n",
       "      <td>-1.23</td>\n",
       "      <td>East</td>\n",
       "      <td>7</td>\n",
       "    </tr>\n",
       "    <tr>\n",
       "      <th>7</th>\n",
       "      <td>Charlotte Hornets</td>\n",
       "      <td>27</td>\n",
       "      <td>28</td>\n",
       "      <td>0.491</td>\n",
       "      <td>11.5</td>\n",
       "      <td>110.3</td>\n",
       "      <td>111.7</td>\n",
       "      <td>-1.32</td>\n",
       "      <td>East</td>\n",
       "      <td>8</td>\n",
       "    </tr>\n",
       "    <tr>\n",
       "      <th>8</th>\n",
       "      <td>Indiana Pacers</td>\n",
       "      <td>26</td>\n",
       "      <td>29</td>\n",
       "      <td>0.473</td>\n",
       "      <td>12.5</td>\n",
       "      <td>113.8</td>\n",
       "      <td>114.2</td>\n",
       "      <td>-0.01</td>\n",
       "      <td>East</td>\n",
       "      <td>9</td>\n",
       "    </tr>\n",
       "    <tr>\n",
       "      <th>9</th>\n",
       "      <td>Toronto Raptors</td>\n",
       "      <td>23</td>\n",
       "      <td>34</td>\n",
       "      <td>0.404</td>\n",
       "      <td>16.5</td>\n",
       "      <td>112.0</td>\n",
       "      <td>111.4</td>\n",
       "      <td>0.09</td>\n",
       "      <td>East</td>\n",
       "      <td>10</td>\n",
       "    </tr>\n",
       "    <tr>\n",
       "      <th>10</th>\n",
       "      <td>Chicago Bulls</td>\n",
       "      <td>22</td>\n",
       "      <td>33</td>\n",
       "      <td>0.400</td>\n",
       "      <td>16.5</td>\n",
       "      <td>112.3</td>\n",
       "      <td>113.8</td>\n",
       "      <td>-1.73</td>\n",
       "      <td>East</td>\n",
       "      <td>11</td>\n",
       "    </tr>\n",
       "    <tr>\n",
       "      <th>11</th>\n",
       "      <td>Washington Wizards</td>\n",
       "      <td>22</td>\n",
       "      <td>33</td>\n",
       "      <td>0.400</td>\n",
       "      <td>16.5</td>\n",
       "      <td>113.8</td>\n",
       "      <td>118.6</td>\n",
       "      <td>-4.12</td>\n",
       "      <td>East</td>\n",
       "      <td>12</td>\n",
       "    </tr>\n",
       "    <tr>\n",
       "      <th>12</th>\n",
       "      <td>Cleveland Cavaliers</td>\n",
       "      <td>20</td>\n",
       "      <td>35</td>\n",
       "      <td>0.364</td>\n",
       "      <td>18.5</td>\n",
       "      <td>103.9</td>\n",
       "      <td>111.1</td>\n",
       "      <td>-6.75</td>\n",
       "      <td>East</td>\n",
       "      <td>13</td>\n",
       "    </tr>\n",
       "    <tr>\n",
       "      <th>13</th>\n",
       "      <td>Orlando Magic</td>\n",
       "      <td>18</td>\n",
       "      <td>38</td>\n",
       "      <td>0.321</td>\n",
       "      <td>21.0</td>\n",
       "      <td>104.3</td>\n",
       "      <td>112.0</td>\n",
       "      <td>-7.47</td>\n",
       "      <td>East</td>\n",
       "      <td>14</td>\n",
       "    </tr>\n",
       "    <tr>\n",
       "      <th>14</th>\n",
       "      <td>Detroit Pistons</td>\n",
       "      <td>17</td>\n",
       "      <td>39</td>\n",
       "      <td>0.304</td>\n",
       "      <td>22.0</td>\n",
       "      <td>107.7</td>\n",
       "      <td>111.2</td>\n",
       "      <td>-3.19</td>\n",
       "      <td>East</td>\n",
       "      <td>15</td>\n",
       "    </tr>\n",
       "    <tr>\n",
       "      <th>0</th>\n",
       "      <td>Utah Jazz</td>\n",
       "      <td>42</td>\n",
       "      <td>14</td>\n",
       "      <td>0.750</td>\n",
       "      <td>—</td>\n",
       "      <td>117.0</td>\n",
       "      <td>107.6</td>\n",
       "      <td>9.58</td>\n",
       "      <td>West</td>\n",
       "      <td>1</td>\n",
       "    </tr>\n",
       "    <tr>\n",
       "      <th>1</th>\n",
       "      <td>Phoenix Suns</td>\n",
       "      <td>40</td>\n",
       "      <td>15</td>\n",
       "      <td>0.727</td>\n",
       "      <td>1.5</td>\n",
       "      <td>115.0</td>\n",
       "      <td>107.8</td>\n",
       "      <td>6.54</td>\n",
       "      <td>West</td>\n",
       "      <td>2</td>\n",
       "    </tr>\n",
       "    <tr>\n",
       "      <th>2</th>\n",
       "      <td>Los Angeles Clippers</td>\n",
       "      <td>39</td>\n",
       "      <td>19</td>\n",
       "      <td>0.672</td>\n",
       "      <td>4.0</td>\n",
       "      <td>114.8</td>\n",
       "      <td>108.2</td>\n",
       "      <td>6.64</td>\n",
       "      <td>West</td>\n",
       "      <td>3</td>\n",
       "    </tr>\n",
       "    <tr>\n",
       "      <th>3</th>\n",
       "      <td>Denver Nuggets</td>\n",
       "      <td>36</td>\n",
       "      <td>20</td>\n",
       "      <td>0.643</td>\n",
       "      <td>6.0</td>\n",
       "      <td>115.3</td>\n",
       "      <td>109.8</td>\n",
       "      <td>5.14</td>\n",
       "      <td>West</td>\n",
       "      <td>4</td>\n",
       "    </tr>\n",
       "    <tr>\n",
       "      <th>4</th>\n",
       "      <td>Los Angeles Lakers</td>\n",
       "      <td>34</td>\n",
       "      <td>22</td>\n",
       "      <td>0.607</td>\n",
       "      <td>8.0</td>\n",
       "      <td>109.8</td>\n",
       "      <td>105.9</td>\n",
       "      <td>3.50</td>\n",
       "      <td>West</td>\n",
       "      <td>5</td>\n",
       "    </tr>\n",
       "    <tr>\n",
       "      <th>5</th>\n",
       "      <td>Portland Trail Blazers</td>\n",
       "      <td>32</td>\n",
       "      <td>23</td>\n",
       "      <td>0.582</td>\n",
       "      <td>9.5</td>\n",
       "      <td>114.6</td>\n",
       "      <td>114.8</td>\n",
       "      <td>-0.67</td>\n",
       "      <td>West</td>\n",
       "      <td>6</td>\n",
       "    </tr>\n",
       "    <tr>\n",
       "      <th>6</th>\n",
       "      <td>Dallas Mavericks</td>\n",
       "      <td>30</td>\n",
       "      <td>25</td>\n",
       "      <td>0.545</td>\n",
       "      <td>11.5</td>\n",
       "      <td>111.3</td>\n",
       "      <td>109.8</td>\n",
       "      <td>2.05</td>\n",
       "      <td>West</td>\n",
       "      <td>7</td>\n",
       "    </tr>\n",
       "    <tr>\n",
       "      <th>7</th>\n",
       "      <td>Memphis Grizzlies</td>\n",
       "      <td>28</td>\n",
       "      <td>26</td>\n",
       "      <td>0.519</td>\n",
       "      <td>13.0</td>\n",
       "      <td>113.1</td>\n",
       "      <td>111.6</td>\n",
       "      <td>1.66</td>\n",
       "      <td>West</td>\n",
       "      <td>8</td>\n",
       "    </tr>\n",
       "    <tr>\n",
       "      <th>8</th>\n",
       "      <td>Golden State Warriors</td>\n",
       "      <td>28</td>\n",
       "      <td>28</td>\n",
       "      <td>0.500</td>\n",
       "      <td>14.0</td>\n",
       "      <td>113.0</td>\n",
       "      <td>113.5</td>\n",
       "      <td>-0.27</td>\n",
       "      <td>West</td>\n",
       "      <td>9</td>\n",
       "    </tr>\n",
       "    <tr>\n",
       "      <th>9</th>\n",
       "      <td>San Antonio Spurs</td>\n",
       "      <td>26</td>\n",
       "      <td>28</td>\n",
       "      <td>0.481</td>\n",
       "      <td>15.0</td>\n",
       "      <td>110.6</td>\n",
       "      <td>111.9</td>\n",
       "      <td>-1.84</td>\n",
       "      <td>West</td>\n",
       "      <td>10</td>\n",
       "    </tr>\n",
       "    <tr>\n",
       "      <th>10</th>\n",
       "      <td>New Orleans Pelicans</td>\n",
       "      <td>25</td>\n",
       "      <td>31</td>\n",
       "      <td>0.446</td>\n",
       "      <td>17.0</td>\n",
       "      <td>114.5</td>\n",
       "      <td>115.0</td>\n",
       "      <td>-0.37</td>\n",
       "      <td>West</td>\n",
       "      <td>11</td>\n",
       "    </tr>\n",
       "    <tr>\n",
       "      <th>11</th>\n",
       "      <td>Sacramento Kings</td>\n",
       "      <td>22</td>\n",
       "      <td>34</td>\n",
       "      <td>0.393</td>\n",
       "      <td>20.0</td>\n",
       "      <td>114.2</td>\n",
       "      <td>118.8</td>\n",
       "      <td>-4.14</td>\n",
       "      <td>West</td>\n",
       "      <td>12</td>\n",
       "    </tr>\n",
       "    <tr>\n",
       "      <th>12</th>\n",
       "      <td>Oklahoma City Thunder</td>\n",
       "      <td>20</td>\n",
       "      <td>36</td>\n",
       "      <td>0.357</td>\n",
       "      <td>22.0</td>\n",
       "      <td>105.3</td>\n",
       "      <td>114.3</td>\n",
       "      <td>-8.59</td>\n",
       "      <td>West</td>\n",
       "      <td>13</td>\n",
       "    </tr>\n",
       "    <tr>\n",
       "      <th>13</th>\n",
       "      <td>Minnesota Timberwolves</td>\n",
       "      <td>15</td>\n",
       "      <td>42</td>\n",
       "      <td>0.263</td>\n",
       "      <td>27.5</td>\n",
       "      <td>110.3</td>\n",
       "      <td>118.0</td>\n",
       "      <td>-7.40</td>\n",
       "      <td>West</td>\n",
       "      <td>14</td>\n",
       "    </tr>\n",
       "    <tr>\n",
       "      <th>14</th>\n",
       "      <td>Houston Rockets</td>\n",
       "      <td>14</td>\n",
       "      <td>42</td>\n",
       "      <td>0.250</td>\n",
       "      <td>28.0</td>\n",
       "      <td>108.1</td>\n",
       "      <td>115.0</td>\n",
       "      <td>-7.26</td>\n",
       "      <td>West</td>\n",
       "      <td>15</td>\n",
       "    </tr>\n",
       "  </tbody>\n",
       "</table>\n",
       "</div>"
      ],
      "text/plain": [
       "                      Team   W   L   W/L%    GB   PS/G   PA/G   SRS  \\\n",
       "0       Philadelphia 76ers  39  17  0.696     —  113.7  108.4  5.26   \n",
       "1            Brooklyn Nets  38  18  0.679   1.0  119.0  114.3  4.18   \n",
       "2          Milwaukee Bucks  35  20  0.636   3.5  119.2  112.7  6.22   \n",
       "3            Atlanta Hawks  30  26  0.536   9.0  113.2  111.3  1.91   \n",
       "4           Boston Celtics  30  26  0.536   9.0  112.6  110.5  2.40   \n",
       "5          New York Knicks  30  27  0.526   9.5  105.8  104.3  0.99   \n",
       "6               Miami Heat  28  28  0.500  11.0  106.3  107.7 -1.23   \n",
       "7        Charlotte Hornets  27  28  0.491  11.5  110.3  111.7 -1.32   \n",
       "8           Indiana Pacers  26  29  0.473  12.5  113.8  114.2 -0.01   \n",
       "9          Toronto Raptors  23  34  0.404  16.5  112.0  111.4  0.09   \n",
       "10           Chicago Bulls  22  33  0.400  16.5  112.3  113.8 -1.73   \n",
       "11      Washington Wizards  22  33  0.400  16.5  113.8  118.6 -4.12   \n",
       "12     Cleveland Cavaliers  20  35  0.364  18.5  103.9  111.1 -6.75   \n",
       "13           Orlando Magic  18  38  0.321  21.0  104.3  112.0 -7.47   \n",
       "14         Detroit Pistons  17  39  0.304  22.0  107.7  111.2 -3.19   \n",
       "0                Utah Jazz  42  14  0.750     —  117.0  107.6  9.58   \n",
       "1             Phoenix Suns  40  15  0.727   1.5  115.0  107.8  6.54   \n",
       "2     Los Angeles Clippers  39  19  0.672   4.0  114.8  108.2  6.64   \n",
       "3           Denver Nuggets  36  20  0.643   6.0  115.3  109.8  5.14   \n",
       "4       Los Angeles Lakers  34  22  0.607   8.0  109.8  105.9  3.50   \n",
       "5   Portland Trail Blazers  32  23  0.582   9.5  114.6  114.8 -0.67   \n",
       "6         Dallas Mavericks  30  25  0.545  11.5  111.3  109.8  2.05   \n",
       "7        Memphis Grizzlies  28  26  0.519  13.0  113.1  111.6  1.66   \n",
       "8    Golden State Warriors  28  28  0.500  14.0  113.0  113.5 -0.27   \n",
       "9        San Antonio Spurs  26  28  0.481  15.0  110.6  111.9 -1.84   \n",
       "10    New Orleans Pelicans  25  31  0.446  17.0  114.5  115.0 -0.37   \n",
       "11        Sacramento Kings  22  34  0.393  20.0  114.2  118.8 -4.14   \n",
       "12   Oklahoma City Thunder  20  36  0.357  22.0  105.3  114.3 -8.59   \n",
       "13  Minnesota Timberwolves  15  42  0.263  27.5  110.3  118.0 -7.40   \n",
       "14         Houston Rockets  14  42  0.250  28.0  108.1  115.0 -7.26   \n",
       "\n",
       "   conference Rank  \n",
       "0        East    1  \n",
       "1        East    2  \n",
       "2        East    3  \n",
       "3        East    4  \n",
       "4        East    5  \n",
       "5        East    6  \n",
       "6        East    7  \n",
       "7        East    8  \n",
       "8        East    9  \n",
       "9        East   10  \n",
       "10       East   11  \n",
       "11       East   12  \n",
       "12       East   13  \n",
       "13       East   14  \n",
       "14       East   15  \n",
       "0        West    1  \n",
       "1        West    2  \n",
       "2        West    3  \n",
       "3        West    4  \n",
       "4        West    5  \n",
       "5        West    6  \n",
       "6        West    7  \n",
       "7        West    8  \n",
       "8        West    9  \n",
       "9        West   10  \n",
       "10       West   11  \n",
       "11       West   12  \n",
       "12       West   13  \n",
       "13       West   14  \n",
       "14       West   15  "
      ]
     },
     "execution_count": 102,
     "metadata": {},
     "output_type": "execute_result"
    }
   ],
   "source": [
    "standing"
   ]
  },
  {
   "cell_type": "code",
   "execution_count": null,
   "metadata": {},
   "outputs": [],
   "source": []
  }
 ],
 "metadata": {
  "kernelspec": {
   "display_name": "Python 3",
   "language": "python",
   "name": "python3"
  },
  "language_info": {
   "codemirror_mode": {
    "name": "ipython",
    "version": 3
   },
   "file_extension": ".py",
   "mimetype": "text/x-python",
   "name": "python",
   "nbconvert_exporter": "python",
   "pygments_lexer": "ipython3",
   "version": "3.7.4"
  }
 },
 "nbformat": 4,
 "nbformat_minor": 4
}
