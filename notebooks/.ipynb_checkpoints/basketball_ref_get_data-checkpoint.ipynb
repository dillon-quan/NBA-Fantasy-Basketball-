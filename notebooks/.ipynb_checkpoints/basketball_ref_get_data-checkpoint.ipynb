{
 "cells": [
  {
   "cell_type": "code",
   "execution_count": 1,
   "metadata": {
    "ExecuteTime": {
     "end_time": "2021-04-16T21:16:48.270724Z",
     "start_time": "2021-04-16T21:16:46.455896Z"
    }
   },
   "outputs": [],
   "source": [
    "import re\n",
    "import pandas as pd\n",
    "from unidecode import unidecode\n",
    "from tqdm.notebook import tqdm\n",
    "from datetime import datetime\n",
    "from collections import Counter\n",
    "pd.options.display.max_columns = 30"
   ]
  },
  {
   "cell_type": "markdown",
   "metadata": {},
   "source": [
    "### Reading tables from Basketball Reference\n",
    "\n",
    "The following parses for data from Basketball-reference.com for PerGrame and Advance Stats. The nature of the table has blank columns and rows that repeats itself multiple time. To clean the data, the following is performed.\n",
    "\n",
    "* Remove columns with column name unnamed.\n",
    "* Remove rows where entries to column Player is Player.\n",
    "* Certain Names have latin characters which will make it hard to connect basketball reference data to NBA.com data. Convert the Unicode to ascii.\n",
    "* Replace % to perc in column name.\n",
    "* Add a season column to it."
   ]
  },
  {
   "cell_type": "code",
   "execution_count": 2,
   "metadata": {
    "ExecuteTime": {
     "end_time": "2021-04-01T03:37:21.223704Z",
     "start_time": "2021-04-01T03:37:04.501266Z"
    }
   },
   "outputs": [
    {
     "data": {
      "application/vnd.jupyter.widget-view+json": {
       "model_id": "d8b33edf267c44fc9e9bae088b1ee7ae",
       "version_major": 2,
       "version_minor": 0
      },
      "text/plain": [
       "HBox(children=(FloatProgress(value=0.0, max=2.0), HTML(value='')))"
      ]
     },
     "metadata": {},
     "output_type": "display_data"
    },
    {
     "name": "stdout",
     "output_type": "stream",
     "text": [
      "\n"
     ]
    }
   ],
   "source": [
    "# advance and per game stats\n",
    "years = ['2014-15', '2015-16', '2016-2017', '2017-18', '2018-19', '2019-20', '2020-21']\n",
    "for stat in tqdm(['per_game', 'advanced']):\n",
    "    first_flag = True\n",
    "    for idx, year in enumerate(['2015', '2016', '2017', '2018', '2019', '2020', '2021']):\n",
    "        # read in the html table from link\n",
    "        df = pd.read_html(f\"https://www.basketball-reference.com/leagues/NBA_{year}_advanced.html\")[0]\n",
    "        # cleaning the data\n",
    "        drop_cols = [col for col in list(df.columns) if re.search('unnamed', col.lower())]\n",
    "        df = df.drop(columns=drop_cols)\n",
    "        cols = [re.sub('%','_perc', col) for col in list(df.columns)]\n",
    "        df.columns = cols\n",
    "        df['Player'] = df.Player.apply(unidecode)\n",
    "        df['Season'] = years[idx]\n",
    "        if first_flag:\n",
    "            df.to_csv(f\"{stat}.csv\", index=False, mode='w')\n",
    "            first_flag = False\n",
    "        else:\n",
    "            df.to_csv(f\"{stat}.csv\", index=False, header=False, mode='a')"
   ]
  },
  {
   "cell_type": "markdown",
   "metadata": {},
   "source": [
    "### Schedule games"
   ]
  },
  {
   "cell_type": "code",
   "execution_count": 2,
   "metadata": {
    "ExecuteTime": {
     "end_time": "2021-04-16T21:16:49.828577Z",
     "start_time": "2021-04-16T21:16:49.819075Z"
    }
   },
   "outputs": [],
   "source": [
    "def remove_dow(val):\n",
    "    return ','.join(val.split(',')[1:])\n",
    "\n",
    "def dow_extract(val):\n",
    "    return val.split(',')[0]\n",
    "\n",
    "def mdy_to_ymd(d):\n",
    "    return datetime.strptime(d, '%b %d, %Y').strftime('%m/%d/%Y')"
   ]
  },
  {
   "cell_type": "code",
   "execution_count": 9,
   "metadata": {
    "ExecuteTime": {
     "end_time": "2021-04-16T21:18:20.492798Z",
     "start_time": "2021-04-16T21:18:18.686239Z"
    }
   },
   "outputs": [
    {
     "data": {
      "application/vnd.jupyter.widget-view+json": {
       "model_id": "b5bc092695d84216a577ec3d4c32ba3f",
       "version_major": 2,
       "version_minor": 0
      },
      "text/plain": [
       "HBox(children=(FloatProgress(value=0.0, max=6.0), HTML(value='')))"
      ]
     },
     "metadata": {},
     "output_type": "display_data"
    },
    {
     "name": "stdout",
     "output_type": "stream",
     "text": [
      "\n"
     ]
    }
   ],
   "source": [
    "first_flag=True\n",
    "for month in tqdm(['december', 'january', 'february', 'march', 'april', 'may']):\n",
    "    url = f'https://www.basketball-reference.com/leagues/NBA_2021_games-{month}.html'\n",
    "    df = pd.read_html(url)[0]\n",
    "    df.columns = [col.lower() for col in df.columns]\n",
    "    drop_cols = [col for col in list(df.columns) if re.search('unnamed|\\s', col.lower())]\n",
    "    drop_cols += ['notes', 'attend.']\n",
    "    df = df.drop(columns=drop_cols)\n",
    "    df.rename(columns={'visitor/neutral':'visitor', 'home/neutral':'home', 'pts':'vistor_pts', 'pts.1':'home_pts'}, inplace=True)\n",
    "    df['dow'] = df.date.apply(dow_extract)\n",
    "    df['date'] = df.date.apply(remove_dow)\n",
    "    df['date'] = df.date.str.lstrip()\n",
    "    df['date'] = df.date.apply(mdy_to_ymd)\n",
    "    if first_flag:\n",
    "        df.to_csv(f\"2021_schedule.csv\", index=False, mode='w')\n",
    "        first_flag = False\n",
    "    else:\n",
    "        df.to_csv(f\"2021_schedule.csv\", index=False, header=False, mode='a')"
   ]
  },
  {
   "cell_type": "code",
   "execution_count": 14,
   "metadata": {
    "ExecuteTime": {
     "end_time": "2021-04-16T21:18:39.032159Z",
     "start_time": "2021-04-16T21:18:38.997161Z"
    }
   },
   "outputs": [
    {
     "data": {
      "text/html": [
       "<div>\n",
       "<style scoped>\n",
       "    .dataframe tbody tr th:only-of-type {\n",
       "        vertical-align: middle;\n",
       "    }\n",
       "\n",
       "    .dataframe tbody tr th {\n",
       "        vertical-align: top;\n",
       "    }\n",
       "\n",
       "    .dataframe thead th {\n",
       "        text-align: right;\n",
       "    }\n",
       "</style>\n",
       "<table border=\"1\" class=\"dataframe\">\n",
       "  <thead>\n",
       "    <tr style=\"text-align: right;\">\n",
       "      <th></th>\n",
       "      <th>date</th>\n",
       "      <th>visitor</th>\n",
       "      <th>vistor_pts</th>\n",
       "      <th>home</th>\n",
       "      <th>home_pts</th>\n",
       "      <th>dow</th>\n",
       "      <th>week</th>\n",
       "    </tr>\n",
       "  </thead>\n",
       "  <tbody>\n",
       "    <tr>\n",
       "      <th>0</th>\n",
       "      <td>12/22/2020</td>\n",
       "      <td>Golden State Warriors</td>\n",
       "      <td>99.0</td>\n",
       "      <td>Brooklyn Nets</td>\n",
       "      <td>125.0</td>\n",
       "      <td>Tue</td>\n",
       "      <td>Week 1</td>\n",
       "    </tr>\n",
       "    <tr>\n",
       "      <th>1</th>\n",
       "      <td>12/22/2020</td>\n",
       "      <td>Los Angeles Clippers</td>\n",
       "      <td>116.0</td>\n",
       "      <td>Los Angeles Lakers</td>\n",
       "      <td>109.0</td>\n",
       "      <td>Tue</td>\n",
       "      <td>Week 1</td>\n",
       "    </tr>\n",
       "    <tr>\n",
       "      <th>2</th>\n",
       "      <td>12/23/2020</td>\n",
       "      <td>Charlotte Hornets</td>\n",
       "      <td>114.0</td>\n",
       "      <td>Cleveland Cavaliers</td>\n",
       "      <td>121.0</td>\n",
       "      <td>Wed</td>\n",
       "      <td>Week 1</td>\n",
       "    </tr>\n",
       "    <tr>\n",
       "      <th>3</th>\n",
       "      <td>12/23/2020</td>\n",
       "      <td>New York Knicks</td>\n",
       "      <td>107.0</td>\n",
       "      <td>Indiana Pacers</td>\n",
       "      <td>121.0</td>\n",
       "      <td>Wed</td>\n",
       "      <td>Week 1</td>\n",
       "    </tr>\n",
       "    <tr>\n",
       "      <th>4</th>\n",
       "      <td>12/23/2020</td>\n",
       "      <td>Miami Heat</td>\n",
       "      <td>107.0</td>\n",
       "      <td>Orlando Magic</td>\n",
       "      <td>113.0</td>\n",
       "      <td>Wed</td>\n",
       "      <td>Week 1</td>\n",
       "    </tr>\n",
       "  </tbody>\n",
       "</table>\n",
       "</div>"
      ],
      "text/plain": [
       "         date                visitor  vistor_pts                 home  \\\n",
       "0  12/22/2020  Golden State Warriors        99.0        Brooklyn Nets   \n",
       "1  12/22/2020   Los Angeles Clippers       116.0   Los Angeles Lakers   \n",
       "2  12/23/2020      Charlotte Hornets       114.0  Cleveland Cavaliers   \n",
       "3  12/23/2020        New York Knicks       107.0       Indiana Pacers   \n",
       "4  12/23/2020             Miami Heat       107.0        Orlando Magic   \n",
       "\n",
       "   home_pts  dow    week  \n",
       "0     125.0  Tue  Week 1  \n",
       "1     109.0  Tue  Week 1  \n",
       "2     121.0  Wed  Week 1  \n",
       "3     121.0  Wed  Week 1  \n",
       "4     113.0  Wed  Week 1  "
      ]
     },
     "execution_count": 14,
     "metadata": {},
     "output_type": "execute_result"
    }
   ],
   "source": [
    "df_t = pd.read_csv('2021_schedule.csv')\n",
    "temp = df_t[['dow', 'date']].loc[(df_t['dow'] == 'Sun')].drop_duplicates().reset_index()\n",
    "for idx, _ in temp.iterrows():\n",
    "    temp.loc[idx, 'week'] = f'Week {idx+1}'\n",
    "df_t = df_t.merge(temp[['date', 'week']], on='date', how='left')\n",
    "df_t['week'] = df_t.week.fillna(method='bfill')\n",
    "df_t.to_csv('final_2021_schedule.csv', index=False)"
   ]
  },
  {
   "cell_type": "markdown",
   "metadata": {},
   "source": [
    "### bar chart"
   ]
  },
  {
   "cell_type": "code",
   "execution_count": 34,
   "metadata": {
    "ExecuteTime": {
     "end_time": "2021-04-16T21:32:53.239721Z",
     "start_time": "2021-04-16T21:32:53.229665Z"
    }
   },
   "outputs": [],
   "source": [
    "visitor = Counter(df_t.loc[(df_t.week == 'Week 1')].visitor.values)\n",
    "home = Counter(df_t.loc[(df_t.week == 'Week 1')].home.values)\n",
    "game_count = home + visitor"
   ]
  },
  {
   "cell_type": "code",
   "execution_count": 39,
   "metadata": {
    "ExecuteTime": {
     "end_time": "2021-04-16T21:50:54.608985Z",
     "start_time": "2021-04-16T21:50:54.580291Z"
    }
   },
   "outputs": [],
   "source": [
    "data = pd.DataFrame({'Team': list(game_count.keys()), 'n_games': list(game_count.values())})"
   ]
  },
  {
   "cell_type": "code",
   "execution_count": 40,
   "metadata": {
    "ExecuteTime": {
     "end_time": "2021-04-16T21:51:00.720162Z",
     "start_time": "2021-04-16T21:50:56.462153Z"
    }
   },
   "outputs": [],
   "source": [
    "import plotly.express as px"
   ]
  },
  {
   "cell_type": "code",
   "execution_count": 50,
   "metadata": {
    "ExecuteTime": {
     "end_time": "2021-04-16T22:18:28.093418Z",
     "start_time": "2021-04-16T22:18:28.083669Z"
    }
   },
   "outputs": [],
   "source": [
    " color_discrete_map={\"Brooklyn Nets\": '#000000', \"Los Angeles Lakers\": '#552781',\"Cleveland Cavaliers\": '#6F263D',\n",
    "                    \"Indiana Pacers\": '#041F43', \"Orlando Magic\": '#287DC5', \"Philadelphia 76ers\": '#1560BD',\n",
    "                    \"Toronto Raptors\": '#B52F25', 'Boston Celtics': '#3D7B35', 'Chicago Bulls': '#D5392E',\n",
    "                    \"Memphis Grizzlies\": '#05274A', \"Minnesota Timberwolves\": '#236193', 'Denver Nuggets': '#0F2340',\n",
    "                    'Portland Trail Blazers': '#000000', 'Phoenix Suns': '#1F1861', 'Miami Heat': '#000000',\n",
    "                    'Milwaukee Bucks': '#2D5234', 'Charlotte Hornets': '#3B8DAA', 'Detroit Pistons': '#0C519A',\n",
    "                    'Washington Wizards': '#C73531', 'New York Knicks': '#0C54A0', 'San Antonio Spurs': '#000000',\n",
    "                    'Utah Jazz': '#00275E', 'Sacramento Kings': '#393997', 'Los Angeles Clippers': '#D73932',\n",
    "                    'New Orleans Pelicans': '#0C2340', 'Golden State Warriors': '#0D529C', 'Alanta Hawks':'#DD3C3D',\n",
    "                    'Dallas Mavericks': '#0157B8', 'Oklahoma City Thunder': '#297CC2', 'Houston Rockets': '#DA3A2F'}"
   ]
  },
  {
   "cell_type": "code",
   "execution_count": 59,
   "metadata": {
    "ExecuteTime": {
     "end_time": "2021-04-16T22:34:11.919094Z",
     "start_time": "2021-04-16T22:34:11.691902Z"
    }
   },
   "outputs": [
    {
     "data": {
      "application/vnd.plotly.v1+json": {
       "config": {
        "plotlyServerURL": "https://plot.ly"
       },
       "data": [
        {
         "alignmentgroup": "True",
         "hovertemplate": "Team=%{y}<br>n_games=%{x}<extra></extra>",
         "legendgroup": "Brooklyn Nets",
         "marker": {
          "color": "#000000"
         },
         "name": "Brooklyn Nets",
         "offsetgroup": "Brooklyn Nets",
         "orientation": "h",
         "showlegend": true,
         "textposition": "auto",
         "type": "bar",
         "x": [
          3
         ],
         "xaxis": "x",
         "y": [
          "Brooklyn Nets"
         ],
         "yaxis": "y"
        },
        {
         "alignmentgroup": "True",
         "hovertemplate": "Team=%{y}<br>n_games=%{x}<extra></extra>",
         "legendgroup": "Los Angeles Lakers",
         "marker": {
          "color": "#552781"
         },
         "name": "Los Angeles Lakers",
         "offsetgroup": "Los Angeles Lakers",
         "orientation": "h",
         "showlegend": true,
         "textposition": "auto",
         "type": "bar",
         "x": [
          3
         ],
         "xaxis": "x",
         "y": [
          "Los Angeles Lakers"
         ],
         "yaxis": "y"
        },
        {
         "alignmentgroup": "True",
         "hovertemplate": "Team=%{y}<br>n_games=%{x}<extra></extra>",
         "legendgroup": "Cleveland Cavaliers",
         "marker": {
          "color": "#6F263D"
         },
         "name": "Cleveland Cavaliers",
         "offsetgroup": "Cleveland Cavaliers",
         "orientation": "h",
         "showlegend": true,
         "textposition": "auto",
         "type": "bar",
         "x": [
          3
         ],
         "xaxis": "x",
         "y": [
          "Cleveland Cavaliers"
         ],
         "yaxis": "y"
        },
        {
         "alignmentgroup": "True",
         "hovertemplate": "Team=%{y}<br>n_games=%{x}<extra></extra>",
         "legendgroup": "Indiana Pacers",
         "marker": {
          "color": "#041F43"
         },
         "name": "Indiana Pacers",
         "offsetgroup": "Indiana Pacers",
         "orientation": "h",
         "showlegend": true,
         "textposition": "auto",
         "type": "bar",
         "x": [
          3
         ],
         "xaxis": "x",
         "y": [
          "Indiana Pacers"
         ],
         "yaxis": "y"
        },
        {
         "alignmentgroup": "True",
         "hovertemplate": "Team=%{y}<br>n_games=%{x}<extra></extra>",
         "legendgroup": "Orlando Magic",
         "marker": {
          "color": "#287DC5"
         },
         "name": "Orlando Magic",
         "offsetgroup": "Orlando Magic",
         "orientation": "h",
         "showlegend": true,
         "textposition": "auto",
         "type": "bar",
         "x": [
          3
         ],
         "xaxis": "x",
         "y": [
          "Orlando Magic"
         ],
         "yaxis": "y"
        },
        {
         "alignmentgroup": "True",
         "hovertemplate": "Team=%{y}<br>n_games=%{x}<extra></extra>",
         "legendgroup": "Philadelphia 76ers",
         "marker": {
          "color": "#1560BD"
         },
         "name": "Philadelphia 76ers",
         "offsetgroup": "Philadelphia 76ers",
         "orientation": "h",
         "showlegend": true,
         "textposition": "auto",
         "type": "bar",
         "x": [
          3
         ],
         "xaxis": "x",
         "y": [
          "Philadelphia 76ers"
         ],
         "yaxis": "y"
        },
        {
         "alignmentgroup": "True",
         "hovertemplate": "Team=%{y}<br>n_games=%{x}<extra></extra>",
         "legendgroup": "Toronto Raptors",
         "marker": {
          "color": "#B52F25"
         },
         "name": "Toronto Raptors",
         "offsetgroup": "Toronto Raptors",
         "orientation": "h",
         "showlegend": true,
         "textposition": "auto",
         "type": "bar",
         "x": [
          2
         ],
         "xaxis": "x",
         "y": [
          "Toronto Raptors"
         ],
         "yaxis": "y"
        },
        {
         "alignmentgroup": "True",
         "hovertemplate": "Team=%{y}<br>n_games=%{x}<extra></extra>",
         "legendgroup": "Boston Celtics",
         "marker": {
          "color": "#3D7B35"
         },
         "name": "Boston Celtics",
         "offsetgroup": "Boston Celtics",
         "orientation": "h",
         "showlegend": true,
         "textposition": "auto",
         "type": "bar",
         "x": [
          3
         ],
         "xaxis": "x",
         "y": [
          "Boston Celtics"
         ],
         "yaxis": "y"
        },
        {
         "alignmentgroup": "True",
         "hovertemplate": "Team=%{y}<br>n_games=%{x}<extra></extra>",
         "legendgroup": "Chicago Bulls",
         "marker": {
          "color": "#D5392E"
         },
         "name": "Chicago Bulls",
         "offsetgroup": "Chicago Bulls",
         "orientation": "h",
         "showlegend": true,
         "textposition": "auto",
         "type": "bar",
         "x": [
          3
         ],
         "xaxis": "x",
         "y": [
          "Chicago Bulls"
         ],
         "yaxis": "y"
        },
        {
         "alignmentgroup": "True",
         "hovertemplate": "Team=%{y}<br>n_games=%{x}<extra></extra>",
         "legendgroup": "Memphis Grizzlies",
         "marker": {
          "color": "#05274A"
         },
         "name": "Memphis Grizzlies",
         "offsetgroup": "Memphis Grizzlies",
         "orientation": "h",
         "showlegend": true,
         "textposition": "auto",
         "type": "bar",
         "x": [
          2
         ],
         "xaxis": "x",
         "y": [
          "Memphis Grizzlies"
         ],
         "yaxis": "y"
        },
        {
         "alignmentgroup": "True",
         "hovertemplate": "Team=%{y}<br>n_games=%{x}<extra></extra>",
         "legendgroup": "Minnesota Timberwolves",
         "marker": {
          "color": "#236193"
         },
         "name": "Minnesota Timberwolves",
         "offsetgroup": "Minnesota Timberwolves",
         "orientation": "h",
         "showlegend": true,
         "textposition": "auto",
         "type": "bar",
         "x": [
          3
         ],
         "xaxis": "x",
         "y": [
          "Minnesota Timberwolves"
         ],
         "yaxis": "y"
        },
        {
         "alignmentgroup": "True",
         "hovertemplate": "Team=%{y}<br>n_games=%{x}<extra></extra>",
         "legendgroup": "Denver Nuggets",
         "marker": {
          "color": "#0F2340"
         },
         "name": "Denver Nuggets",
         "offsetgroup": "Denver Nuggets",
         "orientation": "h",
         "showlegend": true,
         "textposition": "auto",
         "type": "bar",
         "x": [
          2
         ],
         "xaxis": "x",
         "y": [
          "Denver Nuggets"
         ],
         "yaxis": "y"
        },
        {
         "alignmentgroup": "True",
         "hovertemplate": "Team=%{y}<br>n_games=%{x}<extra></extra>",
         "legendgroup": "Portland Trail Blazers",
         "marker": {
          "color": "#000000"
         },
         "name": "Portland Trail Blazers",
         "offsetgroup": "Portland Trail Blazers",
         "orientation": "h",
         "showlegend": true,
         "textposition": "auto",
         "type": "bar",
         "x": [
          2
         ],
         "xaxis": "x",
         "y": [
          "Portland Trail Blazers"
         ],
         "yaxis": "y"
        },
        {
         "alignmentgroup": "True",
         "hovertemplate": "Team=%{y}<br>n_games=%{x}<extra></extra>",
         "legendgroup": "Phoenix Suns",
         "marker": {
          "color": "#1F1861"
         },
         "name": "Phoenix Suns",
         "offsetgroup": "Phoenix Suns",
         "orientation": "h",
         "showlegend": true,
         "textposition": "auto",
         "type": "bar",
         "x": [
          3
         ],
         "xaxis": "x",
         "y": [
          "Phoenix Suns"
         ],
         "yaxis": "y"
        },
        {
         "alignmentgroup": "True",
         "hovertemplate": "Team=%{y}<br>n_games=%{x}<extra></extra>",
         "legendgroup": "Miami Heat",
         "marker": {
          "color": "#000000"
         },
         "name": "Miami Heat",
         "offsetgroup": "Miami Heat",
         "orientation": "h",
         "showlegend": true,
         "textposition": "auto",
         "type": "bar",
         "x": [
          2
         ],
         "xaxis": "x",
         "y": [
          "Miami Heat"
         ],
         "yaxis": "y"
        },
        {
         "alignmentgroup": "True",
         "hovertemplate": "Team=%{y}<br>n_games=%{x}<extra></extra>",
         "legendgroup": "Milwaukee Bucks",
         "marker": {
          "color": "#2D5234"
         },
         "name": "Milwaukee Bucks",
         "offsetgroup": "Milwaukee Bucks",
         "orientation": "h",
         "showlegend": true,
         "textposition": "auto",
         "type": "bar",
         "x": [
          3
         ],
         "xaxis": "x",
         "y": [
          "Milwaukee Bucks"
         ],
         "yaxis": "y"
        },
        {
         "alignmentgroup": "True",
         "hovertemplate": "Team=%{y}<br>n_games=%{x}<extra></extra>",
         "legendgroup": "Charlotte Hornets",
         "marker": {
          "color": "#3B8DAA"
         },
         "name": "Charlotte Hornets",
         "offsetgroup": "Charlotte Hornets",
         "orientation": "h",
         "showlegend": true,
         "textposition": "auto",
         "type": "bar",
         "x": [
          3
         ],
         "xaxis": "x",
         "y": [
          "Charlotte Hornets"
         ],
         "yaxis": "y"
        },
        {
         "alignmentgroup": "True",
         "hovertemplate": "Team=%{y}<br>n_games=%{x}<extra></extra>",
         "legendgroup": "Detroit Pistons",
         "marker": {
          "color": "#0C519A"
         },
         "name": "Detroit Pistons",
         "offsetgroup": "Detroit Pistons",
         "orientation": "h",
         "showlegend": true,
         "textposition": "auto",
         "type": "bar",
         "x": [
          2
         ],
         "xaxis": "x",
         "y": [
          "Detroit Pistons"
         ],
         "yaxis": "y"
        },
        {
         "alignmentgroup": "True",
         "hovertemplate": "Team=%{y}<br>n_games=%{x}<extra></extra>",
         "legendgroup": "Washington Wizards",
         "marker": {
          "color": "#C73531"
         },
         "name": "Washington Wizards",
         "offsetgroup": "Washington Wizards",
         "orientation": "h",
         "showlegend": true,
         "textposition": "auto",
         "type": "bar",
         "x": [
          3
         ],
         "xaxis": "x",
         "y": [
          "Washington Wizards"
         ],
         "yaxis": "y"
        },
        {
         "alignmentgroup": "True",
         "hovertemplate": "Team=%{y}<br>n_games=%{x}<extra></extra>",
         "legendgroup": "New York Knicks",
         "marker": {
          "color": "#0C54A0"
         },
         "name": "New York Knicks",
         "offsetgroup": "New York Knicks",
         "orientation": "h",
         "showlegend": true,
         "textposition": "auto",
         "type": "bar",
         "x": [
          3
         ],
         "xaxis": "x",
         "y": [
          "New York Knicks"
         ],
         "yaxis": "y"
        },
        {
         "alignmentgroup": "True",
         "hovertemplate": "Team=%{y}<br>n_games=%{x}<extra></extra>",
         "legendgroup": "San Antonio Spurs",
         "marker": {
          "color": "#000000"
         },
         "name": "San Antonio Spurs",
         "offsetgroup": "San Antonio Spurs",
         "orientation": "h",
         "showlegend": true,
         "textposition": "auto",
         "type": "bar",
         "x": [
          3
         ],
         "xaxis": "x",
         "y": [
          "San Antonio Spurs"
         ],
         "yaxis": "y"
        },
        {
         "alignmentgroup": "True",
         "hovertemplate": "Team=%{y}<br>n_games=%{x}<extra></extra>",
         "legendgroup": "Utah Jazz",
         "marker": {
          "color": "#00275E"
         },
         "name": "Utah Jazz",
         "offsetgroup": "Utah Jazz",
         "orientation": "h",
         "showlegend": true,
         "textposition": "auto",
         "type": "bar",
         "x": [
          2
         ],
         "xaxis": "x",
         "y": [
          "Utah Jazz"
         ],
         "yaxis": "y"
        },
        {
         "alignmentgroup": "True",
         "hovertemplate": "Team=%{y}<br>n_games=%{x}<extra></extra>",
         "legendgroup": "Sacramento Kings",
         "marker": {
          "color": "#393997"
         },
         "name": "Sacramento Kings",
         "offsetgroup": "Sacramento Kings",
         "orientation": "h",
         "showlegend": true,
         "textposition": "auto",
         "type": "bar",
         "x": [
          3
         ],
         "xaxis": "x",
         "y": [
          "Sacramento Kings"
         ],
         "yaxis": "y"
        },
        {
         "alignmentgroup": "True",
         "hovertemplate": "Team=%{y}<br>n_games=%{x}<extra></extra>",
         "legendgroup": "Los Angeles Clippers",
         "marker": {
          "color": "#D73932"
         },
         "name": "Los Angeles Clippers",
         "offsetgroup": "Los Angeles Clippers",
         "orientation": "h",
         "showlegend": true,
         "textposition": "auto",
         "type": "bar",
         "x": [
          3
         ],
         "xaxis": "x",
         "y": [
          "Los Angeles Clippers"
         ],
         "yaxis": "y"
        },
        {
         "alignmentgroup": "True",
         "hovertemplate": "Team=%{y}<br>n_games=%{x}<extra></extra>",
         "legendgroup": "New Orleans Pelicans",
         "marker": {
          "color": "#0C2340"
         },
         "name": "New Orleans Pelicans",
         "offsetgroup": "New Orleans Pelicans",
         "orientation": "h",
         "showlegend": true,
         "textposition": "auto",
         "type": "bar",
         "x": [
          3
         ],
         "xaxis": "x",
         "y": [
          "New Orleans Pelicans"
         ],
         "yaxis": "y"
        },
        {
         "alignmentgroup": "True",
         "hovertemplate": "Team=%{y}<br>n_games=%{x}<extra></extra>",
         "legendgroup": "Golden State Warriors",
         "marker": {
          "color": "#0D529C"
         },
         "name": "Golden State Warriors",
         "offsetgroup": "Golden State Warriors",
         "orientation": "h",
         "showlegend": true,
         "textposition": "auto",
         "type": "bar",
         "x": [
          3
         ],
         "xaxis": "x",
         "y": [
          "Golden State Warriors"
         ],
         "yaxis": "y"
        },
        {
         "alignmentgroup": "True",
         "hovertemplate": "Team=%{y}<br>n_games=%{x}<extra></extra>",
         "legendgroup": "Atlanta Hawks",
         "marker": {
          "color": "#636efa"
         },
         "name": "Atlanta Hawks",
         "offsetgroup": "Atlanta Hawks",
         "orientation": "h",
         "showlegend": true,
         "textposition": "auto",
         "type": "bar",
         "x": [
          2
         ],
         "xaxis": "x",
         "y": [
          "Atlanta Hawks"
         ],
         "yaxis": "y"
        },
        {
         "alignmentgroup": "True",
         "hovertemplate": "Team=%{y}<br>n_games=%{x}<extra></extra>",
         "legendgroup": "Dallas Mavericks",
         "marker": {
          "color": "#0157B8"
         },
         "name": "Dallas Mavericks",
         "offsetgroup": "Dallas Mavericks",
         "orientation": "h",
         "showlegend": true,
         "textposition": "auto",
         "type": "bar",
         "x": [
          3
         ],
         "xaxis": "x",
         "y": [
          "Dallas Mavericks"
         ],
         "yaxis": "y"
        },
        {
         "alignmentgroup": "True",
         "hovertemplate": "Team=%{y}<br>n_games=%{x}<extra></extra>",
         "legendgroup": "Oklahoma City Thunder",
         "marker": {
          "color": "#297CC2"
         },
         "name": "Oklahoma City Thunder",
         "offsetgroup": "Oklahoma City Thunder",
         "orientation": "h",
         "showlegend": true,
         "textposition": "auto",
         "type": "bar",
         "x": [
          1
         ],
         "xaxis": "x",
         "y": [
          "Oklahoma City Thunder"
         ],
         "yaxis": "y"
        },
        {
         "alignmentgroup": "True",
         "hovertemplate": "Team=%{y}<br>n_games=%{x}<extra></extra>",
         "legendgroup": "Houston Rockets",
         "marker": {
          "color": "#DA3A2F"
         },
         "name": "Houston Rockets",
         "offsetgroup": "Houston Rockets",
         "orientation": "h",
         "showlegend": true,
         "textposition": "auto",
         "type": "bar",
         "x": [
          1
         ],
         "xaxis": "x",
         "y": [
          "Houston Rockets"
         ],
         "yaxis": "y"
        }
       ],
       "layout": {
        "barmode": "relative",
        "height": 800,
        "legend": {
         "title": {
          "text": "Team"
         },
         "tracegroupgap": 0
        },
        "margin": {
         "t": 60
        },
        "template": {
         "data": {
          "bar": [
           {
            "error_x": {
             "color": "#2a3f5f"
            },
            "error_y": {
             "color": "#2a3f5f"
            },
            "marker": {
             "line": {
              "color": "#E5ECF6",
              "width": 0.5
             }
            },
            "type": "bar"
           }
          ],
          "barpolar": [
           {
            "marker": {
             "line": {
              "color": "#E5ECF6",
              "width": 0.5
             }
            },
            "type": "barpolar"
           }
          ],
          "carpet": [
           {
            "aaxis": {
             "endlinecolor": "#2a3f5f",
             "gridcolor": "white",
             "linecolor": "white",
             "minorgridcolor": "white",
             "startlinecolor": "#2a3f5f"
            },
            "baxis": {
             "endlinecolor": "#2a3f5f",
             "gridcolor": "white",
             "linecolor": "white",
             "minorgridcolor": "white",
             "startlinecolor": "#2a3f5f"
            },
            "type": "carpet"
           }
          ],
          "choropleth": [
           {
            "colorbar": {
             "outlinewidth": 0,
             "ticks": ""
            },
            "type": "choropleth"
           }
          ],
          "contour": [
           {
            "colorbar": {
             "outlinewidth": 0,
             "ticks": ""
            },
            "colorscale": [
             [
              0,
              "#0d0887"
             ],
             [
              0.1111111111111111,
              "#46039f"
             ],
             [
              0.2222222222222222,
              "#7201a8"
             ],
             [
              0.3333333333333333,
              "#9c179e"
             ],
             [
              0.4444444444444444,
              "#bd3786"
             ],
             [
              0.5555555555555556,
              "#d8576b"
             ],
             [
              0.6666666666666666,
              "#ed7953"
             ],
             [
              0.7777777777777778,
              "#fb9f3a"
             ],
             [
              0.8888888888888888,
              "#fdca26"
             ],
             [
              1,
              "#f0f921"
             ]
            ],
            "type": "contour"
           }
          ],
          "contourcarpet": [
           {
            "colorbar": {
             "outlinewidth": 0,
             "ticks": ""
            },
            "type": "contourcarpet"
           }
          ],
          "heatmap": [
           {
            "colorbar": {
             "outlinewidth": 0,
             "ticks": ""
            },
            "colorscale": [
             [
              0,
              "#0d0887"
             ],
             [
              0.1111111111111111,
              "#46039f"
             ],
             [
              0.2222222222222222,
              "#7201a8"
             ],
             [
              0.3333333333333333,
              "#9c179e"
             ],
             [
              0.4444444444444444,
              "#bd3786"
             ],
             [
              0.5555555555555556,
              "#d8576b"
             ],
             [
              0.6666666666666666,
              "#ed7953"
             ],
             [
              0.7777777777777778,
              "#fb9f3a"
             ],
             [
              0.8888888888888888,
              "#fdca26"
             ],
             [
              1,
              "#f0f921"
             ]
            ],
            "type": "heatmap"
           }
          ],
          "heatmapgl": [
           {
            "colorbar": {
             "outlinewidth": 0,
             "ticks": ""
            },
            "colorscale": [
             [
              0,
              "#0d0887"
             ],
             [
              0.1111111111111111,
              "#46039f"
             ],
             [
              0.2222222222222222,
              "#7201a8"
             ],
             [
              0.3333333333333333,
              "#9c179e"
             ],
             [
              0.4444444444444444,
              "#bd3786"
             ],
             [
              0.5555555555555556,
              "#d8576b"
             ],
             [
              0.6666666666666666,
              "#ed7953"
             ],
             [
              0.7777777777777778,
              "#fb9f3a"
             ],
             [
              0.8888888888888888,
              "#fdca26"
             ],
             [
              1,
              "#f0f921"
             ]
            ],
            "type": "heatmapgl"
           }
          ],
          "histogram": [
           {
            "marker": {
             "colorbar": {
              "outlinewidth": 0,
              "ticks": ""
             }
            },
            "type": "histogram"
           }
          ],
          "histogram2d": [
           {
            "colorbar": {
             "outlinewidth": 0,
             "ticks": ""
            },
            "colorscale": [
             [
              0,
              "#0d0887"
             ],
             [
              0.1111111111111111,
              "#46039f"
             ],
             [
              0.2222222222222222,
              "#7201a8"
             ],
             [
              0.3333333333333333,
              "#9c179e"
             ],
             [
              0.4444444444444444,
              "#bd3786"
             ],
             [
              0.5555555555555556,
              "#d8576b"
             ],
             [
              0.6666666666666666,
              "#ed7953"
             ],
             [
              0.7777777777777778,
              "#fb9f3a"
             ],
             [
              0.8888888888888888,
              "#fdca26"
             ],
             [
              1,
              "#f0f921"
             ]
            ],
            "type": "histogram2d"
           }
          ],
          "histogram2dcontour": [
           {
            "colorbar": {
             "outlinewidth": 0,
             "ticks": ""
            },
            "colorscale": [
             [
              0,
              "#0d0887"
             ],
             [
              0.1111111111111111,
              "#46039f"
             ],
             [
              0.2222222222222222,
              "#7201a8"
             ],
             [
              0.3333333333333333,
              "#9c179e"
             ],
             [
              0.4444444444444444,
              "#bd3786"
             ],
             [
              0.5555555555555556,
              "#d8576b"
             ],
             [
              0.6666666666666666,
              "#ed7953"
             ],
             [
              0.7777777777777778,
              "#fb9f3a"
             ],
             [
              0.8888888888888888,
              "#fdca26"
             ],
             [
              1,
              "#f0f921"
             ]
            ],
            "type": "histogram2dcontour"
           }
          ],
          "mesh3d": [
           {
            "colorbar": {
             "outlinewidth": 0,
             "ticks": ""
            },
            "type": "mesh3d"
           }
          ],
          "parcoords": [
           {
            "line": {
             "colorbar": {
              "outlinewidth": 0,
              "ticks": ""
             }
            },
            "type": "parcoords"
           }
          ],
          "pie": [
           {
            "automargin": true,
            "type": "pie"
           }
          ],
          "scatter": [
           {
            "marker": {
             "colorbar": {
              "outlinewidth": 0,
              "ticks": ""
             }
            },
            "type": "scatter"
           }
          ],
          "scatter3d": [
           {
            "line": {
             "colorbar": {
              "outlinewidth": 0,
              "ticks": ""
             }
            },
            "marker": {
             "colorbar": {
              "outlinewidth": 0,
              "ticks": ""
             }
            },
            "type": "scatter3d"
           }
          ],
          "scattercarpet": [
           {
            "marker": {
             "colorbar": {
              "outlinewidth": 0,
              "ticks": ""
             }
            },
            "type": "scattercarpet"
           }
          ],
          "scattergeo": [
           {
            "marker": {
             "colorbar": {
              "outlinewidth": 0,
              "ticks": ""
             }
            },
            "type": "scattergeo"
           }
          ],
          "scattergl": [
           {
            "marker": {
             "colorbar": {
              "outlinewidth": 0,
              "ticks": ""
             }
            },
            "type": "scattergl"
           }
          ],
          "scattermapbox": [
           {
            "marker": {
             "colorbar": {
              "outlinewidth": 0,
              "ticks": ""
             }
            },
            "type": "scattermapbox"
           }
          ],
          "scatterpolar": [
           {
            "marker": {
             "colorbar": {
              "outlinewidth": 0,
              "ticks": ""
             }
            },
            "type": "scatterpolar"
           }
          ],
          "scatterpolargl": [
           {
            "marker": {
             "colorbar": {
              "outlinewidth": 0,
              "ticks": ""
             }
            },
            "type": "scatterpolargl"
           }
          ],
          "scatterternary": [
           {
            "marker": {
             "colorbar": {
              "outlinewidth": 0,
              "ticks": ""
             }
            },
            "type": "scatterternary"
           }
          ],
          "surface": [
           {
            "colorbar": {
             "outlinewidth": 0,
             "ticks": ""
            },
            "colorscale": [
             [
              0,
              "#0d0887"
             ],
             [
              0.1111111111111111,
              "#46039f"
             ],
             [
              0.2222222222222222,
              "#7201a8"
             ],
             [
              0.3333333333333333,
              "#9c179e"
             ],
             [
              0.4444444444444444,
              "#bd3786"
             ],
             [
              0.5555555555555556,
              "#d8576b"
             ],
             [
              0.6666666666666666,
              "#ed7953"
             ],
             [
              0.7777777777777778,
              "#fb9f3a"
             ],
             [
              0.8888888888888888,
              "#fdca26"
             ],
             [
              1,
              "#f0f921"
             ]
            ],
            "type": "surface"
           }
          ],
          "table": [
           {
            "cells": {
             "fill": {
              "color": "#EBF0F8"
             },
             "line": {
              "color": "white"
             }
            },
            "header": {
             "fill": {
              "color": "#C8D4E3"
             },
             "line": {
              "color": "white"
             }
            },
            "type": "table"
           }
          ]
         },
         "layout": {
          "annotationdefaults": {
           "arrowcolor": "#2a3f5f",
           "arrowhead": 0,
           "arrowwidth": 1
          },
          "autotypenumbers": "strict",
          "coloraxis": {
           "colorbar": {
            "outlinewidth": 0,
            "ticks": ""
           }
          },
          "colorscale": {
           "diverging": [
            [
             0,
             "#8e0152"
            ],
            [
             0.1,
             "#c51b7d"
            ],
            [
             0.2,
             "#de77ae"
            ],
            [
             0.3,
             "#f1b6da"
            ],
            [
             0.4,
             "#fde0ef"
            ],
            [
             0.5,
             "#f7f7f7"
            ],
            [
             0.6,
             "#e6f5d0"
            ],
            [
             0.7,
             "#b8e186"
            ],
            [
             0.8,
             "#7fbc41"
            ],
            [
             0.9,
             "#4d9221"
            ],
            [
             1,
             "#276419"
            ]
           ],
           "sequential": [
            [
             0,
             "#0d0887"
            ],
            [
             0.1111111111111111,
             "#46039f"
            ],
            [
             0.2222222222222222,
             "#7201a8"
            ],
            [
             0.3333333333333333,
             "#9c179e"
            ],
            [
             0.4444444444444444,
             "#bd3786"
            ],
            [
             0.5555555555555556,
             "#d8576b"
            ],
            [
             0.6666666666666666,
             "#ed7953"
            ],
            [
             0.7777777777777778,
             "#fb9f3a"
            ],
            [
             0.8888888888888888,
             "#fdca26"
            ],
            [
             1,
             "#f0f921"
            ]
           ],
           "sequentialminus": [
            [
             0,
             "#0d0887"
            ],
            [
             0.1111111111111111,
             "#46039f"
            ],
            [
             0.2222222222222222,
             "#7201a8"
            ],
            [
             0.3333333333333333,
             "#9c179e"
            ],
            [
             0.4444444444444444,
             "#bd3786"
            ],
            [
             0.5555555555555556,
             "#d8576b"
            ],
            [
             0.6666666666666666,
             "#ed7953"
            ],
            [
             0.7777777777777778,
             "#fb9f3a"
            ],
            [
             0.8888888888888888,
             "#fdca26"
            ],
            [
             1,
             "#f0f921"
            ]
           ]
          },
          "colorway": [
           "#636efa",
           "#EF553B",
           "#00cc96",
           "#ab63fa",
           "#FFA15A",
           "#19d3f3",
           "#FF6692",
           "#B6E880",
           "#FF97FF",
           "#FECB52"
          ],
          "font": {
           "color": "#2a3f5f"
          },
          "geo": {
           "bgcolor": "white",
           "lakecolor": "white",
           "landcolor": "#E5ECF6",
           "showlakes": true,
           "showland": true,
           "subunitcolor": "white"
          },
          "hoverlabel": {
           "align": "left"
          },
          "hovermode": "closest",
          "mapbox": {
           "style": "light"
          },
          "paper_bgcolor": "white",
          "plot_bgcolor": "#E5ECF6",
          "polar": {
           "angularaxis": {
            "gridcolor": "white",
            "linecolor": "white",
            "ticks": ""
           },
           "bgcolor": "#E5ECF6",
           "radialaxis": {
            "gridcolor": "white",
            "linecolor": "white",
            "ticks": ""
           }
          },
          "scene": {
           "xaxis": {
            "backgroundcolor": "#E5ECF6",
            "gridcolor": "white",
            "gridwidth": 2,
            "linecolor": "white",
            "showbackground": true,
            "ticks": "",
            "zerolinecolor": "white"
           },
           "yaxis": {
            "backgroundcolor": "#E5ECF6",
            "gridcolor": "white",
            "gridwidth": 2,
            "linecolor": "white",
            "showbackground": true,
            "ticks": "",
            "zerolinecolor": "white"
           },
           "zaxis": {
            "backgroundcolor": "#E5ECF6",
            "gridcolor": "white",
            "gridwidth": 2,
            "linecolor": "white",
            "showbackground": true,
            "ticks": "",
            "zerolinecolor": "white"
           }
          },
          "shapedefaults": {
           "line": {
            "color": "#2a3f5f"
           }
          },
          "ternary": {
           "aaxis": {
            "gridcolor": "white",
            "linecolor": "white",
            "ticks": ""
           },
           "baxis": {
            "gridcolor": "white",
            "linecolor": "white",
            "ticks": ""
           },
           "bgcolor": "#E5ECF6",
           "caxis": {
            "gridcolor": "white",
            "linecolor": "white",
            "ticks": ""
           }
          },
          "title": {
           "x": 0.05
          },
          "xaxis": {
           "automargin": true,
           "gridcolor": "white",
           "linecolor": "white",
           "ticks": "",
           "title": {
            "standoff": 15
           },
           "zerolinecolor": "white",
           "zerolinewidth": 2
          },
          "yaxis": {
           "automargin": true,
           "gridcolor": "white",
           "linecolor": "white",
           "ticks": "",
           "title": {
            "standoff": 15
           },
           "zerolinecolor": "white",
           "zerolinewidth": 2
          }
         }
        },
        "width": 1000,
        "xaxis": {
         "anchor": "y",
         "domain": [
          0,
          1
         ],
         "tickvals": [
          1,
          2,
          3,
          4
         ],
         "title": {
          "text": "Number of Games"
         }
        },
        "yaxis": {
         "anchor": "x",
         "categoryarray": [
          "Houston Rockets",
          "Oklahoma City Thunder",
          "Dallas Mavericks",
          "Atlanta Hawks",
          "Golden State Warriors",
          "New Orleans Pelicans",
          "Los Angeles Clippers",
          "Sacramento Kings",
          "Utah Jazz",
          "San Antonio Spurs",
          "New York Knicks",
          "Washington Wizards",
          "Detroit Pistons",
          "Charlotte Hornets",
          "Milwaukee Bucks",
          "Miami Heat",
          "Phoenix Suns",
          "Portland Trail Blazers",
          "Denver Nuggets",
          "Minnesota Timberwolves",
          "Memphis Grizzlies",
          "Chicago Bulls",
          "Boston Celtics",
          "Toronto Raptors",
          "Philadelphia 76ers",
          "Orlando Magic",
          "Indiana Pacers",
          "Cleveland Cavaliers",
          "Los Angeles Lakers",
          "Brooklyn Nets"
         ],
         "categoryorder": "array",
         "domain": [
          0,
          1
         ],
         "title": {
          "text": "Team"
         }
        }
       }
      },
      "text/html": [
       "<div>                            <div id=\"5bd68b35-e20c-44c9-a2d6-d6881ec00bc0\" class=\"plotly-graph-div\" style=\"height:800px; width:1000px;\"></div>            <script type=\"text/javascript\">                require([\"plotly\"], function(Plotly) {                    window.PLOTLYENV=window.PLOTLYENV || {};                                    if (document.getElementById(\"5bd68b35-e20c-44c9-a2d6-d6881ec00bc0\")) {                    Plotly.newPlot(                        \"5bd68b35-e20c-44c9-a2d6-d6881ec00bc0\",                        [{\"alignmentgroup\": \"True\", \"hovertemplate\": \"Team=%{y}<br>n_games=%{x}<extra></extra>\", \"legendgroup\": \"Brooklyn Nets\", \"marker\": {\"color\": \"#000000\"}, \"name\": \"Brooklyn Nets\", \"offsetgroup\": \"Brooklyn Nets\", \"orientation\": \"h\", \"showlegend\": true, \"textposition\": \"auto\", \"type\": \"bar\", \"x\": [3], \"xaxis\": \"x\", \"y\": [\"Brooklyn Nets\"], \"yaxis\": \"y\"}, {\"alignmentgroup\": \"True\", \"hovertemplate\": \"Team=%{y}<br>n_games=%{x}<extra></extra>\", \"legendgroup\": \"Los Angeles Lakers\", \"marker\": {\"color\": \"#552781\"}, \"name\": \"Los Angeles Lakers\", \"offsetgroup\": \"Los Angeles Lakers\", \"orientation\": \"h\", \"showlegend\": true, \"textposition\": \"auto\", \"type\": \"bar\", \"x\": [3], \"xaxis\": \"x\", \"y\": [\"Los Angeles Lakers\"], \"yaxis\": \"y\"}, {\"alignmentgroup\": \"True\", \"hovertemplate\": \"Team=%{y}<br>n_games=%{x}<extra></extra>\", \"legendgroup\": \"Cleveland Cavaliers\", \"marker\": {\"color\": \"#6F263D\"}, \"name\": \"Cleveland Cavaliers\", \"offsetgroup\": \"Cleveland Cavaliers\", \"orientation\": \"h\", \"showlegend\": true, \"textposition\": \"auto\", \"type\": \"bar\", \"x\": [3], \"xaxis\": \"x\", \"y\": [\"Cleveland Cavaliers\"], \"yaxis\": \"y\"}, {\"alignmentgroup\": \"True\", \"hovertemplate\": \"Team=%{y}<br>n_games=%{x}<extra></extra>\", \"legendgroup\": \"Indiana Pacers\", \"marker\": {\"color\": \"#041F43\"}, \"name\": \"Indiana Pacers\", \"offsetgroup\": \"Indiana Pacers\", \"orientation\": \"h\", \"showlegend\": true, \"textposition\": \"auto\", \"type\": \"bar\", \"x\": [3], \"xaxis\": \"x\", \"y\": [\"Indiana Pacers\"], \"yaxis\": \"y\"}, {\"alignmentgroup\": \"True\", \"hovertemplate\": \"Team=%{y}<br>n_games=%{x}<extra></extra>\", \"legendgroup\": \"Orlando Magic\", \"marker\": {\"color\": \"#287DC5\"}, \"name\": \"Orlando Magic\", \"offsetgroup\": \"Orlando Magic\", \"orientation\": \"h\", \"showlegend\": true, \"textposition\": \"auto\", \"type\": \"bar\", \"x\": [3], \"xaxis\": \"x\", \"y\": [\"Orlando Magic\"], \"yaxis\": \"y\"}, {\"alignmentgroup\": \"True\", \"hovertemplate\": \"Team=%{y}<br>n_games=%{x}<extra></extra>\", \"legendgroup\": \"Philadelphia 76ers\", \"marker\": {\"color\": \"#1560BD\"}, \"name\": \"Philadelphia 76ers\", \"offsetgroup\": \"Philadelphia 76ers\", \"orientation\": \"h\", \"showlegend\": true, \"textposition\": \"auto\", \"type\": \"bar\", \"x\": [3], \"xaxis\": \"x\", \"y\": [\"Philadelphia 76ers\"], \"yaxis\": \"y\"}, {\"alignmentgroup\": \"True\", \"hovertemplate\": \"Team=%{y}<br>n_games=%{x}<extra></extra>\", \"legendgroup\": \"Toronto Raptors\", \"marker\": {\"color\": \"#B52F25\"}, \"name\": \"Toronto Raptors\", \"offsetgroup\": \"Toronto Raptors\", \"orientation\": \"h\", \"showlegend\": true, \"textposition\": \"auto\", \"type\": \"bar\", \"x\": [2], \"xaxis\": \"x\", \"y\": [\"Toronto Raptors\"], \"yaxis\": \"y\"}, {\"alignmentgroup\": \"True\", \"hovertemplate\": \"Team=%{y}<br>n_games=%{x}<extra></extra>\", \"legendgroup\": \"Boston Celtics\", \"marker\": {\"color\": \"#3D7B35\"}, \"name\": \"Boston Celtics\", \"offsetgroup\": \"Boston Celtics\", \"orientation\": \"h\", \"showlegend\": true, \"textposition\": \"auto\", \"type\": \"bar\", \"x\": [3], \"xaxis\": \"x\", \"y\": [\"Boston Celtics\"], \"yaxis\": \"y\"}, {\"alignmentgroup\": \"True\", \"hovertemplate\": \"Team=%{y}<br>n_games=%{x}<extra></extra>\", \"legendgroup\": \"Chicago Bulls\", \"marker\": {\"color\": \"#D5392E\"}, \"name\": \"Chicago Bulls\", \"offsetgroup\": \"Chicago Bulls\", \"orientation\": \"h\", \"showlegend\": true, \"textposition\": \"auto\", \"type\": \"bar\", \"x\": [3], \"xaxis\": \"x\", \"y\": [\"Chicago Bulls\"], \"yaxis\": \"y\"}, {\"alignmentgroup\": \"True\", \"hovertemplate\": \"Team=%{y}<br>n_games=%{x}<extra></extra>\", \"legendgroup\": \"Memphis Grizzlies\", \"marker\": {\"color\": \"#05274A\"}, \"name\": \"Memphis Grizzlies\", \"offsetgroup\": \"Memphis Grizzlies\", \"orientation\": \"h\", \"showlegend\": true, \"textposition\": \"auto\", \"type\": \"bar\", \"x\": [2], \"xaxis\": \"x\", \"y\": [\"Memphis Grizzlies\"], \"yaxis\": \"y\"}, {\"alignmentgroup\": \"True\", \"hovertemplate\": \"Team=%{y}<br>n_games=%{x}<extra></extra>\", \"legendgroup\": \"Minnesota Timberwolves\", \"marker\": {\"color\": \"#236193\"}, \"name\": \"Minnesota Timberwolves\", \"offsetgroup\": \"Minnesota Timberwolves\", \"orientation\": \"h\", \"showlegend\": true, \"textposition\": \"auto\", \"type\": \"bar\", \"x\": [3], \"xaxis\": \"x\", \"y\": [\"Minnesota Timberwolves\"], \"yaxis\": \"y\"}, {\"alignmentgroup\": \"True\", \"hovertemplate\": \"Team=%{y}<br>n_games=%{x}<extra></extra>\", \"legendgroup\": \"Denver Nuggets\", \"marker\": {\"color\": \"#0F2340\"}, \"name\": \"Denver Nuggets\", \"offsetgroup\": \"Denver Nuggets\", \"orientation\": \"h\", \"showlegend\": true, \"textposition\": \"auto\", \"type\": \"bar\", \"x\": [2], \"xaxis\": \"x\", \"y\": [\"Denver Nuggets\"], \"yaxis\": \"y\"}, {\"alignmentgroup\": \"True\", \"hovertemplate\": \"Team=%{y}<br>n_games=%{x}<extra></extra>\", \"legendgroup\": \"Portland Trail Blazers\", \"marker\": {\"color\": \"#000000\"}, \"name\": \"Portland Trail Blazers\", \"offsetgroup\": \"Portland Trail Blazers\", \"orientation\": \"h\", \"showlegend\": true, \"textposition\": \"auto\", \"type\": \"bar\", \"x\": [2], \"xaxis\": \"x\", \"y\": [\"Portland Trail Blazers\"], \"yaxis\": \"y\"}, {\"alignmentgroup\": \"True\", \"hovertemplate\": \"Team=%{y}<br>n_games=%{x}<extra></extra>\", \"legendgroup\": \"Phoenix Suns\", \"marker\": {\"color\": \"#1F1861\"}, \"name\": \"Phoenix Suns\", \"offsetgroup\": \"Phoenix Suns\", \"orientation\": \"h\", \"showlegend\": true, \"textposition\": \"auto\", \"type\": \"bar\", \"x\": [3], \"xaxis\": \"x\", \"y\": [\"Phoenix Suns\"], \"yaxis\": \"y\"}, {\"alignmentgroup\": \"True\", \"hovertemplate\": \"Team=%{y}<br>n_games=%{x}<extra></extra>\", \"legendgroup\": \"Miami Heat\", \"marker\": {\"color\": \"#000000\"}, \"name\": \"Miami Heat\", \"offsetgroup\": \"Miami Heat\", \"orientation\": \"h\", \"showlegend\": true, \"textposition\": \"auto\", \"type\": \"bar\", \"x\": [2], \"xaxis\": \"x\", \"y\": [\"Miami Heat\"], \"yaxis\": \"y\"}, {\"alignmentgroup\": \"True\", \"hovertemplate\": \"Team=%{y}<br>n_games=%{x}<extra></extra>\", \"legendgroup\": \"Milwaukee Bucks\", \"marker\": {\"color\": \"#2D5234\"}, \"name\": \"Milwaukee Bucks\", \"offsetgroup\": \"Milwaukee Bucks\", \"orientation\": \"h\", \"showlegend\": true, \"textposition\": \"auto\", \"type\": \"bar\", \"x\": [3], \"xaxis\": \"x\", \"y\": [\"Milwaukee Bucks\"], \"yaxis\": \"y\"}, {\"alignmentgroup\": \"True\", \"hovertemplate\": \"Team=%{y}<br>n_games=%{x}<extra></extra>\", \"legendgroup\": \"Charlotte Hornets\", \"marker\": {\"color\": \"#3B8DAA\"}, \"name\": \"Charlotte Hornets\", \"offsetgroup\": \"Charlotte Hornets\", \"orientation\": \"h\", \"showlegend\": true, \"textposition\": \"auto\", \"type\": \"bar\", \"x\": [3], \"xaxis\": \"x\", \"y\": [\"Charlotte Hornets\"], \"yaxis\": \"y\"}, {\"alignmentgroup\": \"True\", \"hovertemplate\": \"Team=%{y}<br>n_games=%{x}<extra></extra>\", \"legendgroup\": \"Detroit Pistons\", \"marker\": {\"color\": \"#0C519A\"}, \"name\": \"Detroit Pistons\", \"offsetgroup\": \"Detroit Pistons\", \"orientation\": \"h\", \"showlegend\": true, \"textposition\": \"auto\", \"type\": \"bar\", \"x\": [2], \"xaxis\": \"x\", \"y\": [\"Detroit Pistons\"], \"yaxis\": \"y\"}, {\"alignmentgroup\": \"True\", \"hovertemplate\": \"Team=%{y}<br>n_games=%{x}<extra></extra>\", \"legendgroup\": \"Washington Wizards\", \"marker\": {\"color\": \"#C73531\"}, \"name\": \"Washington Wizards\", \"offsetgroup\": \"Washington Wizards\", \"orientation\": \"h\", \"showlegend\": true, \"textposition\": \"auto\", \"type\": \"bar\", \"x\": [3], \"xaxis\": \"x\", \"y\": [\"Washington Wizards\"], \"yaxis\": \"y\"}, {\"alignmentgroup\": \"True\", \"hovertemplate\": \"Team=%{y}<br>n_games=%{x}<extra></extra>\", \"legendgroup\": \"New York Knicks\", \"marker\": {\"color\": \"#0C54A0\"}, \"name\": \"New York Knicks\", \"offsetgroup\": \"New York Knicks\", \"orientation\": \"h\", \"showlegend\": true, \"textposition\": \"auto\", \"type\": \"bar\", \"x\": [3], \"xaxis\": \"x\", \"y\": [\"New York Knicks\"], \"yaxis\": \"y\"}, {\"alignmentgroup\": \"True\", \"hovertemplate\": \"Team=%{y}<br>n_games=%{x}<extra></extra>\", \"legendgroup\": \"San Antonio Spurs\", \"marker\": {\"color\": \"#000000\"}, \"name\": \"San Antonio Spurs\", \"offsetgroup\": \"San Antonio Spurs\", \"orientation\": \"h\", \"showlegend\": true, \"textposition\": \"auto\", \"type\": \"bar\", \"x\": [3], \"xaxis\": \"x\", \"y\": [\"San Antonio Spurs\"], \"yaxis\": \"y\"}, {\"alignmentgroup\": \"True\", \"hovertemplate\": \"Team=%{y}<br>n_games=%{x}<extra></extra>\", \"legendgroup\": \"Utah Jazz\", \"marker\": {\"color\": \"#00275E\"}, \"name\": \"Utah Jazz\", \"offsetgroup\": \"Utah Jazz\", \"orientation\": \"h\", \"showlegend\": true, \"textposition\": \"auto\", \"type\": \"bar\", \"x\": [2], \"xaxis\": \"x\", \"y\": [\"Utah Jazz\"], \"yaxis\": \"y\"}, {\"alignmentgroup\": \"True\", \"hovertemplate\": \"Team=%{y}<br>n_games=%{x}<extra></extra>\", \"legendgroup\": \"Sacramento Kings\", \"marker\": {\"color\": \"#393997\"}, \"name\": \"Sacramento Kings\", \"offsetgroup\": \"Sacramento Kings\", \"orientation\": \"h\", \"showlegend\": true, \"textposition\": \"auto\", \"type\": \"bar\", \"x\": [3], \"xaxis\": \"x\", \"y\": [\"Sacramento Kings\"], \"yaxis\": \"y\"}, {\"alignmentgroup\": \"True\", \"hovertemplate\": \"Team=%{y}<br>n_games=%{x}<extra></extra>\", \"legendgroup\": \"Los Angeles Clippers\", \"marker\": {\"color\": \"#D73932\"}, \"name\": \"Los Angeles Clippers\", \"offsetgroup\": \"Los Angeles Clippers\", \"orientation\": \"h\", \"showlegend\": true, \"textposition\": \"auto\", \"type\": \"bar\", \"x\": [3], \"xaxis\": \"x\", \"y\": [\"Los Angeles Clippers\"], \"yaxis\": \"y\"}, {\"alignmentgroup\": \"True\", \"hovertemplate\": \"Team=%{y}<br>n_games=%{x}<extra></extra>\", \"legendgroup\": \"New Orleans Pelicans\", \"marker\": {\"color\": \"#0C2340\"}, \"name\": \"New Orleans Pelicans\", \"offsetgroup\": \"New Orleans Pelicans\", \"orientation\": \"h\", \"showlegend\": true, \"textposition\": \"auto\", \"type\": \"bar\", \"x\": [3], \"xaxis\": \"x\", \"y\": [\"New Orleans Pelicans\"], \"yaxis\": \"y\"}, {\"alignmentgroup\": \"True\", \"hovertemplate\": \"Team=%{y}<br>n_games=%{x}<extra></extra>\", \"legendgroup\": \"Golden State Warriors\", \"marker\": {\"color\": \"#0D529C\"}, \"name\": \"Golden State Warriors\", \"offsetgroup\": \"Golden State Warriors\", \"orientation\": \"h\", \"showlegend\": true, \"textposition\": \"auto\", \"type\": \"bar\", \"x\": [3], \"xaxis\": \"x\", \"y\": [\"Golden State Warriors\"], \"yaxis\": \"y\"}, {\"alignmentgroup\": \"True\", \"hovertemplate\": \"Team=%{y}<br>n_games=%{x}<extra></extra>\", \"legendgroup\": \"Atlanta Hawks\", \"marker\": {\"color\": \"#636efa\"}, \"name\": \"Atlanta Hawks\", \"offsetgroup\": \"Atlanta Hawks\", \"orientation\": \"h\", \"showlegend\": true, \"textposition\": \"auto\", \"type\": \"bar\", \"x\": [2], \"xaxis\": \"x\", \"y\": [\"Atlanta Hawks\"], \"yaxis\": \"y\"}, {\"alignmentgroup\": \"True\", \"hovertemplate\": \"Team=%{y}<br>n_games=%{x}<extra></extra>\", \"legendgroup\": \"Dallas Mavericks\", \"marker\": {\"color\": \"#0157B8\"}, \"name\": \"Dallas Mavericks\", \"offsetgroup\": \"Dallas Mavericks\", \"orientation\": \"h\", \"showlegend\": true, \"textposition\": \"auto\", \"type\": \"bar\", \"x\": [3], \"xaxis\": \"x\", \"y\": [\"Dallas Mavericks\"], \"yaxis\": \"y\"}, {\"alignmentgroup\": \"True\", \"hovertemplate\": \"Team=%{y}<br>n_games=%{x}<extra></extra>\", \"legendgroup\": \"Oklahoma City Thunder\", \"marker\": {\"color\": \"#297CC2\"}, \"name\": \"Oklahoma City Thunder\", \"offsetgroup\": \"Oklahoma City Thunder\", \"orientation\": \"h\", \"showlegend\": true, \"textposition\": \"auto\", \"type\": \"bar\", \"x\": [1], \"xaxis\": \"x\", \"y\": [\"Oklahoma City Thunder\"], \"yaxis\": \"y\"}, {\"alignmentgroup\": \"True\", \"hovertemplate\": \"Team=%{y}<br>n_games=%{x}<extra></extra>\", \"legendgroup\": \"Houston Rockets\", \"marker\": {\"color\": \"#DA3A2F\"}, \"name\": \"Houston Rockets\", \"offsetgroup\": \"Houston Rockets\", \"orientation\": \"h\", \"showlegend\": true, \"textposition\": \"auto\", \"type\": \"bar\", \"x\": [1], \"xaxis\": \"x\", \"y\": [\"Houston Rockets\"], \"yaxis\": \"y\"}],                        {\"barmode\": \"relative\", \"height\": 800, \"legend\": {\"title\": {\"text\": \"Team\"}, \"tracegroupgap\": 0}, \"margin\": {\"t\": 60}, \"template\": {\"data\": {\"bar\": [{\"error_x\": {\"color\": \"#2a3f5f\"}, \"error_y\": {\"color\": \"#2a3f5f\"}, \"marker\": {\"line\": {\"color\": \"#E5ECF6\", \"width\": 0.5}}, \"type\": \"bar\"}], \"barpolar\": [{\"marker\": {\"line\": {\"color\": \"#E5ECF6\", \"width\": 0.5}}, \"type\": \"barpolar\"}], \"carpet\": [{\"aaxis\": {\"endlinecolor\": \"#2a3f5f\", \"gridcolor\": \"white\", \"linecolor\": \"white\", \"minorgridcolor\": \"white\", \"startlinecolor\": \"#2a3f5f\"}, \"baxis\": {\"endlinecolor\": \"#2a3f5f\", \"gridcolor\": \"white\", \"linecolor\": \"white\", \"minorgridcolor\": \"white\", \"startlinecolor\": \"#2a3f5f\"}, \"type\": \"carpet\"}], \"choropleth\": [{\"colorbar\": {\"outlinewidth\": 0, \"ticks\": \"\"}, \"type\": \"choropleth\"}], \"contour\": [{\"colorbar\": {\"outlinewidth\": 0, \"ticks\": \"\"}, \"colorscale\": [[0.0, \"#0d0887\"], [0.1111111111111111, \"#46039f\"], [0.2222222222222222, \"#7201a8\"], [0.3333333333333333, \"#9c179e\"], [0.4444444444444444, \"#bd3786\"], [0.5555555555555556, \"#d8576b\"], [0.6666666666666666, \"#ed7953\"], [0.7777777777777778, \"#fb9f3a\"], [0.8888888888888888, \"#fdca26\"], [1.0, \"#f0f921\"]], \"type\": \"contour\"}], \"contourcarpet\": [{\"colorbar\": {\"outlinewidth\": 0, \"ticks\": \"\"}, \"type\": \"contourcarpet\"}], \"heatmap\": [{\"colorbar\": {\"outlinewidth\": 0, \"ticks\": \"\"}, \"colorscale\": [[0.0, \"#0d0887\"], [0.1111111111111111, \"#46039f\"], [0.2222222222222222, \"#7201a8\"], [0.3333333333333333, \"#9c179e\"], [0.4444444444444444, \"#bd3786\"], [0.5555555555555556, \"#d8576b\"], [0.6666666666666666, \"#ed7953\"], [0.7777777777777778, \"#fb9f3a\"], [0.8888888888888888, \"#fdca26\"], [1.0, \"#f0f921\"]], \"type\": \"heatmap\"}], \"heatmapgl\": [{\"colorbar\": {\"outlinewidth\": 0, \"ticks\": \"\"}, \"colorscale\": [[0.0, \"#0d0887\"], [0.1111111111111111, \"#46039f\"], [0.2222222222222222, \"#7201a8\"], [0.3333333333333333, \"#9c179e\"], [0.4444444444444444, \"#bd3786\"], [0.5555555555555556, \"#d8576b\"], [0.6666666666666666, \"#ed7953\"], [0.7777777777777778, \"#fb9f3a\"], [0.8888888888888888, \"#fdca26\"], [1.0, \"#f0f921\"]], \"type\": \"heatmapgl\"}], \"histogram\": [{\"marker\": {\"colorbar\": {\"outlinewidth\": 0, \"ticks\": \"\"}}, \"type\": \"histogram\"}], \"histogram2d\": [{\"colorbar\": {\"outlinewidth\": 0, \"ticks\": \"\"}, \"colorscale\": [[0.0, \"#0d0887\"], [0.1111111111111111, \"#46039f\"], [0.2222222222222222, \"#7201a8\"], [0.3333333333333333, \"#9c179e\"], [0.4444444444444444, \"#bd3786\"], [0.5555555555555556, \"#d8576b\"], [0.6666666666666666, \"#ed7953\"], [0.7777777777777778, \"#fb9f3a\"], [0.8888888888888888, \"#fdca26\"], [1.0, \"#f0f921\"]], \"type\": \"histogram2d\"}], \"histogram2dcontour\": [{\"colorbar\": {\"outlinewidth\": 0, \"ticks\": \"\"}, \"colorscale\": [[0.0, \"#0d0887\"], [0.1111111111111111, \"#46039f\"], [0.2222222222222222, \"#7201a8\"], [0.3333333333333333, \"#9c179e\"], [0.4444444444444444, \"#bd3786\"], [0.5555555555555556, \"#d8576b\"], [0.6666666666666666, \"#ed7953\"], [0.7777777777777778, \"#fb9f3a\"], [0.8888888888888888, \"#fdca26\"], [1.0, \"#f0f921\"]], \"type\": \"histogram2dcontour\"}], \"mesh3d\": [{\"colorbar\": {\"outlinewidth\": 0, \"ticks\": \"\"}, \"type\": \"mesh3d\"}], \"parcoords\": [{\"line\": {\"colorbar\": {\"outlinewidth\": 0, \"ticks\": \"\"}}, \"type\": \"parcoords\"}], \"pie\": [{\"automargin\": true, \"type\": \"pie\"}], \"scatter\": [{\"marker\": {\"colorbar\": {\"outlinewidth\": 0, \"ticks\": \"\"}}, \"type\": \"scatter\"}], \"scatter3d\": [{\"line\": {\"colorbar\": {\"outlinewidth\": 0, \"ticks\": \"\"}}, \"marker\": {\"colorbar\": {\"outlinewidth\": 0, \"ticks\": \"\"}}, \"type\": \"scatter3d\"}], \"scattercarpet\": [{\"marker\": {\"colorbar\": {\"outlinewidth\": 0, \"ticks\": \"\"}}, \"type\": \"scattercarpet\"}], \"scattergeo\": [{\"marker\": {\"colorbar\": {\"outlinewidth\": 0, \"ticks\": \"\"}}, \"type\": \"scattergeo\"}], \"scattergl\": [{\"marker\": {\"colorbar\": {\"outlinewidth\": 0, \"ticks\": \"\"}}, \"type\": \"scattergl\"}], \"scattermapbox\": [{\"marker\": {\"colorbar\": {\"outlinewidth\": 0, \"ticks\": \"\"}}, \"type\": \"scattermapbox\"}], \"scatterpolar\": [{\"marker\": {\"colorbar\": {\"outlinewidth\": 0, \"ticks\": \"\"}}, \"type\": \"scatterpolar\"}], \"scatterpolargl\": [{\"marker\": {\"colorbar\": {\"outlinewidth\": 0, \"ticks\": \"\"}}, \"type\": \"scatterpolargl\"}], \"scatterternary\": [{\"marker\": {\"colorbar\": {\"outlinewidth\": 0, \"ticks\": \"\"}}, \"type\": \"scatterternary\"}], \"surface\": [{\"colorbar\": {\"outlinewidth\": 0, \"ticks\": \"\"}, \"colorscale\": [[0.0, \"#0d0887\"], [0.1111111111111111, \"#46039f\"], [0.2222222222222222, \"#7201a8\"], [0.3333333333333333, \"#9c179e\"], [0.4444444444444444, \"#bd3786\"], [0.5555555555555556, \"#d8576b\"], [0.6666666666666666, \"#ed7953\"], [0.7777777777777778, \"#fb9f3a\"], [0.8888888888888888, \"#fdca26\"], [1.0, \"#f0f921\"]], \"type\": \"surface\"}], \"table\": [{\"cells\": {\"fill\": {\"color\": \"#EBF0F8\"}, \"line\": {\"color\": \"white\"}}, \"header\": {\"fill\": {\"color\": \"#C8D4E3\"}, \"line\": {\"color\": \"white\"}}, \"type\": \"table\"}]}, \"layout\": {\"annotationdefaults\": {\"arrowcolor\": \"#2a3f5f\", \"arrowhead\": 0, \"arrowwidth\": 1}, \"autotypenumbers\": \"strict\", \"coloraxis\": {\"colorbar\": {\"outlinewidth\": 0, \"ticks\": \"\"}}, \"colorscale\": {\"diverging\": [[0, \"#8e0152\"], [0.1, \"#c51b7d\"], [0.2, \"#de77ae\"], [0.3, \"#f1b6da\"], [0.4, \"#fde0ef\"], [0.5, \"#f7f7f7\"], [0.6, \"#e6f5d0\"], [0.7, \"#b8e186\"], [0.8, \"#7fbc41\"], [0.9, \"#4d9221\"], [1, \"#276419\"]], \"sequential\": [[0.0, \"#0d0887\"], [0.1111111111111111, \"#46039f\"], [0.2222222222222222, \"#7201a8\"], [0.3333333333333333, \"#9c179e\"], [0.4444444444444444, \"#bd3786\"], [0.5555555555555556, \"#d8576b\"], [0.6666666666666666, \"#ed7953\"], [0.7777777777777778, \"#fb9f3a\"], [0.8888888888888888, \"#fdca26\"], [1.0, \"#f0f921\"]], \"sequentialminus\": [[0.0, \"#0d0887\"], [0.1111111111111111, \"#46039f\"], [0.2222222222222222, \"#7201a8\"], [0.3333333333333333, \"#9c179e\"], [0.4444444444444444, \"#bd3786\"], [0.5555555555555556, \"#d8576b\"], [0.6666666666666666, \"#ed7953\"], [0.7777777777777778, \"#fb9f3a\"], [0.8888888888888888, \"#fdca26\"], [1.0, \"#f0f921\"]]}, \"colorway\": [\"#636efa\", \"#EF553B\", \"#00cc96\", \"#ab63fa\", \"#FFA15A\", \"#19d3f3\", \"#FF6692\", \"#B6E880\", \"#FF97FF\", \"#FECB52\"], \"font\": {\"color\": \"#2a3f5f\"}, \"geo\": {\"bgcolor\": \"white\", \"lakecolor\": \"white\", \"landcolor\": \"#E5ECF6\", \"showlakes\": true, \"showland\": true, \"subunitcolor\": \"white\"}, \"hoverlabel\": {\"align\": \"left\"}, \"hovermode\": \"closest\", \"mapbox\": {\"style\": \"light\"}, \"paper_bgcolor\": \"white\", \"plot_bgcolor\": \"#E5ECF6\", \"polar\": {\"angularaxis\": {\"gridcolor\": \"white\", \"linecolor\": \"white\", \"ticks\": \"\"}, \"bgcolor\": \"#E5ECF6\", \"radialaxis\": {\"gridcolor\": \"white\", \"linecolor\": \"white\", \"ticks\": \"\"}}, \"scene\": {\"xaxis\": {\"backgroundcolor\": \"#E5ECF6\", \"gridcolor\": \"white\", \"gridwidth\": 2, \"linecolor\": \"white\", \"showbackground\": true, \"ticks\": \"\", \"zerolinecolor\": \"white\"}, \"yaxis\": {\"backgroundcolor\": \"#E5ECF6\", \"gridcolor\": \"white\", \"gridwidth\": 2, \"linecolor\": \"white\", \"showbackground\": true, \"ticks\": \"\", \"zerolinecolor\": \"white\"}, \"zaxis\": {\"backgroundcolor\": \"#E5ECF6\", \"gridcolor\": \"white\", \"gridwidth\": 2, \"linecolor\": \"white\", \"showbackground\": true, \"ticks\": \"\", \"zerolinecolor\": \"white\"}}, \"shapedefaults\": {\"line\": {\"color\": \"#2a3f5f\"}}, \"ternary\": {\"aaxis\": {\"gridcolor\": \"white\", \"linecolor\": \"white\", \"ticks\": \"\"}, \"baxis\": {\"gridcolor\": \"white\", \"linecolor\": \"white\", \"ticks\": \"\"}, \"bgcolor\": \"#E5ECF6\", \"caxis\": {\"gridcolor\": \"white\", \"linecolor\": \"white\", \"ticks\": \"\"}}, \"title\": {\"x\": 0.05}, \"xaxis\": {\"automargin\": true, \"gridcolor\": \"white\", \"linecolor\": \"white\", \"ticks\": \"\", \"title\": {\"standoff\": 15}, \"zerolinecolor\": \"white\", \"zerolinewidth\": 2}, \"yaxis\": {\"automargin\": true, \"gridcolor\": \"white\", \"linecolor\": \"white\", \"ticks\": \"\", \"title\": {\"standoff\": 15}, \"zerolinecolor\": \"white\", \"zerolinewidth\": 2}}}, \"width\": 1000, \"xaxis\": {\"anchor\": \"y\", \"domain\": [0.0, 1.0], \"tickvals\": [1, 2, 3, 4], \"title\": {\"text\": \"Number of Games\"}}, \"yaxis\": {\"anchor\": \"x\", \"categoryarray\": [\"Houston Rockets\", \"Oklahoma City Thunder\", \"Dallas Mavericks\", \"Atlanta Hawks\", \"Golden State Warriors\", \"New Orleans Pelicans\", \"Los Angeles Clippers\", \"Sacramento Kings\", \"Utah Jazz\", \"San Antonio Spurs\", \"New York Knicks\", \"Washington Wizards\", \"Detroit Pistons\", \"Charlotte Hornets\", \"Milwaukee Bucks\", \"Miami Heat\", \"Phoenix Suns\", \"Portland Trail Blazers\", \"Denver Nuggets\", \"Minnesota Timberwolves\", \"Memphis Grizzlies\", \"Chicago Bulls\", \"Boston Celtics\", \"Toronto Raptors\", \"Philadelphia 76ers\", \"Orlando Magic\", \"Indiana Pacers\", \"Cleveland Cavaliers\", \"Los Angeles Lakers\", \"Brooklyn Nets\"], \"categoryorder\": \"array\", \"domain\": [0.0, 1.0], \"title\": {\"text\": \"Team\"}}},                        {\"responsive\": true}                    ).then(function(){\n",
       "                            \n",
       "var gd = document.getElementById('5bd68b35-e20c-44c9-a2d6-d6881ec00bc0');\n",
       "var x = new MutationObserver(function (mutations, observer) {{\n",
       "        var display = window.getComputedStyle(gd).display;\n",
       "        if (!display || display === 'none') {{\n",
       "            console.log([gd, 'removed!']);\n",
       "            Plotly.purge(gd);\n",
       "            observer.disconnect();\n",
       "        }}\n",
       "}});\n",
       "\n",
       "// Listen for the removal of the full notebook cells\n",
       "var notebookContainer = gd.closest('#notebook-container');\n",
       "if (notebookContainer) {{\n",
       "    x.observe(notebookContainer, {childList: true});\n",
       "}}\n",
       "\n",
       "// Listen for the clearing of the current output cell\n",
       "var outputEl = gd.closest('.output');\n",
       "if (outputEl) {{\n",
       "    x.observe(outputEl, {childList: true});\n",
       "}}\n",
       "\n",
       "                        })                };                });            </script>        </div>"
      ]
     },
     "metadata": {},
     "output_type": "display_data"
    }
   ],
   "source": [
    "fig = px.bar(data, x='n_games', y='Team', orientation='h', color='Team',\n",
    "             color_discrete_map=color_discrete_map)\n",
    "fig.update_layout(width=1000, height=800, xaxis=dict(title_text='Number of Games',\n",
    "                                                     tickvals=[1, 2, 3, 4]))\n",
    "fig.show()"
   ]
  },
  {
   "cell_type": "code",
   "execution_count": null,
   "metadata": {},
   "outputs": [],
   "source": []
  }
 ],
 "metadata": {
  "kernelspec": {
   "display_name": "Python 3",
   "language": "python",
   "name": "python3"
  },
  "language_info": {
   "codemirror_mode": {
    "name": "ipython",
    "version": 3
   },
   "file_extension": ".py",
   "mimetype": "text/x-python",
   "name": "python",
   "nbconvert_exporter": "python",
   "pygments_lexer": "ipython3",
   "version": "3.7.4"
  }
 },
 "nbformat": 4,
 "nbformat_minor": 4
}
